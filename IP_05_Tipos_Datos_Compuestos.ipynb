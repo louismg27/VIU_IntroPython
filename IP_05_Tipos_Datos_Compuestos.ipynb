{
 "cells": [
  {
   "cell_type": "markdown",
   "id": "controlling-fleet",
   "metadata": {},
   "source": [
    "<img src=\"img/viu_logo.png\" width=\"200\"><img src=\"img/python_logo.png\" width=\"250\"> *Mario Cervera*"
   ]
  },
  {
   "cell_type": "markdown",
   "id": "otherwise-interference",
   "metadata": {},
   "source": [
    "# Tipos de datos compuestos (colecciones)"
   ]
  },
  {
   "cell_type": "markdown",
   "id": "invisible-figure",
   "metadata": {},
   "source": [
    "### En la unidad temática anterior ..."
   ]
  },
  {
   "cell_type": "markdown",
   "id": "dietary-expansion",
   "metadata": {},
   "source": [
    "* Expresiones literales.\n",
    "   * Simples.\n",
    "   * Compuestos.\n",
    "* Variables.\n",
    "* Tipos de datos básicos.\n",
    "   * Bool.\n",
    "   * Int.\n",
    "   * String.\n",
    "* Operadores.\n",
    "   * Aritméticos (+, -, *, ...).\n",
    "   * Comparación (<, >, ==, ...).\n",
    "   * Lógicos (and, or, not).\n",
    "   * Asignación (=, +=, -=, ...).\n",
    "   * Identidad (is, is not).\n",
    "   * Pertenencia (in, not in)."
   ]
  },
  {
   "cell_type": "markdown",
   "id": "played-jordan",
   "metadata": {},
   "source": [
    "### En esta unidad temática ..."
   ]
  },
  {
   "cell_type": "markdown",
   "id": "digital-shield",
   "metadata": {},
   "source": [
    "* Listas.\n",
    "* Diccionarios.\n",
    "* Conjuntos (sets).\n",
    "* Tuplas."
   ]
  },
  {
   "cell_type": "markdown",
   "id": "caroline-sentence",
   "metadata": {},
   "source": [
    "## Listas\n",
    "\n",
    "* Una colección de objetos.\n",
    "* Mutables.\n",
    "* Tipos arbitrarios.\n",
    "* Puede contener duplicados.\n",
    "* No tienen tamaño fijo. Pueden contener tantos elementos como quepan en memoria.\n",
    "* Los elementos van ordenados por posición.\n",
    "* Se acceden usando la sintaxis: **[index]**.\n",
    "* Los índices van de *0* a *n-1*, donde *n* es el número de elementos de la lista.\n",
    "* Son un tipo de *Secuencia*, al igual que los strings; por lo tanto, el orden (es decir, la posición de los objetos de la lista) es importante.\n",
    "* Soportan anidamiento.\n",
    "* Son una implementación del tipo abstracto de datos: *Array Dinámico*."
   ]
  },
  {
   "cell_type": "markdown",
   "id": "living-vienna",
   "metadata": {},
   "source": [
    "<img src=\"img/TiposCompuestos/list.png\" width=\"800\">"
   ]
  },
  {
   "cell_type": "markdown",
   "id": "sharing-coffee",
   "metadata": {
    "tags": []
   },
   "source": [
    "#### Operaciones con listas"
   ]
  },
  {
   "cell_type": "markdown",
   "id": "built-blood",
   "metadata": {},
   "source": [
    "* Creación de listas."
   ]
  },
  {
   "cell_type": "code",
   "execution_count": null,
   "id": "visible-reader",
   "metadata": {},
   "outputs": [],
   "source": [
    "letras = ['a', 'b', 'c', 'd']\n",
    "palabras = 'Hola mundo'.split()\n",
    "numeros = list(range(5))\n",
    "\n",
    "print(letras)\n",
    "print(palabras)\n",
    "print(numeros)\n",
    "print(type(numeros))"
   ]
  },
  {
   "cell_type": "code",
   "execution_count": null,
   "id": "heavy-wages",
   "metadata": {},
   "outputs": [],
   "source": [
    "# Pueden contener elementos arbitrarios\n",
    "\n",
    "mezcla = [1, 3.4, 'a', None, False]\n",
    "print(mezcla)"
   ]
  },
  {
   "cell_type": "code",
   "execution_count": null,
   "id": "legal-intention",
   "metadata": {},
   "outputs": [],
   "source": [
    "# Pueden incluso contener objetos más \"complejos\"\n",
    "\n",
    "lista_con_funcion = [1, 2, len]\n",
    "print(lista_con_funcion)"
   ]
  },
  {
   "cell_type": "code",
   "execution_count": null,
   "id": "tribal-stroke",
   "metadata": {},
   "outputs": [],
   "source": [
    "# Pueden contener duplicados\n",
    "\n",
    "lista_con_duplicados = [1, 2, 3, 3, 3, 4]\n",
    "print(lista_con_duplicados)"
   ]
  },
  {
   "cell_type": "markdown",
   "id": "monthly-violin",
   "metadata": {},
   "source": [
    "* Obtención de la longitud de una lista."
   ]
  },
  {
   "cell_type": "code",
   "execution_count": null,
   "id": "registered-basic",
   "metadata": {},
   "outputs": [],
   "source": [
    "letras = ['a', 'b', 'c', 'd']\n",
    "print(len(letras))"
   ]
  },
  {
   "cell_type": "markdown",
   "id": "permanent-relief",
   "metadata": {},
   "source": [
    "* Acceso a un elemento de una lista"
   ]
  },
  {
   "cell_type": "code",
   "execution_count": null,
   "id": "ready-sentence",
   "metadata": {},
   "outputs": [],
   "source": [
    "print(letras[2])\n",
    "print(letras[-1])"
   ]
  },
  {
   "cell_type": "markdown",
   "id": "adolescent-robin",
   "metadata": {},
   "source": [
    "* **Slicing**: obtención de un fragmento de una lista.\n",
    "\n",
    "    * Sintaxis:  *lista [ inicio : fin : paso ]*"
   ]
  },
  {
   "cell_type": "code",
   "execution_count": null,
   "id": "phantom-candle",
   "metadata": {},
   "outputs": [],
   "source": [
    "letras = ['a', 'b', 'c', 'd']\n",
    "\n",
    "print(letras[1:3])\n",
    "print(letras[:1])\n",
    "print(letras[:-1])\n",
    "print(letras[2:])\n",
    "print(letras[:])\n",
    "print(letras[::2])"
   ]
  },
  {
   "cell_type": "markdown",
   "id": "chief-pittsburgh",
   "metadata": {},
   "source": [
    "* Añadir un elemento al final de la lista"
   ]
  },
  {
   "cell_type": "code",
   "execution_count": null,
   "id": "conditional-nigeria",
   "metadata": {},
   "outputs": [],
   "source": [
    "letras.append('e')\n",
    "print(letras)"
   ]
  },
  {
   "cell_type": "markdown",
   "id": "thirty-stupid",
   "metadata": {},
   "source": [
    "* Insertar en posición."
   ]
  },
  {
   "cell_type": "code",
   "execution_count": null,
   "id": "reasonable-adams",
   "metadata": {},
   "outputs": [],
   "source": [
    "letras.insert(1,'b')\n",
    "print(letras)"
   ]
  },
  {
   "cell_type": "markdown",
   "id": "listed-emperor",
   "metadata": {},
   "source": [
    "* Modificación de la lista (individual)."
   ]
  },
  {
   "cell_type": "code",
   "execution_count": null,
   "id": "eastern-uncertainty",
   "metadata": {},
   "outputs": [],
   "source": [
    "letras[5] = 'f'\n",
    "print(letras)"
   ]
  },
  {
   "cell_type": "markdown",
   "id": "other-manchester",
   "metadata": {},
   "source": [
    "* Modificación múltiple usando slicing."
   ]
  },
  {
   "cell_type": "code",
   "execution_count": null,
   "id": "monetary-boulder",
   "metadata": {},
   "outputs": [],
   "source": [
    "letras[1:3] = ['z', 'z', 'z']\n",
    "print(letras)"
   ]
  },
  {
   "cell_type": "code",
   "execution_count": null,
   "id": "natural-coalition",
   "metadata": {},
   "outputs": [],
   "source": [
    "# Ojo con la diferencia entre modificación individual y múltiple. Asignación individual de lista crea anidamiento.\n",
    "\n",
    "numeros = [1, 2, 3]\n",
    "numeros[1] = [0, 0, 0]\n",
    "\n",
    "print(numeros)"
   ]
  },
  {
   "cell_type": "markdown",
   "id": "linear-mandate",
   "metadata": {},
   "source": [
    "* Eliminar un elemento."
   ]
  },
  {
   "cell_type": "code",
   "execution_count": null,
   "id": "minus-playback",
   "metadata": {},
   "outputs": [],
   "source": [
    "letras.remove('f')\n",
    "letras.remove('z')\n",
    "letras.remove('z')\n",
    "print(letras)"
   ]
  },
  {
   "cell_type": "markdown",
   "id": "configured-exhibition",
   "metadata": {},
   "source": [
    "* Encontrar índice de un elemento."
   ]
  },
  {
   "cell_type": "code",
   "execution_count": null,
   "id": "broken-adult",
   "metadata": {},
   "outputs": [],
   "source": [
    "letras = ['a', 'b', 'c', 'd']\n",
    "print(letras.index('c'))"
   ]
  },
  {
   "cell_type": "markdown",
   "id": "stunning-folder",
   "metadata": {},
   "source": [
    "* Concatenar listas."
   ]
  },
  {
   "cell_type": "code",
   "execution_count": null,
   "id": "suffering-worthy",
   "metadata": {},
   "outputs": [],
   "source": [
    "lacteos = ['queso', 'leche']\n",
    "frutas = ['naranja', 'manzana']\n",
    "print(lacteos + frutas)"
   ]
  },
  {
   "cell_type": "code",
   "execution_count": null,
   "id": "casual-authentication",
   "metadata": {},
   "outputs": [],
   "source": [
    "# Concatenación sin crear una nueva lista\n",
    "frutas.extend(['pera'])\n",
    "print(frutas)"
   ]
  },
  {
   "cell_type": "markdown",
   "id": "thick-segment",
   "metadata": {},
   "source": [
    "* Replicar una lista."
   ]
  },
  {
   "cell_type": "code",
   "execution_count": null,
   "id": "addressed-gilbert",
   "metadata": {},
   "outputs": [],
   "source": [
    "lacteos = ['queso', 'leche']\n",
    "print(lacteos * 3)"
   ]
  },
  {
   "cell_type": "markdown",
   "id": "unavailable-average",
   "metadata": {},
   "source": [
    "* Copiar una lista"
   ]
  },
  {
   "cell_type": "code",
   "execution_count": null,
   "id": "frank-colorado",
   "metadata": {},
   "outputs": [],
   "source": [
    "frutas2 = frutas.copy()\n",
    "print(frutas2)\n",
    "print('id frutas = ' + str(id(frutas)))\n",
    "print('id frutas2 = ' + str(id(frutas2)))"
   ]
  },
  {
   "cell_type": "markdown",
   "id": "wanted-insurance",
   "metadata": {},
   "source": [
    "* Ordenar una lista."
   ]
  },
  {
   "cell_type": "code",
   "execution_count": null,
   "id": "discrete-semiconductor",
   "metadata": {},
   "outputs": [],
   "source": [
    "lista = [4,3,8,1]\n",
    "lista.sort()\n",
    "print(lista)\n",
    "\n",
    "lista.sort(reverse=True)\n",
    "print(lista)"
   ]
  },
  {
   "cell_type": "code",
   "execution_count": null,
   "id": "detailed-fisher",
   "metadata": {},
   "outputs": [],
   "source": [
    "# Los elementos deben ser comparables para poderse ordenar\n",
    "\n",
    "lista = [1, 'a']\n",
    "lista.sort()"
   ]
  },
  {
   "cell_type": "markdown",
   "id": "elect-matthew",
   "metadata": {},
   "source": [
    "* Pertenencia."
   ]
  },
  {
   "cell_type": "code",
   "execution_count": null,
   "id": "wicked-buying",
   "metadata": {},
   "outputs": [],
   "source": [
    "lista = [1, 2, 3, 4]\n",
    "print(1 in lista)\n",
    "print(5 in lista)"
   ]
  },
  {
   "cell_type": "markdown",
   "id": "approved-catering",
   "metadata": {},
   "source": [
    "* Anidamiento."
   ]
  },
  {
   "cell_type": "code",
   "execution_count": null,
   "id": "married-distributor",
   "metadata": {},
   "outputs": [],
   "source": [
    "letras = ['a', 'b', 'c', ['x', 'y', ['i', 'j', 'k']]]\n",
    "print(letras[0])\n",
    "print(letras[3][0])\n",
    "print(letras[3][2][0])"
   ]
  },
  {
   "cell_type": "markdown",
   "id": "offensive-digest",
   "metadata": {},
   "source": [
    "<img src=\"img/TiposCompuestos/nestedlist.png\" width=\"900\">"
   ]
  },
  {
   "cell_type": "markdown",
   "id": "micro-timothy",
   "metadata": {},
   "source": [
    "## Diccionarios\n",
    "\n",
    "* Colección de parejas clave-valor.\n",
    "* Son mutables.\n",
    "* Claves:\n",
    "   * Cualquier objeto inmutable.\n",
    "   * Sólo pueden aparecer una vez en el diccionario.\n",
    "* Valores:\n",
    "   * Sin restricciones. Cualquier objeto (enteros, strings, listas, etc.) puede hacer de valor.\n",
    "* Desde la versión 3.7 están ordenados.\n",
    "* Se pueden ver como listas indexadas por cualquier objeto inmutable, no necesariamente por números enteros.\n",
    "* A diferencia de las listas, no son *secuencias*. Son *mappings*."
   ]
  },
  {
   "cell_type": "markdown",
   "id": "offensive-james",
   "metadata": {},
   "source": [
    "#### Operaciones con diccionarios"
   ]
  },
  {
   "cell_type": "markdown",
   "id": "hazardous-destination",
   "metadata": {},
   "source": [
    "* Creación de diccionarios."
   ]
  },
  {
   "cell_type": "code",
   "execution_count": null,
   "id": "increased-trace",
   "metadata": {},
   "outputs": [],
   "source": [
    "# Creación simple, usando una expresión literal.\n",
    "\n",
    "persona = {'DNI' : '11111111D', 'Nombre' : 'Carlos', 'Edad' : 34}\n",
    "print(persona)"
   ]
  },
  {
   "cell_type": "code",
   "execution_count": null,
   "id": "perceived-flavor",
   "metadata": {},
   "outputs": [],
   "source": [
    "# Creación uniendo dos colecciones.\n",
    "\n",
    "nombres = ['Pablo', 'Manolo', 'Pepe']\n",
    "edades = [52, 14, 65]\n",
    "\n",
    "datos = dict(zip(nombres,edades))\n",
    "print(datos)"
   ]
  },
  {
   "cell_type": "code",
   "execution_count": 1,
   "id": "immune-company",
   "metadata": {
    "tags": [],
    "ExecuteTime": {
     "start_time": "2023-05-14T11:56:06.202748Z",
     "end_time": "2023-05-14T11:56:06.207754Z"
    }
   },
   "outputs": [
    {
     "name": "stdout",
     "output_type": "stream",
     "text": [
      "{'nombre': 'Rosa', 'apellido': 'Garcia'}\n"
     ]
    }
   ],
   "source": [
    "# Creación pasando claves y valores a la función 'dict'.\n",
    "\n",
    "persona2 = dict(nombre='Rosa', apellido='Garcia')\n",
    "print(persona2)"
   ]
  },
  {
   "cell_type": "code",
   "execution_count": null,
   "id": "dated-terrorism",
   "metadata": {},
   "outputs": [],
   "source": [
    "# Creación usando una lista de tuplas de dos elementos.\n",
    "\n",
    "persona2 = dict([('nombre', 'Rosa'), ('apellido','Garcia')])\n",
    "print(persona2)"
   ]
  },
  {
   "cell_type": "code",
   "execution_count": null,
   "id": "obvious-frame",
   "metadata": {},
   "outputs": [],
   "source": [
    "# Creación incremental por medio de asignación (como las claves no existen, se crean nuevos items)\n",
    "\n",
    "persona = {}\n",
    "persona['DNI'] = '11111111D'\n",
    "persona['Nombre'] = 'Carlos'\n",
    "persona['Edad'] = 34\n",
    "\n",
    "print(persona)"
   ]
  },
  {
   "cell_type": "markdown",
   "id": "figured-bosnia",
   "metadata": {},
   "source": [
    "* Acceso a un valor a través de la clave."
   ]
  },
  {
   "cell_type": "code",
   "execution_count": null,
   "id": "moved-suspension",
   "metadata": {},
   "outputs": [],
   "source": [
    "persona = {'DNI' : '11111111D', 'Nombre' : 'Carlos', 'Edad' : 34}\n",
    "print(persona['Nombre'])"
   ]
  },
  {
   "cell_type": "code",
   "execution_count": null,
   "id": "vocational-charles",
   "metadata": {},
   "outputs": [],
   "source": [
    "# Acceso a claves inexistentes o por índice produce error\n",
    "\n",
    "#persona[1]\n",
    "persona['Trabajo']"
   ]
  },
  {
   "cell_type": "markdown",
   "id": "prepared-footwear",
   "metadata": {},
   "source": [
    "* Modificación de un valor a través de la clave."
   ]
  },
  {
   "cell_type": "code",
   "execution_count": null,
   "id": "shared-quest",
   "metadata": {},
   "outputs": [],
   "source": [
    "persona = {'DNI' : '11111111D', 'Nombre' : 'Carlos', 'Edad' : 34}\n",
    "persona['Nombre'] = 'Fernando'\n",
    "persona['Edad'] += 1\n",
    "\n",
    "print(persona)"
   ]
  },
  {
   "cell_type": "markdown",
   "id": "special-fiber",
   "metadata": {},
   "source": [
    "* Añadir un valor a través de la clave."
   ]
  },
  {
   "cell_type": "code",
   "execution_count": 3,
   "id": "strange-headquarters",
   "metadata": {
    "ExecuteTime": {
     "start_time": "2023-05-14T11:57:09.468191Z",
     "end_time": "2023-05-14T11:57:09.484759Z"
    }
   },
   "outputs": [
    {
     "name": "stdout",
     "output_type": "stream",
     "text": [
      "{'DNI': '11111111D', 'Nombre': 'Carlos', 'Edad': 34, 'Ciudad': 'Valencia'}\n"
     ]
    }
   ],
   "source": [
    "persona = {'DNI' : '11111111D', 'Nombre' : 'Carlos', 'Edad' : 34}\n",
    "persona['Ciudad'] = 'Valencia'\n",
    "\n",
    "print(persona)"
   ]
  },
  {
   "cell_type": "markdown",
   "id": "uniform-device",
   "metadata": {},
   "source": [
    "* Eliminación de un valor a través de la clave."
   ]
  },
  {
   "cell_type": "code",
   "execution_count": null,
   "id": "criminal-coffee",
   "metadata": {},
   "outputs": [],
   "source": [
    "del persona['Ciudad']\n",
    "value = persona.pop('Edad')\n",
    "\n",
    "print(persona)\n",
    "print(value)"
   ]
  },
  {
   "cell_type": "markdown",
   "id": "compressed-briefing",
   "metadata": {},
   "source": [
    "* Comprobación de existencia de clave."
   ]
  },
  {
   "cell_type": "code",
   "execution_count": 4,
   "id": "ignored-concert",
   "metadata": {
    "ExecuteTime": {
     "start_time": "2023-05-14T11:57:11.808629Z",
     "end_time": "2023-05-14T11:57:11.825138Z"
    }
   },
   "outputs": [
    {
     "name": "stdout",
     "output_type": "stream",
     "text": [
      "True\n",
      "False\n"
     ]
    }
   ],
   "source": [
    "print('Nombre' in persona)\n",
    "print('Apellido' in persona)"
   ]
  },
  {
   "cell_type": "markdown",
   "id": "mediterranean-found",
   "metadata": {},
   "source": [
    "* Recuperación del valor de una clave, indicando valor por defecto en caso de ausencia."
   ]
  },
  {
   "cell_type": "code",
   "execution_count": null,
   "id": "reflected-cheat",
   "metadata": {},
   "outputs": [],
   "source": [
    "persona = {'Nombre' : 'Carlos'}\n",
    "\n",
    "value = persona.get('Nombre')\n",
    "print(value)\n",
    "\n",
    "value = persona.get('Estatura', 180)\n",
    "print(value)"
   ]
  },
  {
   "cell_type": "markdown",
   "id": "standard-geography",
   "metadata": {},
   "source": [
    "* Anidamiento."
   ]
  },
  {
   "cell_type": "code",
   "execution_count": null,
   "id": "apparent-roller",
   "metadata": {},
   "outputs": [],
   "source": [
    "persona = {\n",
    "    'Trabajos' : ['desarrollador', 'gestor'],\n",
    "    'Direccion' : {'Calle' : 'Pintor Sorolla', 'Ciudad' : 'Valencia'}\n",
    "}\n",
    "\n",
    "print(persona['Direccion'])\n",
    "print(persona['Direccion']['Ciudad'])"
   ]
  },
  {
   "cell_type": "markdown",
   "id": "typical-nurse",
   "metadata": {},
   "source": [
    "* Métodos *items*, *keys* y *values*."
   ]
  },
  {
   "cell_type": "code",
   "execution_count": 5,
   "id": "revised-words",
   "metadata": {
    "ExecuteTime": {
     "start_time": "2023-05-14T11:58:13.062923Z",
     "end_time": "2023-05-14T11:58:13.077977Z"
    }
   },
   "outputs": [
    {
     "name": "stdout",
     "output_type": "stream",
     "text": [
      "[('DNI', '11111111D'), ('Nombre', 'Carlos'), ('Edad', 34)]\n",
      "['DNI', 'Nombre', 'Edad']\n",
      "['11111111D', 'Carlos', 34]\n"
     ]
    }
   ],
   "source": [
    "persona = {'DNI' : '11111111D', 'Nombre' : 'Carlos', 'Edad' : 34}\n",
    "\n",
    "print(list(persona.items()))\n",
    "print(list(persona.keys()))\n",
    "print(list(persona.values()))"
   ]
  },
  {
   "cell_type": "markdown",
   "id": "daily-machinery",
   "metadata": {},
   "source": [
    "## Sets (Conjuntos)\n",
    "\n",
    "Al igual que las listas:\n",
    "\n",
    "* Colección de elementos.\n",
    "* Tipos arbitrarios.\n",
    "* Mutables.\n",
    "* No tienen tamaño fijo. Pueden contener tantos elementos como quepan en memoria.\n",
    "\n",
    "A diferencia de las listas:\n",
    "\n",
    "* No puede tener duplicados.\n",
    "* Se definen por medio de llaves.\n",
    "* Los elementos no van ordenados por posición. No hay orden establecido.\n",
    "* Solo pueden contener objetos inmutables.\n",
    "* No soportan anidamiento."
   ]
  },
  {
   "cell_type": "markdown",
   "id": "reported-cameroon",
   "metadata": {},
   "source": [
    "#### Operaciones con conjuntos"
   ]
  },
  {
   "cell_type": "markdown",
   "id": "technological-thesaurus",
   "metadata": {},
   "source": [
    "* Creación de conjuntos."
   ]
  },
  {
   "cell_type": "code",
   "execution_count": null,
   "id": "thrown-mission",
   "metadata": {},
   "outputs": [],
   "source": [
    "set1 = {0, 1, 1, 2, 3, 4, 4}\n",
    "print(set1)\n",
    "  \n",
    "set2 = {'user1', 12, 2}\n",
    "print(set2)\n",
    "\n",
    "set3 = set(range(7))\n",
    "print(set3)\n",
    "\n",
    "set4 = set([0, 1, 2, 3, 4, 0, 1])\n",
    "print(set4)"
   ]
  },
  {
   "cell_type": "code",
   "execution_count": null,
   "id": "everyday-bleeding",
   "metadata": {},
   "outputs": [],
   "source": [
    "# Observa la diferencia entre listas y conjuntos\n",
    "\n",
    "s = 'aabbc'\n",
    "print(list(s))\n",
    "print(set(s))"
   ]
  },
  {
   "cell_type": "markdown",
   "id": "purple-tiffany",
   "metadata": {},
   "source": [
    "* Acceso por índice genera error."
   ]
  },
  {
   "cell_type": "code",
   "execution_count": null,
   "id": "another-louisiana",
   "metadata": {},
   "outputs": [],
   "source": [
    "set1 = {0, 1, 2}\n",
    "print(set1[0])"
   ]
  },
  {
   "cell_type": "markdown",
   "id": "accepted-collar",
   "metadata": {},
   "source": [
    "* Unión, intersección y diferencia."
   ]
  },
  {
   "cell_type": "code",
   "execution_count": null,
   "id": "exotic-captain",
   "metadata": {},
   "outputs": [],
   "source": [
    "set1 = {0, 1, 1, 2, 3, 4, 5, 8, 13, 21}\n",
    "set2 = set([0, 1, 2, 3, 4, 42])\n",
    "\n",
    "# union\n",
    "print(set1 | set2)\n",
    "\n",
    "# intersección\n",
    "print(set1 & set2)\n",
    "\n",
    "# diferencia\n",
    "print(set1 - set2)\n",
    "print(set2 - set1)"
   ]
  },
  {
   "cell_type": "markdown",
   "id": "becoming-mobile",
   "metadata": {},
   "source": [
    "<img src=\"img/TiposCompuestos/SetOperations.png\" width=\"500\">"
   ]
  },
  {
   "cell_type": "code",
   "execution_count": null,
   "id": "sacred-zealand",
   "metadata": {},
   "outputs": [],
   "source": [
    "# Además de los operadores, que operan únicamente con Sets, también se pueden usar métodos que pueden operar sobre cualquier objeto iterable.\n",
    "\n",
    "conjunto = {0, 1, 2}\n",
    "lista = [1, 3, 3]\n",
    "\n",
    "print(conjunto.union(lista))\n",
    "print(conjunto.intersection(lista))\n",
    "print(conjunto.difference(lista))"
   ]
  },
  {
   "cell_type": "markdown",
   "id": "third-freight",
   "metadata": {},
   "source": [
    "* comparación de conjuntos."
   ]
  },
  {
   "cell_type": "code",
   "execution_count": null,
   "id": "compact-instruction",
   "metadata": {},
   "outputs": [],
   "source": [
    "set1 = {0, 1, 1, 2, 3, 4, 5, 8, 13, 21}\n",
    "set2 = set([0, 1, 2, 3, 4])\n",
    "\n",
    "print(set2.issubset(set1))\n",
    "print(set1.issuperset(set2))\n",
    "print(set1.isdisjoint(set2))"
   ]
  },
  {
   "cell_type": "markdown",
   "id": "spoken-independence",
   "metadata": {},
   "source": [
    "* Pertenencia."
   ]
  },
  {
   "cell_type": "code",
   "execution_count": null,
   "id": "authorized-bachelor",
   "metadata": {},
   "outputs": [],
   "source": [
    "words = {'calm', 'balm'}\n",
    "print('calm' in words)"
   ]
  },
  {
   "cell_type": "markdown",
   "id": "atlantic-merit",
   "metadata": {},
   "source": [
    "* Anidamiento."
   ]
  },
  {
   "cell_type": "code",
   "execution_count": null,
   "id": "radio-ordinary",
   "metadata": {},
   "outputs": [],
   "source": [
    "# Los conjuntos no soportan anidamiento, pero como permite elementos inmutables, se pueden \"anidar\" tuplas.\n",
    "\n",
    "nested_set = {1, (1, 1, 1), 2, 3}\n",
    "print(nested_set)"
   ]
  },
  {
   "cell_type": "markdown",
   "id": "oriented-stake",
   "metadata": {},
   "source": [
    "* Modificación de conjuntos."
   ]
  },
  {
   "cell_type": "code",
   "execution_count": null,
   "id": "paperback-promotion",
   "metadata": {},
   "outputs": [],
   "source": [
    "# A través de operador de asignación\n",
    "\n",
    "set1 = {'a', 'b', 'c'}\n",
    "set2 = {'a', 'd'}\n",
    "\n",
    "set1 |= set2\n",
    "#set1 &= set2\n",
    "#set1 -= set2\n",
    "\n",
    "print(set1)"
   ]
  },
  {
   "cell_type": "code",
   "execution_count": null,
   "id": "pleased-ghana",
   "metadata": {},
   "outputs": [],
   "source": [
    "# A través de método 'update'.\n",
    "\n",
    "set1 = {'a', 'b', 'c'}\n",
    "set2 = {'a', 'd'}\n",
    "\n",
    "set1.update(set2)\n",
    "#set1.intersection_update(set2)\n",
    "#set1.difference_update(set2)\n",
    "\n",
    "print(set1)"
   ]
  },
  {
   "cell_type": "code",
   "execution_count": null,
   "id": "previous-performance",
   "metadata": {},
   "outputs": [],
   "source": [
    "# A través de métodos 'add' y 'remove'.\n",
    "\n",
    "set1 = {'a', 'b', 'c'}\n",
    "\n",
    "set1.add('d')\n",
    "set1.remove('a')\n",
    "\n",
    "print(set1)"
   ]
  },
  {
   "cell_type": "markdown",
   "id": "referenced-trainer",
   "metadata": {},
   "source": [
    "## Tuplas\n",
    "\n",
    "Al igual que las listas:\n",
    "\n",
    "* Colección de elementos.\n",
    "* Tipos arbitrarios.\n",
    "* Puede contener duplicados.\n",
    "* No tienen tamaño fijo. Pueden contener tantos elementos como quepan en memoria.\n",
    "* Los elementos van ordenados por posición.\n",
    "* Acceso a través de la sintaxis: __[index]__\n",
    "* Índices van de *0* a *n-1*, donde *n* es el número de elementos de la tupla.\n",
    "* Son *secuencias* donde el orden de los elementos importa.\n",
    "* Soportan anidamiento.\n",
    "\n",
    "A diferencia de las listas:\n",
    "\n",
    "* Se definen por medio de paréntesis.\n",
    "* Inmutables."
   ]
  },
  {
   "cell_type": "markdown",
   "id": "statutory-category",
   "metadata": {},
   "source": [
    "#### ¿Por qué tuplas?\n",
    "\n",
    "* Representación de una colección fija de elementos (por ejemplo, una fecha).\n",
    "* Pueden usarse en contextos que requieren inmutabilidad (por ejemplo, como claves de un diccionario)."
   ]
  },
  {
   "cell_type": "markdown",
   "id": "dynamic-grounds",
   "metadata": {},
   "source": [
    "#### Operaciones con tuplas"
   ]
  },
  {
   "cell_type": "markdown",
   "id": "split-concept",
   "metadata": {},
   "source": [
    "* Creación de tuplas."
   ]
  },
  {
   "cell_type": "code",
   "execution_count": null,
   "id": "cooperative-scope",
   "metadata": {},
   "outputs": [],
   "source": [
    "tuple1 = ('Foo', 34, 5.0, 34)\n",
    "print(tuple1)\n",
    "\n",
    "tuple2 = 1, 2, 3\n",
    "print(tuple2)\n",
    "\n",
    "tuple3 = tuple(range(10))\n",
    "print(tuple3)\n",
    "\n",
    "tuple4 = tuple([0, 1, 2, 3, 4])\n",
    "print(tuple4)"
   ]
  },
  {
   "cell_type": "code",
   "execution_count": null,
   "id": "preceding-dietary",
   "metadata": {},
   "outputs": [],
   "source": [
    "# Ojo con las tuplas de un elemento. Los paréntesis se intepretan como indicadores de precedencia de operadores.\n",
    "\n",
    "singleton_number = (1)\n",
    "type(singleton_number)"
   ]
  },
  {
   "cell_type": "code",
   "execution_count": null,
   "id": "challenging-tower",
   "metadata": {},
   "outputs": [],
   "source": [
    "# Creación de tupla de un elemento.\n",
    "\n",
    "singleton_tuple = (1,)\n",
    "type(singleton_tuple)"
   ]
  },
  {
   "cell_type": "markdown",
   "id": "moved-judge",
   "metadata": {},
   "source": [
    "* Obtención del número de elementos."
   ]
  },
  {
   "cell_type": "code",
   "execution_count": null,
   "id": "romantic-orlando",
   "metadata": {},
   "outputs": [],
   "source": [
    "print(len(tuple1))"
   ]
  },
  {
   "cell_type": "markdown",
   "id": "parental-lesson",
   "metadata": {},
   "source": [
    "* Acceso por índice."
   ]
  },
  {
   "cell_type": "code",
   "execution_count": null,
   "id": "chemical-solution",
   "metadata": {},
   "outputs": [],
   "source": [
    "tuple1 = ('Foo', 1, 2, 3)\n",
    "\n",
    "print(tuple1[0]) # Primer elemento\n",
    "print(tuple1[len(tuple1)-1]) # Último elemento\n",
    "\n",
    "print(tuple1[-1]) # Índices negativos comienzan desde el final\n",
    "print(tuple1[-len(tuple1)]) # primer elemento"
   ]
  },
  {
   "cell_type": "markdown",
   "id": "micro-indianapolis",
   "metadata": {},
   "source": [
    "* Asignación a tuplas falla. Son immutables."
   ]
  },
  {
   "cell_type": "code",
   "execution_count": null,
   "id": "based-activity",
   "metadata": {},
   "outputs": [],
   "source": [
    "tuple1[0] = 'bar'"
   ]
  },
  {
   "cell_type": "markdown",
   "id": "republican-nitrogen",
   "metadata": {},
   "source": [
    "* Contar número de ocurrencias de un elemento."
   ]
  },
  {
   "cell_type": "code",
   "execution_count": null,
   "id": "surrounded-avatar",
   "metadata": {},
   "outputs": [],
   "source": [
    "tuple1 = ('Foo',34, 5.0, 34)\n",
    "print(tuple1.count(34))"
   ]
  },
  {
   "cell_type": "markdown",
   "id": "compliant-initial",
   "metadata": {},
   "source": [
    "* Encontrar el índice de un elemento."
   ]
  },
  {
   "cell_type": "code",
   "execution_count": null,
   "id": "acute-extraction",
   "metadata": {},
   "outputs": [],
   "source": [
    "tuple1 = ('Foo', 34, 5.0, 34)\n",
    "indice = tuple1.index(34)\n",
    "\n",
    "print(indice)\n",
    "print(tuple1[indice])"
   ]
  },
  {
   "cell_type": "code",
   "execution_count": null,
   "id": "administrative-creativity",
   "metadata": {},
   "outputs": [],
   "source": [
    "# Si el elemento no existe, error\n",
    "\n",
    "tuple1 = ('Foo', 34, 5.0, 34)\n",
    "print(tuple1.index(1))"
   ]
  },
  {
   "cell_type": "markdown",
   "id": "conventional-agreement",
   "metadata": {},
   "source": [
    "* Desempaquetar una tupla."
   ]
  },
  {
   "cell_type": "code",
   "execution_count": null,
   "id": "characteristic-royal",
   "metadata": {},
   "outputs": [],
   "source": [
    "tuple1 = (1, 2, 3, 4)\n",
    "a, b, c, d = tuple1\n",
    "\n",
    "print(a)\n",
    "print(b)\n",
    "print(c)\n",
    "print(d)"
   ]
  },
  {
   "cell_type": "code",
   "execution_count": null,
   "id": "wrapped-spelling",
   "metadata": {},
   "outputs": [],
   "source": [
    "a, b, *resto = tuple1\n",
    "print(a)\n",
    "print(b)\n",
    "print(resto)"
   ]
  },
  {
   "cell_type": "markdown",
   "id": "legendary-diesel",
   "metadata": {},
   "source": [
    "<img src=\"img/TiposCompuestos/tuplepacking.png\" width=\"550\">"
   ]
  },
  {
   "cell_type": "markdown",
   "id": "proud-degree",
   "metadata": {},
   "source": [
    "<img src=\"img/TiposCompuestos/tupleunpacking.png\" width=\"450\">"
   ]
  },
  {
   "cell_type": "markdown",
   "id": "eleven-construction",
   "metadata": {},
   "source": [
    "## Para terminar, volvemos a enfatizar un matiz importante ...\n",
    "\n",
    "> **En Python todo son objetos**\n",
    "\n",
    "Cada objeto tiene:\n",
    "\n",
    "* **Identidad**: Nunca cambia una vez creado. Es como la dirección de memoria. Operador **is** compara identidad. Función **id()** devuelve identidad.\n",
    "* **Tipo**: determina posibles valores y operaciones. Función **type()** devuelve el tipo. No cambia.\n",
    "* **Valor**: que pueden ser *mutables* e *inmutables*.\n",
    "\n",
    "   * Tipos mutables: list, dictionary, set y tipos definidos por el usuario.\n",
    "   * Tipos inmutables: int, float, bool, string y tuple."
   ]
  },
  {
   "cell_type": "markdown",
   "id": "virtual-kentucky",
   "metadata": {},
   "source": [
    "#### Ejemplos para ilustrar mutabilidad vs inmutabilidad"
   ]
  },
  {
   "cell_type": "code",
   "execution_count": null,
   "id": "decent-bennett",
   "metadata": {},
   "outputs": [],
   "source": [
    "# Asignación\n",
    "\n",
    "list_numbers = [1, 2, 3]  # Lista (mutable)\n",
    "tuple_numbers = (1, 2, 3) # Tupla (inmutable)\n",
    "\n",
    "print(list_numbers[0])\n",
    "print(tuple_numbers[0])\n",
    "\n",
    "list_numbers[0] = 100\n",
    "#tuple_numbers[0] = 100 \n",
    "\n",
    "print(list_numbers)\n",
    "print(tuple_numbers)"
   ]
  },
  {
   "cell_type": "code",
   "execution_count": null,
   "id": "instructional-pickup",
   "metadata": {},
   "outputs": [],
   "source": [
    "# Identidad\n",
    "\n",
    "list_numbers = [1, 2, 3] \n",
    "tuple_numbers = (1, 2, 3)\n",
    "\n",
    "print('Id list_numbers:  ' + str(id(list_numbers)))\n",
    "print('Id tuple_numbers: ' + str(id(tuple_numbers)))\n",
    "\n",
    "list_numbers += [4, 5, 6]  # La lista original se extiende\n",
    "tuple_numbers += (4, 5, 6) # Se crea un nuevo objeto\n",
    "\n",
    "print(list_numbers)\n",
    "print(tuple_numbers)\n",
    "\n",
    "print('Id list_numbers:  ' + str(id(list_numbers)))\n",
    "print('Id tuple_numbers: ' + str(id(tuple_numbers)))"
   ]
  },
  {
   "cell_type": "code",
   "execution_count": null,
   "id": "white-setting",
   "metadata": {},
   "outputs": [],
   "source": [
    "# Referencias\n",
    "\n",
    "list_numbers = [1, 2, 3]\n",
    "list_numbers_2 = list_numbers  # list_numbers_2 referencia a list_numbers\n",
    "\n",
    "print('Id list_numbers:  ' + str(id(list_numbers)))\n",
    "print('Id list_numbers_2:  ' + str(id(list_numbers_2)))\n",
    "\n",
    "list_numbers.append(4) # Se actualiza list_numbers2 también\n",
    "\n",
    "print(list_numbers)\n",
    "print(list_numbers_2)\n",
    "\n",
    "print('Id list_numbers:  ' + str(id(list_numbers)))\n",
    "print('Id list_numbers_2:  ' + str(id(list_numbers_2)))"
   ]
  },
  {
   "cell_type": "code",
   "execution_count": null,
   "id": "copyrighted-anxiety",
   "metadata": {},
   "outputs": [],
   "source": [
    "text = \"Hola\" # Inmutable\n",
    "text_2 = text  # Referencia\n",
    "\n",
    "print('Id text:  ' + str(id(text)))\n",
    "print('Id text_2:  ' + str(id(text_2)))\n",
    "\n",
    "text += \" Mundo\"\n",
    "\n",
    "print(text)\n",
    "print(text_2)\n",
    "\n",
    "print('Id text:  ' + str(id(text)))\n",
    "print('Id text_2:  ' + str(id(text_2)))"
   ]
  },
  {
   "cell_type": "code",
   "execution_count": null,
   "id": "matched-modern",
   "metadata": {
    "tags": []
   },
   "outputs": [],
   "source": [
    "teams = [\"Team A\", \"Team B\", \"Team C\"] # Mutable\n",
    "player = (23, teams) # Inmutable\n",
    "\n",
    "print(type(player))\n",
    "print(player)\n",
    "print(id(player))\n",
    "\n",
    "teams[2] = \"Team J\"\n",
    "\n",
    "print(player)\n",
    "print(id(player))"
   ]
  },
  {
   "cell_type": "markdown",
   "id": "union-shape",
   "metadata": {},
   "source": [
    "## Ejercicios"
   ]
  },
  {
   "cell_type": "markdown",
   "id": "aggressive-willow",
   "metadata": {},
   "source": [
    "1. Dada una *lista* con elementos duplicados, escribir un programa que muestre una nueva *lista* con el mismo contenido que la primera pero sin elementos duplicados.\n",
    "\n",
    "2. Escribe un programa que, dada una *lista* de strings *L*, un string *s* perteneciente a *L* y un string *t*, reemplace *s* por *t* en *L*. El programa debe mostrar la lista resultante por pantalla.\n",
    "\n",
    "3. Escribe un programa que defina una *tupla* con elementos numéricos, reemplace el valor del último por un valor diferente y muestre la *tupla* por pantalla. Recuerda que las *tuplas* son inmutables. Tendrás que usar objetos intermedios.\n",
    "\n",
    "4. Dada la lista [1,2,3,4,5,6,7,8] escribe un programa que, a partir de esta lista, obtenga la lista [8,6,4,2] y la muestre por pantalla.\n",
    "\n",
    "5. Escribe un programa que, dada una tupla y un índice válido *i*, elimine el elemento de la tupla que se encuentra en la posición *i*. Para este ejercicio sólo puedes usar objetos de tipo tupla. No puedes convetir la *tupla* a una *lista*, por ejemplo.\n",
    "\n",
    "6. Escribe un programa que obtenga la mediana de una *lista* de números. Recuerda que la mediana *M* de una lista de números *L* es el número que cumple la siguiente propiedad: la mitad de los números de *L* son superiores a *M* y la otra mitad son inferiores. Cuando el número de elementos de *L* es par, se puede considerar que hay dos medianas. No obstante, en este ejercicio consideraremos que únicamente existe una mediana."
   ]
  },
  {
   "cell_type": "markdown",
   "id": "bacterial-vision",
   "metadata": {},
   "source": [
    "## Soluciones"
   ]
  },
  {
   "cell_type": "code",
   "execution_count": null,
   "id": "southeast-division",
   "metadata": {},
   "outputs": [],
   "source": [
    "# Ejercicio 1\n",
    "\n",
    "L = [1,2,2,3,3,2,3,1,4,5,4,5,5]\n",
    "\n",
    "print(list(set(a)))"
   ]
  },
  {
   "cell_type": "code",
   "execution_count": null,
   "id": "cellular-density",
   "metadata": {},
   "outputs": [],
   "source": [
    "# Ejercicio 2\n",
    "\n",
    "L = [\"Python\", \"Java\", \"C++\", \"Kotlin\"]\n",
    "s = \"Java\"\n",
    "t = \"JavaScript\"\n",
    "\n",
    "indice = L.index(s)\n",
    "L[indice] = t\n",
    "\n",
    "print(L)"
   ]
  },
  {
   "cell_type": "code",
   "execution_count": null,
   "id": "motivated-field",
   "metadata": {},
   "outputs": [],
   "source": [
    "# Ejercicio 3\n",
    "\n",
    "tupla = (1,2,3,4)\n",
    "\n",
    "lista = list(tupla)\n",
    "lista[-1] = 5\n",
    "\n",
    "print(tuple(lista))"
   ]
  },
  {
   "cell_type": "code",
   "execution_count": null,
   "id": "cross-gasoline",
   "metadata": {},
   "outputs": [],
   "source": [
    "# Ejercicio 4\n",
    "\n",
    "lista = [1,2,3,4,5,6,7,8]\n",
    "\n",
    "print(lista[-1::-2])"
   ]
  },
  {
   "cell_type": "code",
   "execution_count": null,
   "id": "golden-roads",
   "metadata": {},
   "outputs": [],
   "source": [
    "# Ejercicio 5\n",
    "\n",
    "tupla = ('a', 'b', 'c', 'd', 'e', 'f')\n",
    "i = 2\n",
    "\n",
    "print(tupla[:i] + tupla[i+1:])"
   ]
  },
  {
   "cell_type": "code",
   "execution_count": null,
   "id": "spectacular-alaska",
   "metadata": {},
   "outputs": [],
   "source": [
    "# Ejercicio 6\n",
    "\n",
    "L = [21, 9, 1, 5.5, 19, 3, 15]\n",
    "\n",
    "L.sort()\n",
    "mediana = L[len(L)//2]\n",
    "\n",
    "print(mediana)"
   ]
  }
 ],
 "metadata": {
  "kernelspec": {
   "display_name": "Python 3",
   "language": "python",
   "name": "python3"
  },
  "language_info": {
   "codemirror_mode": {
    "name": "ipython",
    "version": 3
   },
   "file_extension": ".py",
   "mimetype": "text/x-python",
   "name": "python",
   "nbconvert_exporter": "python",
   "pygments_lexer": "ipython3",
   "version": "3.9.2"
  }
 },
 "nbformat": 4,
 "nbformat_minor": 5
}
