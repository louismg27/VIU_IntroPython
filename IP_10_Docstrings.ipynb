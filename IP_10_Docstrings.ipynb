{
 "cells": [
  {
   "cell_type": "markdown",
   "id": "generous-history",
   "metadata": {},
   "source": [
    "<img src=\"img/viu_logo.png\" width=\"200\"><img src=\"img/python_logo.png\" width=\"250\"> *Mario Cervera*"
   ]
  },
  {
   "cell_type": "markdown",
   "id": "electric-projector",
   "metadata": {},
   "source": [
    "# Docstrings"
   ]
  },
  {
   "cell_type": "markdown",
   "id": "hindu-recognition",
   "metadata": {},
   "source": [
    "* Python permite adjuntar documentación a los objetos e inspeccionarla a través de la línea de comandos o durante la ejecución del programa.\n",
    "* Los docstrings se almacenan en el atributo *\\_\\_doc\\_\\_* de cada objeto.\n",
    "* El valor de dicho atributo se puede mostrar por medio de la función *help*."
   ]
  },
  {
   "cell_type": "code",
   "execution_count": null,
   "id": "alternative-undergraduate",
   "metadata": {},
   "outputs": [],
   "source": [
    "help(open)"
   ]
  },
  {
   "cell_type": "markdown",
   "id": "considerable-trustee",
   "metadata": {},
   "source": [
    "* No es necesario editar este atributo directamente.\n",
    "* Para asociar un docstring a un objeto basta con escribir el texto (entre triples comillas) al principio de los modulos, funciones o clases, antes del codigo ejecutable."
   ]
  },
  {
   "cell_type": "code",
   "execution_count": null,
   "id": "liquid-barcelona",
   "metadata": {},
   "outputs": [],
   "source": [
    "def funcion_de_prueba():\n",
    "    \"\"\"Esta es la documentación de la función de prueba\"\"\"\n",
    "    pass\n",
    "\n",
    "help(funcion_de_prueba)"
   ]
  },
  {
   "cell_type": "markdown",
   "id": "common-korea",
   "metadata": {},
   "source": [
    "* Accediendo al atributo *\\_\\_doc\\_\\_* sólo se obtiene el docstring."
   ]
  },
  {
   "cell_type": "code",
   "execution_count": null,
   "id": "breeding-terror",
   "metadata": {},
   "outputs": [],
   "source": [
    "print(funcion_de_prueba.__doc__)"
   ]
  },
  {
   "cell_type": "markdown",
   "id": "supreme-reminder",
   "metadata": {},
   "source": [
    "Como se puede observar, *help* añade información adicional. Por ejemplo, para entidades más grandes, *help* muestra el docstring dividido en secciones."
   ]
  },
  {
   "cell_type": "code",
   "execution_count": null,
   "id": "placed-technician",
   "metadata": {},
   "outputs": [],
   "source": [
    "import sys\n",
    "help(sys)"
   ]
  },
  {
   "cell_type": "markdown",
   "id": "supreme-cinema",
   "metadata": {},
   "source": [
    "Los docstrings que ocupan más de una línea suelen tener estas partes:\n",
    "\n",
    "* Resumen en la primera línea.\n",
    "* Línea en blanco.\n",
    "* Descripción detallada.\n",
    "* Otra línea en blanco antes del código."
   ]
  },
  {
   "cell_type": "code",
   "execution_count": null,
   "id": "threatened-officer",
   "metadata": {},
   "outputs": [],
   "source": [
    "def funcion_de_prueba2():\n",
    "    \"\"\"Esta es la línea para el resumen.\n",
    "    \n",
    "    Este es el párrafo donde se puede escribir una descripción más\n",
    "    detallada de la función. Observa que el resumen y la descripción\n",
    "    detallada van separados por una línea en blanco. También hay\n",
    "    otra línea en blanco antes de empezar el código.\n",
    "    \"\"\"\n",
    "    \n",
    "    pass\n",
    "\n",
    "help(funcion_de_prueba2)"
   ]
  },
  {
   "cell_type": "markdown",
   "id": "amino-publisher",
   "metadata": {},
   "source": [
    "Algunos comentarios adicionales:\n",
    "\n",
    "* Comentarios con '#' suelen asociarse a expresiones sencillas, instrucciones individuales o pequeños bloques de código.\n",
    "* Los docstrings son más apropiados para construcciones de más alto nivel: funciones, clases y módulos."
   ]
  },
  {
   "cell_type": "markdown",
   "id": "refined-identifier",
   "metadata": {},
   "source": [
    "## Sphinx"
   ]
  },
  {
   "cell_type": "markdown",
   "id": "japanese-boost",
   "metadata": {},
   "source": [
    "* Herramienta de documentación.\n",
    "* Especialmente útil para sistemas grandes.\n",
    "* Da soporte a una gran variedad de formatos de salida: HTML, LaTeX, ePub, ..."
   ]
  },
  {
   "cell_type": "markdown",
   "id": "german-classic",
   "metadata": {},
   "source": [
    "Web de [Sphinx](https://www.sphinx-doc.org/)."
   ]
  },
  {
   "cell_type": "markdown",
   "id": "received-guest",
   "metadata": {},
   "source": [
    "[Proyectos](https://www.sphinx-doc.org/en/master/examples.html) que usan Sphinx."
   ]
  },
  {
   "cell_type": "markdown",
   "id": "innocent-protocol",
   "metadata": {},
   "source": [
    "## Estilo"
   ]
  },
  {
   "cell_type": "markdown",
   "id": "abstract-boston",
   "metadata": {},
   "source": [
    "* Es importante que los docstrings sean consistentes.\n",
    "* El equipo de desarrollo debe acordar un formato y seguirlo rigurosamente."
   ]
  },
  {
   "cell_type": "markdown",
   "id": "architectural-senegal",
   "metadata": {},
   "source": [
    "#### Google Python Style Guide"
   ]
  },
  {
   "cell_type": "markdown",
   "id": "shared-counter",
   "metadata": {},
   "source": [
    "Google define la siguiente [guía de estilo](https://github.com/google/styleguide/blob/gh-pages/pyguide.md#38-comments-and-docstrings)."
   ]
  },
  {
   "cell_type": "markdown",
   "id": "rural-actor",
   "metadata": {},
   "source": [
    "Contiene reglas para los docstrings de:\n",
    "\n",
    "* Módulos.\n",
    "* Métodos y funciones.\n",
    "* Clases."
   ]
  }
 ],
 "metadata": {
  "kernelspec": {
   "display_name": "Python 3",
   "language": "python",
   "name": "python3"
  },
  "language_info": {
   "codemirror_mode": {
    "name": "ipython",
    "version": 3
   },
   "file_extension": ".py",
   "mimetype": "text/x-python",
   "name": "python",
   "nbconvert_exporter": "python",
   "pygments_lexer": "ipython3",
   "version": "3.9.2"
  }
 },
 "nbformat": 4,
 "nbformat_minor": 5
}
