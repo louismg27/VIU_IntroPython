{
 "cells": [
  {
   "cell_type": "markdown",
   "id": "conventional-posting",
   "metadata": {},
   "source": [
    "<img src=\"img/viu_logo.png\" width=\"200\"><img src=\"img/python_logo.png\" width=\"250\"> *Mario Cervera*"
   ]
  },
  {
   "cell_type": "markdown",
   "id": "charitable-transparency",
   "metadata": {},
   "source": [
    "# Comentarios"
   ]
  },
  {
   "cell_type": "markdown",
   "id": "touched-texture",
   "metadata": {},
   "source": [
    "### ¿Qué son?\n",
    "\n",
    "Texto contenido en ficheros Python que es ignorado por el intérprete; es decir, no es ejecutado."
   ]
  },
  {
   "cell_type": "markdown",
   "id": "inclusive-pendant",
   "metadata": {},
   "source": [
    "### ¿Cuál es su utilidad?\n",
    "\n",
    "* Se puede utilizar para documentar código y hacerlo más legible\n",
    "\n",
    "* Preferiblemente, trataremos de hacer código fácil de entender y que necesite pocos comentarios, en lugar de vernos forzados a recurrir a los comentarios para explicar el código."
   ]
  },
  {
   "cell_type": "markdown",
   "id": "interpreted-stability",
   "metadata": {},
   "source": [
    "### Tipos de comentarios\n",
    "\n",
    "**Comentarios de una línea**\n",
    "\n",
    "* Texto precedido por '#'\n",
    "* Se suele usar para documentar expresiones sencillas."
   ]
  },
  {
   "cell_type": "code",
   "execution_count": null,
   "id": "artificial-merchandise",
   "metadata": {},
   "outputs": [],
   "source": [
    "# Esto es una instrucción print\n",
    "print('Hello world')"
   ]
  },
  {
   "cell_type": "markdown",
   "id": "drawn-wrong",
   "metadata": {},
   "source": [
    "**Comentarios de varias líneas**\n",
    "\n",
    "* Texto encapsulado en triples comillas (que pueden ser tanto comillas simples como dobles).\n",
    "* Se suele usar para documentar bloques de código más significativos."
   ]
  },
  {
   "cell_type": "code",
   "execution_count": null,
   "id": "changed-trance",
   "metadata": {},
   "outputs": [],
   "source": [
    "def producto(x, y):\n",
    "    '''\n",
    "    Esta función recibe dos números como parámetros y devuelve\n",
    "    como resultado el producto de los mismos.\n",
    "    '''\n",
    "    return x * y"
   ]
  }
 ],
 "metadata": {
  "kernelspec": {
   "display_name": "Python 3",
   "language": "python",
   "name": "python3"
  },
  "language_info": {
   "codemirror_mode": {
    "name": "ipython",
    "version": 3
   },
   "file_extension": ".py",
   "mimetype": "text/x-python",
   "name": "python",
   "nbconvert_exporter": "python",
   "pygments_lexer": "ipython3",
   "version": "3.9.2"
  }
 },
 "nbformat": 4,
 "nbformat_minor": 5
}
