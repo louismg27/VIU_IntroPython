{
 "cells": [
  {
   "cell_type": "markdown",
   "id": "hungry-numbers",
   "metadata": {},
   "source": [
    "<img src=\"img/viu_logo.png\" width=\"200\"><img src=\"img/python_logo.png\" width=\"250\"> *Mario Cervera*"
   ]
  },
  {
   "cell_type": "markdown",
   "id": "starting-uncertainty",
   "metadata": {},
   "source": [
    "# Literales, variables y tipos de datos básicos"
   ]
  },
  {
   "cell_type": "markdown",
   "id": "enhanced-pepper",
   "metadata": {},
   "source": [
    "De forma muy genérica, al ejecutarse un programa Python, simplemente se realizan *operaciones* sobre *objetos*.\n",
    "\n",
    "Estos dos términos son fundamentales.\n",
    "\n",
    "* *Objetos*: cualquier tipo de datos (números, caracteres o datos más complejos).\n",
    "\n",
    "* *Operaciones*: cómo manipulamos estos datos.\n",
    "\n",
    "Ejemplo:\n"
   ]
  },
  {
   "cell_type": "code",
   "execution_count": null,
   "id": "grateful-gates",
   "metadata": {},
   "outputs": [],
   "source": [
    "4 + 5"
   ]
  },
  {
   "cell_type": "markdown",
   "id": "blind-constitution",
   "metadata": {},
   "source": [
    "## Literales\n",
    "\n",
    "* Python tiene una serie de tipos de datos integrados en el propio lenguaje.\n",
    "* Los literales son expresiones que generan objetos de estos tipos.\n",
    "* Estos objetos, según su tipo, pueden ser:\n",
    "    * Simples o compuestos.\n",
    "    * Mutables o immutables."
   ]
  },
  {
   "cell_type": "markdown",
   "id": "dimensional-frost",
   "metadata": {},
   "source": [
    "#### Literales simples"
   ]
  },
  {
   "cell_type": "code",
   "execution_count": null,
   "id": "changed-sound",
   "metadata": {},
   "outputs": [],
   "source": [
    "print(4)            # número entero\n",
    "print(4.2)          # número en coma flotante\n",
    "print(\"Hola VIU!\")  # string"
   ]
  },
  {
   "cell_type": "markdown",
   "id": "planned-barrier",
   "metadata": {},
   "source": [
    "#### Literales compuestos"
   ]
  },
  {
   "cell_type": "code",
   "execution_count": null,
   "id": "together-credit",
   "metadata": {},
   "outputs": [],
   "source": [
    "print([1, 2, 3, 3])                         # lista - mutable\n",
    "print({'Nombre' : 'John Doe', \"edad\": 30})  # Diccionario - mutable\n",
    "print({1, 2, 3, 3})                         # Conjunto - mutable\n",
    "print(4, 5)                                 # tupla\n",
    "2, 4                                        # tupla"
   ]
  },
  {
   "cell_type": "markdown",
   "id": "sublime-education",
   "metadata": {},
   "source": [
    "## Variables\n",
    "\n",
    "* Referencias a objetos.\n",
    "* Las variables y los objetos se almacenan en diferentes zonas de memoria.\n",
    "* Las variables siempre referencian a objetos y nunca a otras variables.\n",
    "* Objetos sí que pueden referenciar a otros objetos. Ejemplo: listas."
   ]
  },
  {
   "cell_type": "markdown",
   "id": "aggregate-testament",
   "metadata": {},
   "source": [
    "<img src=\"img/VariableReferences.png\" width=\"550\">*Imagen extraída de [1]*"
   ]
  },
  {
   "cell_type": "markdown",
   "id": "adjusted-april",
   "metadata": {},
   "source": [
    "* Sentencia de asignación:\n",
    "\n",
    "```\n",
    "<nombre_variable> '=' <objeto>\n",
    "```"
   ]
  },
  {
   "cell_type": "code",
   "execution_count": null,
   "id": "detected-impossible",
   "metadata": {},
   "outputs": [],
   "source": [
    "# Asignación de variables\n",
    "x = 1\n",
    "print(x)"
   ]
  },
  {
   "cell_type": "code",
   "execution_count": null,
   "id": "hollow-violation",
   "metadata": {},
   "outputs": [],
   "source": [
    "a = 1\n",
    "b = 4.2\n",
    "c = \"VIU\"\n",
    "d = 10 + 1j\n",
    "e = True\n",
    "f = None\n",
    "\n",
    "print(a)\n",
    "print(type(a))\n",
    "\n",
    "print(b)\n",
    "print(type(b))\n",
    "\n",
    "print(c)\n",
    "print(type(c))\n",
    "\n",
    "print(d)\n",
    "print(type(d))\n",
    "\n",
    "print(e)\n",
    "print(type(e))\n",
    "\n",
    "print(f)\n",
    "print(type(f))"
   ]
  },
  {
   "cell_type": "markdown",
   "id": "outside-politics",
   "metadata": {},
   "source": [
    "* Las variables no tienen tipo.\n",
    "* Las variables apuntan a objetos que sí lo tienen.\n",
    "* Dado que Python es un lenguaje de tipado dinámico, la misma variable puede apuntar, en momentos diferentes de la ejecución del programa, a objetos de diferente tipo."
   ]
  },
  {
   "cell_type": "code",
   "execution_count": null,
   "id": "alternate-cutting",
   "metadata": {
    "tags": []
   },
   "outputs": [],
   "source": [
    "a = 3\n",
    "a = 'Pablo García'\n",
    "a = 4.5"
   ]
  },
  {
   "cell_type": "markdown",
   "id": "civic-seating",
   "metadata": {},
   "source": [
    "* *Garbage collection*: Cuando un objeto deja de estar referenciado, se elimina automáticamente. "
   ]
  },
  {
   "cell_type": "markdown",
   "id": "solar-integrity",
   "metadata": {},
   "source": [
    "#### Identificadores"
   ]
  },
  {
   "cell_type": "markdown",
   "id": "actual-porcelain",
   "metadata": {},
   "source": [
    "* Podemos obtener un identificador único para los objetos referenciados por variables.\n",
    "* Este identificador se obtiene a partir de la dirección de memoria."
   ]
  },
  {
   "cell_type": "code",
   "execution_count": null,
   "id": "mobile-russia",
   "metadata": {},
   "outputs": [],
   "source": [
    "a = 3\n",
    "print(id(a))\n",
    "a = 'Pablo García'\n",
    "print(id(a))\n",
    "a = 4.5\n",
    "print(id(a))"
   ]
  },
  {
   "cell_type": "markdown",
   "id": "german-lyric",
   "metadata": {},
   "source": [
    "* *Referencias compartidas*: un mismo objeto puede ser referenciado por más de una variable.\n",
    "\n",
    "    * Variables que referencian al mismo objeto tienen mismo identificador."
   ]
  },
  {
   "cell_type": "code",
   "execution_count": null,
   "id": "modular-chase",
   "metadata": {},
   "outputs": [],
   "source": [
    "a = 25\n",
    "b = 25\n",
    "\n",
    "print(id(a))\n",
    "print(id(b))\n",
    "print(id(25))"
   ]
  },
  {
   "cell_type": "code",
   "execution_count": null,
   "id": "economic-cleaner",
   "metadata": {},
   "outputs": [],
   "source": [
    "# Ojo con los enteros \"grandes\"\n",
    "a = 257\n",
    "b = 257\n",
    "\n",
    "print(id(a))\n",
    "print(id(b))\n",
    "print(id(25))"
   ]
  },
  {
   "cell_type": "markdown",
   "id": "voluntary-trinity",
   "metadata": {},
   "source": [
    "* Referencia al mismo objeto a través de asignar una variable a otra."
   ]
  },
  {
   "cell_type": "code",
   "execution_count": null,
   "id": "posted-agriculture",
   "metadata": {},
   "outputs": [],
   "source": [
    "a = 4\n",
    "b = a\n",
    "print(id(a))\n",
    "print(id(b))"
   ]
  },
  {
   "cell_type": "markdown",
   "id": "brazilian-steel",
   "metadata": {},
   "source": [
    "* Las variables pueden aparecer en expresiones."
   ]
  },
  {
   "cell_type": "code",
   "execution_count": null,
   "id": "fluid-banking",
   "metadata": {},
   "outputs": [],
   "source": [
    "a = 3\n",
    "b = 5\n",
    "print (a + b)"
   ]
  },
  {
   "cell_type": "markdown",
   "id": "legal-stuff",
   "metadata": {},
   "source": [
    "#### Respecto a los nombres de las variables ...\n",
    "\n",
    "* No se puede poner números delante del nombre de las variables.\n",
    "* Por convención, evitar *CamelCase*. Mejor usar *snake_case*: uso de \"_\" para separar palabras.\n",
    "* El lenguaje diferencia entre mayúsculas y minúsculas.\n",
    "* Deben ser descriptivos.\n",
    "* Hay palabras o métodos reservados -> Built-ins.\n",
    "    * **Ojo** con reasignar un nombre reservado!"
   ]
  },
  {
   "cell_type": "code",
   "execution_count": null,
   "id": "frank-transsexual",
   "metadata": {},
   "outputs": [],
   "source": [
    "print(pow(3,2))\n",
    "pow = 1\n",
    "print(pow(3,2))"
   ]
  },
  {
   "cell_type": "markdown",
   "id": "associate-feature",
   "metadata": {},
   "source": [
    "#### Asignación múltiple de variables"
   ]
  },
  {
   "cell_type": "code",
   "execution_count": null,
   "id": "small-dealing",
   "metadata": {},
   "outputs": [],
   "source": [
    "x, y, z = 1, 2, 3\n",
    "print(x, y, z)\n",
    "\n",
    "t = x, y, z\n",
    "print(t)\n",
    "print(type(t))"
   ]
  },
  {
   "cell_type": "markdown",
   "id": "stopped-airplane",
   "metadata": {},
   "source": [
    "* Esta técnica tiene un uso interesante: el intercambio de valores entre dos variables."
   ]
  },
  {
   "cell_type": "code",
   "execution_count": null,
   "id": "small-folks",
   "metadata": {},
   "outputs": [],
   "source": [
    "a = 1\n",
    "b = 2\n",
    "\n",
    "a, b = b, a\n",
    "print(a, b)"
   ]
  },
  {
   "cell_type": "markdown",
   "id": "stylish-literacy",
   "metadata": {},
   "source": [
    "## Tipos de datos básicos"
   ]
  },
  {
   "cell_type": "markdown",
   "id": "signal-monaco",
   "metadata": {},
   "source": [
    "#### Bool"
   ]
  },
  {
   "cell_type": "markdown",
   "id": "equivalent-space",
   "metadata": {},
   "source": [
    "* 2 posibles valores: 'True' o 'False'."
   ]
  },
  {
   "cell_type": "code",
   "execution_count": null,
   "id": "developing-thirty",
   "metadata": {},
   "outputs": [],
   "source": [
    "a = False\n",
    "b = True\n",
    "print(a)\n",
    "print(type(a))\n",
    "print(b)\n",
    "print(type(b))"
   ]
  },
  {
   "cell_type": "markdown",
   "id": "neither-holmes",
   "metadata": {},
   "source": [
    "* 'True' y 'False' también son objetos que se guardan en caché, al igual que los enteros pequeños."
   ]
  },
  {
   "cell_type": "code",
   "execution_count": null,
   "id": "identical-lover",
   "metadata": {},
   "outputs": [],
   "source": [
    "a = True\n",
    "b = True\n",
    "\n",
    "print(id(a))\n",
    "print(id(b))\n",
    "a is b"
   ]
  },
  {
   "cell_type": "markdown",
   "id": "dense-cream",
   "metadata": {},
   "source": [
    "#### Números"
   ]
  },
  {
   "cell_type": "code",
   "execution_count": null,
   "id": "innocent-jefferson",
   "metadata": {},
   "outputs": [],
   "source": [
    "print(2)     # Enteros, sin parte fraccional.\n",
    "print(3.4)   # Números en coma flotante, con parte fraccional.\n",
    "print(2+4j)  # Números complejos.\n",
    "print(1/2)   # Numeros racionales."
   ]
  },
  {
   "cell_type": "markdown",
   "id": "after-warrant",
   "metadata": {},
   "source": [
    "* Diferentes representaciones: base 10, 2, 8, 16."
   ]
  },
  {
   "cell_type": "code",
   "execution_count": null,
   "id": "tight-static",
   "metadata": {},
   "outputs": [],
   "source": [
    "x = 58          # decimal\n",
    "z = 0b00111010  # binario\n",
    "w = 0o72        # octal\n",
    "y = 0x3A        # hexadecimal\n",
    "\n",
    "print(x == y == z == w)"
   ]
  },
  {
   "cell_type": "markdown",
   "id": "smoking-exception",
   "metadata": {},
   "source": [
    "#### Strings"
   ]
  },
  {
   "cell_type": "markdown",
   "id": "competitive-square",
   "metadata": {
    "tags": []
   },
   "source": [
    "* Cadenas de caracteres.\n",
    "* Son *secuencias*: la posición de los caracteres es importante.\n",
    "* Son immutables: las operaciones sobre strings no cambian el string original."
   ]
  },
  {
   "cell_type": "code",
   "execution_count": null,
   "id": "worse-hamilton",
   "metadata": {},
   "outputs": [],
   "source": [
    "s = \"John Doe\"\n",
    "print(s[0])     # Primer carácter del string.\n",
    "print(s[-1])    # Último carácter del string.\n",
    "print(s[1:3])   # Substring desde el segundo carácter (inclusive) hasta el cuarto (exclusive). Esta técnica se la conoce como 'slicing'.\n",
    "print(s[:])     # Todo el string.\n",
    "print(s + \"e\")  # Concatenación."
   ]
  },
  {
   "cell_type": "markdown",
   "id": "respiratory-formula",
   "metadata": {
    "tags": []
   },
   "source": [
    "## Conversión entre tipos"
   ]
  },
  {
   "cell_type": "markdown",
   "id": "under-booth",
   "metadata": {},
   "source": [
    "* A veces queremos que un objeto sea de un tipo específico. \n",
    "* Podemos obtener objetos de un tipo a partir de objetos de un tipo diferente (*casting*)."
   ]
  },
  {
   "cell_type": "code",
   "execution_count": null,
   "id": "bottom-penetration",
   "metadata": {},
   "outputs": [],
   "source": [
    "a = int(2.8)    # a será 2\n",
    "b = int(\"3\")    # b será 3\n",
    "c = float(1)    # c será 1.0\n",
    "d = float(\"3\")  # d será 3.0\n",
    "e = str(2)      # e será '2'\n",
    "f = str(3.0)    # f será '3.0'\n",
    "g = bool(\"a\")   # g será True\n",
    "h = bool(\"\")    # h será False\n",
    "i = bool(3)     # i será True\n",
    "j = bool(0)     # j será False\n",
    "\n",
    "print(a)\n",
    "print(type(a))\n",
    "print(b)\n",
    "print(type(b))\n",
    "print(c)\n",
    "print(type(c))\n",
    "print(d)\n",
    "print(type(d))\n",
    "print(e)\n",
    "print(type(e))\n",
    "print(f)\n",
    "print(type(f))\n",
    "print(g)\n",
    "print(type(g))\n",
    "print(h)\n",
    "print(type(h))\n",
    "print(i)\n",
    "print(type(i))\n",
    "print(j)\n",
    "print(type(j))"
   ]
  },
  {
   "cell_type": "code",
   "execution_count": null,
   "id": "cooperative-spirit",
   "metadata": {},
   "outputs": [],
   "source": [
    "print(7/4)       # División convencional. Resultado de tipo 'float'\n",
    "print(7//4)      # División entera. Resultado de tipo 'int'\n",
    "print(int(7/4))  # Divisón convencional. Conversión del resultado de 'float' a 'int'"
   ]
  },
  {
   "cell_type": "markdown",
   "id": "interstate-wallpaper",
   "metadata": {},
   "source": [
    "## Operadores"
   ]
  },
  {
   "cell_type": "markdown",
   "id": "successful-compatibility",
   "metadata": {},
   "source": [
    "#### Operatores aritméticos\n",
    "\n",
    "| Operador | Desc |\n",
    "|:---------|:-----|\n",
    "| a + b    | Suma |\n",
    "| a - b    | Resta |\n",
    "| a / b    | División |\n",
    "| a // b   | División Entera |\n",
    "| a % b    | Modulo / Resto |\n",
    "| a * b    | Multiplicacion |\n",
    "| a ** b   | Exponenciación |"
   ]
  },
  {
   "cell_type": "code",
   "execution_count": null,
   "id": "attached-robertson",
   "metadata": {},
   "outputs": [],
   "source": [
    "x = 3\n",
    "y = 2\n",
    "\n",
    "print('x + y = ', x + y)\n",
    "print('x - y = ', x - y)\n",
    "print('x * y = ', x * y)\n",
    "print('x / y = ', x / y)\n",
    "print('x // y = ', x // y)\n",
    "print('x % y = ', x % y)\n",
    "print('x ** y = ', x ** y)"
   ]
  },
  {
   "cell_type": "markdown",
   "id": "secret-percentage",
   "metadata": {},
   "source": [
    "#### Operadores de comparación\n",
    "\n",
    "| Operador | Desc |\n",
    "|:---------|:-----|\n",
    "| a > b    | Mayor |\n",
    "| a < b    | Menor |\n",
    "| a == b    | Igualdad |\n",
    "| a != b   | Desigualdad |\n",
    "| a >= b    | Mayor o Igual |\n",
    "| a <= b    | Menor o Igual |"
   ]
  },
  {
   "cell_type": "code",
   "execution_count": null,
   "id": "anticipated-diameter",
   "metadata": {},
   "outputs": [],
   "source": [
    "x = 10\n",
    "y = 12\n",
    "\n",
    "print('x > y  es ', x > y)\n",
    "print('x < y  es ', x < y)\n",
    "print('x == y es ', x == y)\n",
    "print('x != y es ', x != y)\n",
    "print('x >= y es ', x >= y)\n",
    "print('x <= y es ', x <= y)"
   ]
  },
  {
   "cell_type": "markdown",
   "id": "extraordinary-belfast",
   "metadata": {},
   "source": [
    "#### Operadores Lógicos\n",
    "\n",
    "\n",
    "| Operador | Desc |\n",
    "|:---------|:-----|\n",
    "| a and b  | True, si ambos son True |\n",
    "| a or b   | True, si alguno de los dos es True |\n",
    "| not a    | Negación |"
   ]
  },
  {
   "cell_type": "markdown",
   "id": "composed-titanium",
   "metadata": {},
   "source": [
    "Enlace a [Tablas de Verdad](https://en.wikipedia.org/wiki/Truth_table)."
   ]
  },
  {
   "cell_type": "code",
   "execution_count": null,
   "id": "affiliated-tradition",
   "metadata": {},
   "outputs": [],
   "source": [
    "x = True\n",
    "y = False\n",
    "\n",
    "print('x and y es :', x and y)\n",
    "print('x or y es  :', x or y)\n",
    "print('not x es   :', not x)"
   ]
  },
  {
   "cell_type": "markdown",
   "id": "narrative-minneapolis",
   "metadata": {},
   "source": [
    "#### Operadores de Asignación\n",
    "\n",
    "| Operador | Desc |\n",
    "|:---------|:-----|\n",
    "| =   | Asignación |\n",
    "| +=  | Suma y asignación |\n",
    "| -=  | Resta y asignación|\n",
    "| *=  | Multiplicación y asignación |\n",
    "| /=  | División y asignación |\n",
    "| %=  | Módulo y asignación |\n",
    "| //= | División entera y asignación |\n",
    "| **= | Exponencial y asignación |\n",
    "| &=  | And y asignación |\n",
    "| \\|=  | Or y asignación |\n",
    "| ^=  | Xor y asignación |\n",
    "| >>= | Despl. Derecha y asignación |\n",
    "| <<= | DEspl. Izquierda y asignación |"
   ]
  },
  {
   "cell_type": "code",
   "execution_count": null,
   "id": "optimum-commonwealth",
   "metadata": {},
   "outputs": [],
   "source": [
    "a = 5\n",
    "a *= 3   # a = a * 3\n",
    "a += 1   # No existe a++ \n",
    "print(a)\n",
    "\n",
    "b = 6\n",
    "b -= 2   # b = b - 2\n",
    "print(b)"
   ]
  },
  {
   "cell_type": "markdown",
   "id": "continent-dietary",
   "metadata": {},
   "source": [
    "#### Operadores de Identidad\n",
    "\n",
    "| Operador | Desc |\n",
    "|:---------|:-----|\n",
    "| a is b  | True, si ambos operadores son una referencia al mismo objeto |\n",
    "| a is not b | True, si ambos operadores *no* son una referencia al mismo objeto |"
   ]
  },
  {
   "cell_type": "code",
   "execution_count": null,
   "id": "nearby-diagram",
   "metadata": {},
   "outputs": [],
   "source": [
    "a = 4\n",
    "b = a\n",
    "print(a is b)\n",
    "print(a is not b)"
   ]
  },
  {
   "cell_type": "markdown",
   "id": "wrapped-shareware",
   "metadata": {},
   "source": [
    "#### Operadores de Pertenencia\n",
    "\n",
    "| Operador | Desc |\n",
    "|:---------|:-----|\n",
    "| a in b  | True, si *a* se encuentra en la secuencia *b* |\n",
    "| a not in b | True, si *a* no se encuentra en la secuencia *b* |"
   ]
  },
  {
   "cell_type": "code",
   "execution_count": null,
   "id": "dying-panel",
   "metadata": {},
   "outputs": [],
   "source": [
    "x = 'Hola Mundo'\n",
    "y = {1:'a',2:'b'}\n",
    "\n",
    "print('H' in x)         # True\n",
    "print('hola' not in x)  # True\n",
    "print(1 in y)           # True\n",
    "print('a' in y)         # False"
   ]
  },
  {
   "cell_type": "markdown",
   "id": "disabled-advertising",
   "metadata": {},
   "source": [
    "## Referencias"
   ]
  },
  {
   "cell_type": "markdown",
   "id": "comprehensive-waste",
   "metadata": {},
   "source": [
    "[1] Mark Lutz. *Learning Python: Powerful Object-Oriented Programming*. Fifth edition. O'Reilly (2013)"
   ]
  },
  {
   "cell_type": "markdown",
   "id": "insured-documentary",
   "metadata": {},
   "source": [
    "## Ejercicios"
   ]
  },
  {
   "cell_type": "markdown",
   "id": "operating-burner",
   "metadata": {},
   "source": [
    "1. Escribe un programa que muestre por pantalla la concatenación de un número y una cadena de caracteres. Para obtener esta concatenación puedes usar uno de los operadores explicados en este tema. Ejemplo: dado el número 3 y la cadena 'abc', el programa mostrará la cadena '3abc'.\n",
    "\n",
    "2. Escribe un programa que muestre por pantalla un valor booleano que indique si un número entero *N* está contenido en un intervalo semiabierto *[a,b)*, el cual establece una cota inferior *a* (inclusive) y una cota superior *b* (exclusive) para *N*.\n",
    "\n",
    "3. Escribe un programa que, dado dos strings *S1* y *S2* y dos números enteros *N1* y *N2*, determine si el substring que en *S1* se extiende desde la posición *N1* a la *N2* (ambos inclusive) está contenido en *S2*."
   ]
  },
  {
   "cell_type": "markdown",
   "id": "unsigned-revision",
   "metadata": {},
   "source": [
    "## Soluciones"
   ]
  },
  {
   "cell_type": "code",
   "execution_count": null,
   "id": "adaptive-baghdad",
   "metadata": {},
   "outputs": [],
   "source": [
    "# Ejercicio 1\n",
    "\n",
    "x = 3\n",
    "y = 'abc'\n",
    "\n",
    "print(str(x) + y)"
   ]
  },
  {
   "cell_type": "code",
   "execution_count": null,
   "id": "cutting-japanese",
   "metadata": {},
   "outputs": [],
   "source": [
    "# Ejercicio 2\n",
    "\n",
    "N = 5\n",
    "a = 0\n",
    "b = 6\n",
    "\n",
    "print(a <= N and N < b)"
   ]
  },
  {
   "cell_type": "code",
   "execution_count": null,
   "id": "joint-trailer",
   "metadata": {},
   "outputs": [],
   "source": [
    "# Ejercicio 3\n",
    "\n",
    "S1 = 'Java'\n",
    "S2 = 'JavaScript'\n",
    "N1 = 0\n",
    "N2 = 3\n",
    "\n",
    "print(S1[N1:N2+1] in S2)"
   ]
  }
 ],
 "metadata": {
  "kernelspec": {
   "display_name": "Python 3",
   "language": "python",
   "name": "python3"
  },
  "language_info": {
   "codemirror_mode": {
    "name": "ipython",
    "version": 3
   },
   "file_extension": ".py",
   "mimetype": "text/x-python",
   "name": "python",
   "nbconvert_exporter": "python",
   "pygments_lexer": "ipython3",
   "version": "3.9.2"
  }
 },
 "nbformat": 4,
 "nbformat_minor": 5
}
