{
 "cells": [
  {
   "cell_type": "markdown",
   "id": "generous-smell",
   "metadata": {},
   "source": [
    "<img src=\"img/viu_logo.png\" width=\"200\"><img src=\"img/python_logo.png\" width=\"250\"> *Mario Cervera*"
   ]
  },
  {
   "cell_type": "markdown",
   "id": "comic-touch",
   "metadata": {},
   "source": [
    "# Estructuras de datos avanzadas"
   ]
  },
  {
   "cell_type": "markdown",
   "id": "exposed-compact",
   "metadata": {},
   "source": [
    "Estructuras de datos básicas:\n",
    "\n",
    "* Listas.\n",
    "* Diccionarios.\n",
    "* Conjuntos (sets).\n",
    "* Tuplas."
   ]
  },
  {
   "cell_type": "markdown",
   "id": "academic-adventure",
   "metadata": {},
   "source": [
    "En esta sección veremos:\n",
    "\n",
    "* Array.\n",
    "* 2D Array.\n",
    "* Lista enlazada (linked list).\n",
    "* Pila (stack).\n",
    "* Cola (queue).\n",
    "* Cola de prioridad (heap).\n",
    "* Tabla Hash.\n",
    "* Grafo.\n",
    "\n",
    "> Es importante elegir estructura de datos en base a qué operaciones queremos que se ejecuten de manera eficiente."
   ]
  },
  {
   "cell_type": "markdown",
   "id": "beginning-arbor",
   "metadata": {},
   "source": [
    "## Array"
   ]
  },
  {
   "cell_type": "markdown",
   "id": "agricultural-invalid",
   "metadata": {},
   "source": [
    "* Estructura contigua de memoria.\n",
    "* Las *listas* de Python están implementas como arrays.\n",
    "* Acceso aleatorio rápido a través de un índice.\n",
    "    * Dirección de memoria + offset."
   ]
  },
  {
   "cell_type": "markdown",
   "id": "psychological-layer",
   "metadata": {},
   "source": [
    "<img src=\"img/EstructurasDatos/Array.png\" width=\"800\">"
   ]
  },
  {
   "cell_type": "code",
   "execution_count": 1,
   "id": "korean-remains",
   "metadata": {
    "ExecuteTime": {
     "start_time": "2023-05-29T13:42:09.286370Z",
     "end_time": "2023-05-29T13:42:09.290502Z"
    }
   },
   "outputs": [
    {
     "name": "stdout",
     "output_type": "stream",
     "text": [
      "[0, 3, 0, 0, 0]\n"
     ]
    }
   ],
   "source": [
    "array = [0, 0, 0, 0, 0]\n",
    "array[1] = 3\n",
    "print(array)"
   ]
  },
  {
   "cell_type": "markdown",
   "id": "split-reproduction",
   "metadata": {},
   "source": [
    "## 2D Array"
   ]
  },
  {
   "cell_type": "markdown",
   "id": "accurate-typing",
   "metadata": {},
   "source": [
    "* Estructura contigua de memoria.\n",
    "* Es un array de arrays.\n",
    "* Sirve para representación de *matrices*. Por lo tanto, puede verse como una tabla, con sus filas y columnas.\n",
    "* Acceso aleatorio rápido a través de 2 índices."
   ]
  },
  {
   "cell_type": "markdown",
   "id": "sound-caribbean",
   "metadata": {},
   "source": [
    "<img src=\"img/EstructurasDatos/2DArray.png\" width=\"900\">"
   ]
  },
  {
   "cell_type": "markdown",
   "id": "chubby-official",
   "metadata": {},
   "source": [
    "Ejemplo: registros de temperatura por día."
   ]
  },
  {
   "cell_type": "code",
   "execution_count": null,
   "id": "excellent-magic",
   "metadata": {},
   "outputs": [],
   "source": [
    "registros = [[10, 13, 16, 11], [5, 6, 8, 6], [11, 11, 12, 12], [7, 11, 16, 15]]\n",
    "print(registros[1][2]) #  Tercer registro del segundo día"
   ]
  },
  {
   "cell_type": "code",
   "execution_count": null,
   "id": "driving-premiere",
   "metadata": {},
   "outputs": [],
   "source": [
    "# Mostrar todos los registros\n",
    "for dia in registros:\n",
    "    for registro in dia:\n",
    "        print(registro, end = \" \")\n",
    "    print()"
   ]
  },
  {
   "cell_type": "markdown",
   "id": "static-alfred",
   "metadata": {},
   "source": [
    "## Lista enlazada (Linked list)"
   ]
  },
  {
   "cell_type": "markdown",
   "id": "knowing-praise",
   "metadata": {},
   "source": [
    "* Similar a los arrays, pero los elementos no están en posiciones contiguas de memoria.\n",
    "* Cada elemento es un nodo que contiene dos partes:\n",
    "    * Un dato.\n",
    "    * Un enlace al siguiente nodo de la lista.\n",
    "* No permite acceso aleatorio en base a un índice.\n",
    "* Inserciones y borrados más rápidos que en un array."
   ]
  },
  {
   "cell_type": "markdown",
   "id": "altered-fight",
   "metadata": {},
   "source": [
    "<img src=\"img/EstructurasDatos/LinkedList.png\" width=\"600\">"
   ]
  },
  {
   "cell_type": "markdown",
   "id": "adapted-payday",
   "metadata": {},
   "source": [
    "Implementación a través de *deque* (double-ended queue)."
   ]
  },
  {
   "cell_type": "code",
   "execution_count": null,
   "id": "conventional-delivery",
   "metadata": {},
   "outputs": [],
   "source": [
    "from collections import deque\n",
    "\n",
    "linked_list = deque('abcd')\n",
    "print(linked_list)\n",
    "\n",
    "linked_list.append('e')\n",
    "print(linked_list)\n",
    "\n",
    "linked_list.remove('b')\n",
    "print(linked_list)"
   ]
  },
  {
   "cell_type": "markdown",
   "id": "finite-secretariat",
   "metadata": {
    "tags": []
   },
   "source": [
    "## Pila (Stack)"
   ]
  },
  {
   "cell_type": "markdown",
   "id": "exposed-savannah",
   "metadata": {},
   "source": [
    "* Almacena items en orden Last-In/First-Out (LIFO).\n",
    "* Es decir, los items se extraen en orden contrario al orden de inserción.\n",
    "* Ejemplo de caso de uso: funcionalidad deshacer."
   ]
  },
  {
   "cell_type": "markdown",
   "id": "compressed-grill",
   "metadata": {},
   "source": [
    "<img src=\"img/EstructurasDatos/Stack.png\" width=\"800\">"
   ]
  },
  {
   "cell_type": "markdown",
   "id": "ranking-friendship",
   "metadata": {},
   "source": [
    "Hay varias opciones de implementación"
   ]
  },
  {
   "cell_type": "markdown",
   "id": "alien-operator",
   "metadata": {},
   "source": [
    "#### Pilas usando Listas"
   ]
  },
  {
   "cell_type": "markdown",
   "id": "british-rings",
   "metadata": {},
   "source": [
    "* *Push* con método *append*."
   ]
  },
  {
   "cell_type": "code",
   "execution_count": null,
   "id": "mathematical-charm",
   "metadata": {
    "pycharm": {
     "is_executing": true
    }
   },
   "outputs": [],
   "source": [
    "pila = []\n",
    "\n",
    "pila.append('a')\n",
    "pila.append('b')\n",
    "pila.append('c')\n",
    "\n",
    "print(pila)\n",
    "\n",
    "print(pila.pop())\n",
    "print(pila.pop())\n",
    "print(pila.pop())\n",
    "\n",
    "print(pila)"
   ]
  },
  {
   "cell_type": "markdown",
   "id": "adjustable-shannon",
   "metadata": {},
   "source": [
    "* Las listas están implementadas como un *array*.\n",
    "* Dado que los arrays son bloques de memoria contiguos, la operación *push* puede ocasionalmente tener un coste elevado.\n",
    "   * Esto es porque el array puede haberse quedado sin espacio. En este caso, Python internamente crea uno nuevo (más grande) y transfiere todos los elementos."
   ]
  },
  {
   "cell_type": "markdown",
   "id": "rational-technician",
   "metadata": {},
   "source": [
    "#### Pilas usando Deque"
   ]
  },
  {
   "cell_type": "code",
   "execution_count": null,
   "id": "corresponding-offering",
   "metadata": {},
   "outputs": [],
   "source": [
    "from collections import deque\n",
    "pila = deque()\n",
    "\n",
    "pila.append('a')\n",
    "pila.append('b')\n",
    "pila.append('c')\n",
    "\n",
    "print(pila)\n",
    "\n",
    "print(pila.pop())\n",
    "print(pila.pop())\n",
    "print(pila.pop())\n",
    "\n",
    "print(pila)"
   ]
  },
  {
   "cell_type": "markdown",
   "id": "compliant-halloween",
   "metadata": {},
   "source": [
    "* *Deque* está implementada como *lista enlazada*.\n",
    "* La operación *pop* siempre tiene coste bajo.\n",
    "* Para implementar una pila, *deque* es más apropiado."
   ]
  },
  {
   "cell_type": "markdown",
   "id": "sunrise-broad",
   "metadata": {},
   "source": [
    "## Cola (Queue)"
   ]
  },
  {
   "cell_type": "markdown",
   "id": "biblical-plate",
   "metadata": {},
   "source": [
    "* Almacena items en orden First-In/First-Out (FIFO).\n",
    "* Es decir, los items se extraen en orden de inserción.\n",
    "* Ejemplo de caso de uso: jobs de una impresora."
   ]
  },
  {
   "cell_type": "markdown",
   "id": "undefined-hampton",
   "metadata": {},
   "source": [
    "<img src=\"img/EstructurasDatos/Queue.png\" width=\"800\">"
   ]
  },
  {
   "cell_type": "markdown",
   "id": "undefined-disposal",
   "metadata": {},
   "source": [
    "#### Colas usando Deque"
   ]
  },
  {
   "cell_type": "markdown",
   "id": "composed-matthew",
   "metadata": {},
   "source": [
    "* *Enqueue* implementada como *append* y *dequeue* como *popleft*.\n",
    "* *Deque* está implementada como *lista enlazada*.\n",
    "* Ambas operaciones de las colas siempre tienen un coste bajo.\n",
    "* Es muy mala idea implementar colas usando listas de Python (arrays), ya que una de las operaciones requerirá desplazar todos los elementos."
   ]
  },
  {
   "cell_type": "code",
   "execution_count": null,
   "id": "spanish-curve",
   "metadata": {},
   "outputs": [],
   "source": [
    "from collections import deque\n",
    "\n",
    "q = deque()\n",
    "q.append(1)\n",
    "q.append(2)\n",
    "q.append(3)\n",
    "\n",
    "print(q)\n",
    "\n",
    "print(q.popleft())\n",
    "print(q.popleft())\n",
    "print(q.popleft())\n",
    "\n",
    "print(q)"
   ]
  },
  {
   "cell_type": "markdown",
   "id": "administrative-mount",
   "metadata": {},
   "source": [
    "## Cola de prioridad (heaps)"
   ]
  },
  {
   "cell_type": "markdown",
   "id": "automated-grant",
   "metadata": {},
   "source": [
    "* Es como una cola, pero en lugar de extraer por orden de inserción, se extrae por orden de prioridad (en base a algún criterio de ordenación).\n",
    "* Ejemplo de caso de uso: lista de tareas, donde quieres ir abordando la más urgente.\n",
    "\n",
    "\n",
    "* Operaciones:\n",
    "    * *insert*: inserta un elemento en la cola de prioridad.\n",
    "    * *extract min/max*: extrae el elemento de mayor prioridad."
   ]
  },
  {
   "cell_type": "markdown",
   "id": "descending-logging",
   "metadata": {},
   "source": [
    "#### Colas de prioridad usando Heapq"
   ]
  },
  {
   "cell_type": "markdown",
   "id": "suffering-finland",
   "metadata": {},
   "source": [
    "* Implementación basada en *array*.\n",
    "* En [este enlace](https://realpython.com/python-heapq-module/) podéis encontrar detalles de cómo se implementan colas de prioridad por medio de arrays."
   ]
  },
  {
   "cell_type": "code",
   "execution_count": null,
   "id": "brutal-skiing",
   "metadata": {},
   "outputs": [],
   "source": [
    "import heapq\n",
    "\n",
    "cola_prioridad = [3, 1, 9, 5]\n",
    "print('Array original:', cola_prioridad)\n",
    "heapq.heapify(cola_prioridad)\n",
    "print('Tras heapify:', cola_prioridad)\n",
    "\n",
    "heapq.heappush(cola_prioridad, 4)     # Insert\n",
    "print('Tras insertar 4: ', cola_prioridad)\n",
    "\n",
    "print('Pop devuelve:', heapq.heappop(cola_prioridad))  # Extract min\n",
    "print('Tras pop:', cola_prioridad)\n",
    "\n",
    "print('Pop devuelve:', heapq.heappop(cola_prioridad))  # Extract min\n",
    "print('Tras pop:', cola_prioridad)\n",
    "\n",
    "print('Pop devuelve:', heapq.heappop(cola_prioridad))  # Extract min\n",
    "print('Tras pop:', cola_prioridad)\n",
    "\n",
    "print('Pop devuelve:', heapq.heappop(cola_prioridad))  # Extract min\n",
    "print('Tras pop:', cola_prioridad)\n",
    "\n",
    "print('Pop devuelve:', heapq.heappop(cola_prioridad))  # Extract min\n",
    "print('Tras pop:', cola_prioridad)"
   ]
  },
  {
   "cell_type": "markdown",
   "id": "visible-presence",
   "metadata": {},
   "source": [
    "## Tabla Hash"
   ]
  },
  {
   "cell_type": "markdown",
   "id": "streaming-bradford",
   "metadata": {},
   "source": [
    "* Un array convencional + una función hash que determina el índice de cada elemento.\n",
    "* Aprovecha el acceso aleatorio de los arrays para soportar búsquedas muy eficientes.\n",
    "* Resolución de colisiones.\n",
    "    * Open addressing.\n",
    "    * Separate chaining."
   ]
  },
  {
   "cell_type": "markdown",
   "id": "interpreted-product",
   "metadata": {},
   "source": [
    "<img src=\"img/EstructurasDatos/TablaHash.png\" width=\"600\">"
   ]
  },
  {
   "cell_type": "markdown",
   "id": "tamil-biotechnology",
   "metadata": {},
   "source": [
    "Los conjuntos (sets) y diccionarios de Python se implementan como una Tabla Hash.\n",
    "\n",
    "Ejemplo: mantener registro de personas que han acudido a un evento."
   ]
  },
  {
   "cell_type": "code",
   "execution_count": 1,
   "id": "quick-familiar",
   "metadata": {
    "ExecuteTime": {
     "start_time": "2023-05-29T13:46:34.078014Z",
     "end_time": "2023-05-29T13:46:34.093636Z"
    }
   },
   "outputs": [
    {
     "name": "stdout",
     "output_type": "stream",
     "text": [
      "{'Beatriz Rodriguez', 'Pablo Gil', 'Jose Perez'}\n",
      "True\n",
      "False\n"
     ]
    }
   ],
   "source": [
    "personas = set()\n",
    "\n",
    "personas.add('Pablo Gil')\n",
    "personas.add('Jose Perez')\n",
    "personas.add('Beatriz Rodriguez')\n",
    "\n",
    "print(personas)\n",
    "\n",
    "print('Pablo Gil' in personas)\n",
    "print('Sofia Navarro' in personas)"
   ]
  },
  {
   "cell_type": "markdown",
   "id": "ideal-socket",
   "metadata": {},
   "source": [
    "## Grafo"
   ]
  },
  {
   "cell_type": "markdown",
   "id": "measured-anaheim",
   "metadata": {},
   "source": [
    "* Permiten representar redes (nodos relacionados entre sí por medio de aristas).\n",
    "* Características:\n",
    "    * Dirigidos vs no dirigidos.\n",
    "    * Ponderados vs no ponderados.\n",
    "* Gran multitud de aplicaciones: los nodos pueden representar cualquier cosa que sea de interés para nuestra aplicación."
   ]
  },
  {
   "cell_type": "markdown",
   "id": "distributed-smart",
   "metadata": {},
   "source": [
    "<img src=\"img/EstructurasDatos/Graph.png\" width=\"900\">"
   ]
  },
  {
   "cell_type": "markdown",
   "id": "forbidden-liabilities",
   "metadata": {},
   "source": [
    "Ejemplo: Camino más cortos ([Algoritmo de Dijkstra](https://es.wikipedia.org/wiki/Algoritmo_de_Dijkstra))."
   ]
  },
  {
   "cell_type": "markdown",
   "id": "british-balloon",
   "metadata": {},
   "source": [
    "#### Implementación por medio de Lista de Adyacencia"
   ]
  },
  {
   "cell_type": "markdown",
   "id": "aware-windsor",
   "metadata": {},
   "source": [
    "* Una lista de listas enlazadas donde cada nodo del grafo se almacena junto a los vertices adyacentes."
   ]
  },
  {
   "cell_type": "code",
   "execution_count": 13,
   "id": "leading-incentive",
   "metadata": {
    "ExecuteTime": {
     "start_time": "2023-05-29T13:55:30.785199Z",
     "end_time": "2023-05-29T13:55:30.797164Z"
    }
   },
   "outputs": [
    {
     "name": "stdout",
     "output_type": "stream",
     "text": [
      "{1: [2, 3], 2: [5], 3: [5], 4: [6], 5: [4, 6], 6: []}\n"
     ]
    }
   ],
   "source": [
    "grafo = {\n",
    "    1 : [2, 3],\n",
    "    2 : [5],\n",
    "    3 : [5],\n",
    "    4 : [6],\n",
    "    5 : [4, 6],\n",
    "    6 : []\n",
    "}\n",
    "\n",
    "print(grafo)"
   ]
  },
  {
   "cell_type": "markdown",
   "id": "dominant-clothing",
   "metadata": {},
   "source": [
    "Mostrar los nodos de un grafo:"
   ]
  },
  {
   "cell_type": "markdown",
   "source": [],
   "metadata": {
    "collapsed": false
   }
  },
  {
   "cell_type": "code",
   "execution_count": 3,
   "id": "infinite-victim",
   "metadata": {
    "ExecuteTime": {
     "start_time": "2023-05-29T13:50:05.006322Z",
     "end_time": "2023-05-29T13:50:05.053394Z"
    }
   },
   "outputs": [
    {
     "name": "stdout",
     "output_type": "stream",
     "text": [
      "[1, 2, 3, 4, 5, 6]\n"
     ]
    }
   ],
   "source": [
    "print(list(grafo.keys()))"
   ]
  },
  {
   "cell_type": "markdown",
   "id": "accessory-posting",
   "metadata": {},
   "source": [
    "Añadir nuevo nodo a un grafo:"
   ]
  },
  {
   "cell_type": "code",
   "execution_count": 16,
   "id": "painful-triangle",
   "metadata": {
    "ExecuteTime": {
     "start_time": "2023-05-29T13:55:47.836798Z",
     "end_time": "2023-05-29T13:55:47.852317Z"
    }
   },
   "outputs": [
    {
     "name": "stdout",
     "output_type": "stream",
     "text": [
      "{1: [2, 3], 2: [5], 3: [5], 4: [6], 5: [4, 6], 6: [], 8: []}\n"
     ]
    }
   ],
   "source": [
    "\n",
    "def anyadir_nodo(nodo):\n",
    "    if nodo not in grafo:\n",
    "        grafo[nodo] = []\n",
    "\n",
    "anyadir_nodo(8)\n",
    "print(grafo)"
   ]
  },
  {
   "cell_type": "markdown",
   "id": "referenced-technician",
   "metadata": {},
   "source": [
    "Añadir nueva arista:"
   ]
  },
  {
   "cell_type": "code",
   "execution_count": 22,
   "id": "consolidated-gilbert",
   "metadata": {
    "ExecuteTime": {
     "start_time": "2023-05-29T13:57:18.687462Z",
     "end_time": "2023-05-29T13:57:18.701374Z"
    }
   },
   "outputs": [
    {
     "name": "stdout",
     "output_type": "stream",
     "text": [
      "{1: [15, 1, 2, 3], 2: [5], 3: [5], 4: [6], 5: [4, 6], 6: [1, 4, 7], 8: []}\n"
     ]
    }
   ],
   "source": [
    "def anyadir_arista(nodo_origen, nodo_destino):\n",
    "    if nodo_origen in grafo and nodo_destino not in grafo[nodo_origen]:\n",
    "        grafo[nodo_origen].insert(0, nodo_destino)\n",
    "        \n",
    "anyadir_arista(1, 15)\n",
    "print(grafo)"
   ]
  },
  {
   "cell_type": "markdown",
   "id": "integrated-worth",
   "metadata": {},
   "source": [
    "## Ejercicios"
   ]
  },
  {
   "cell_type": "markdown",
   "id": "amino-conducting",
   "metadata": {},
   "source": [
    "1. Escribe una función que reciba como entrada una lista de palabras que puede contener duplicados y devuelva como resultado una lista que contenga las mismas palabras pero sin duplicados. En este ejercicio, deberás utilizar la estructura de datos auxiliar más apropiada para resolver el problema; es decir, aquella que lleve a un algoritmo eficiente. No se permite hacer un casting para transformar la lista de entrada a un objeto de tipo *set* o *dictionary*.\n",
    "\n",
    "2. Escribe una función que, dada una lista desordenada de números, utilice una cola de prioridad para devolver la lista de números ordenada.\n",
    "\n",
    "3. Escribe una función que, dada una lista desordenada de números, utilice una cola de prioridad para indicar cual es la mediana (es decir, el elemento central si la lista estuviera ordenada). Si la longitud de la lista de entrada es un número par, entonces el algoritmo puede devolver cualquiera de las 2 medianas válidas.\n",
    "\n",
    "4. Escribe una función que, dada una cadena de caracteres que puede incluir paréntesis '()' o corchetes '[]' compruebe si los paréntesis y corchetes aparecen de manera correcta, es decir, están balanceados. Ejemplo: tanto en '(aa(c))bb[a]' como en '([b])(aa)' los paréntesis y corchetes están balanceados; por lo tanto, la función devolverá *True*. En 'dd((abc[a)]' o en '[(a])' no lo están; por lo tanto, la función devolverá *False*. Pista: la estructura de datos *Pila* puede ser de gran ayuda para resolver este problema.\n",
    "\n",
    "5. Este ejercicio consiste en simular el orden LIFO (last-in first-out) de las pilas usando dos colas. En el siguiente programa, hay definidas dos colas: cola_1 y cola_2. Estas son las únicas estructuras de datos auxiliares que se permite usar para almacenar información. Estas estructuras están declaradas como deques, pero únicamente se permite usar las operaciones de las colas: enqueue (método *append*) y dequeue (método *popleft*). También se permite consultar el número de elementos existentes, por ejemplo, para comprobar si una cola está vacía. El ejercicio consiste en completar las funciones que simulan el orden LIFO (*insertar_LIFO* y *extraer_LIFO*) de manera que se satisfagan los tests definidos en la sección Tests."
   ]
  },
  {
   "cell_type": "code",
   "execution_count": null,
   "id": "copyrighted-lodge",
   "metadata": {},
   "outputs": [],
   "source": [
    "from collections import deque\n",
    "\n",
    "# Estructuras de datos. Son las únicas permitidas en este programa.\n",
    "\n",
    "cola_1 = deque()\n",
    "cola_2 = deque()\n",
    "\n",
    "# Funciones a completar.\n",
    "\n",
    "#def insertar_LIFO(elemento):\n",
    "    # ...\n",
    "\n",
    "#def extraer_LIFO():\n",
    "    # ...\n",
    "\n",
    "# ------------ Tests ------------\n",
    "\n"
   ]
  },
  {
   "cell_type": "markdown",
   "id": "figured-steel",
   "metadata": {},
   "source": [
    "## Soluciones"
   ]
  },
  {
   "cell_type": "code",
   "execution_count": null,
   "id": "mineral-concert",
   "metadata": {},
   "outputs": [],
   "source": [
    "# Ejercicio 1\n",
    "\n",
    "def eliminar_duplicados(lista):\n",
    "    objetos_ya_vistos = set()\n",
    "    lista_sin_duplicados = []\n",
    "    for objeto in lista:\n",
    "        if objeto not in objetos_ya_vistos:\n",
    "            lista_sin_duplicados.append(objeto)\n",
    "        objetos_ya_vistos.add(objeto)\n",
    "    return lista_sin_duplicados\n",
    "\n",
    "print(eliminar_duplicados([1,2,1,3,4,1,3,5,2,1,5]))"
   ]
  },
  {
   "cell_type": "code",
   "execution_count": null,
   "id": "cathedral-vegetable",
   "metadata": {},
   "outputs": [],
   "source": [
    "# Ejercicio 2\n",
    "\n",
    "import heapq\n",
    "\n",
    "def heapsort(lista):\n",
    "    cola_prioridad = []\n",
    "  \n",
    "    for elemento in lista:\n",
    "         heapq.heappush(cola_prioridad, elemento) \n",
    "        \n",
    "    lista_ordenada = []\n",
    "    while len(cola_prioridad) > 0:\n",
    "        elemento_extraido_de_cola = heapq.heappop(cola_prioridad)\n",
    "        lista_ordenada.append(elemento_extraido_de_cola)\n",
    "        \n",
    "    return lista_ordenada\n",
    "\n",
    "\n",
    "print(heapsort([6,10,1,4,9,16,2,5]))"
   ]
  },
  {
   "cell_type": "code",
   "execution_count": null,
   "id": "favorite-relation",
   "metadata": {},
   "outputs": [],
   "source": [
    "# Ejercicio 3\n",
    "\n",
    "import heapq\n",
    "\n",
    "def obtener_mediana(lista):\n",
    "    cola_prioridad = []\n",
    "  \n",
    "    for elemento in lista:\n",
    "         heapq.heappush(cola_prioridad, elemento) \n",
    "        \n",
    "    for _ in range(len(lista)//2 + 1):\n",
    "        mediana = heapq.heappop(cola_prioridad)\n",
    "        \n",
    "    return mediana\n",
    "\n",
    "\n",
    "print(obtener_mediana([6,10,1,4,9,16,2,5]))"
   ]
  },
  {
   "cell_type": "code",
   "execution_count": null,
   "id": "accomplished-washer",
   "metadata": {},
   "outputs": [],
   "source": [
    "# Ejercicio 4\n",
    "\n",
    "from collections import deque\n",
    "\n",
    "def match(c1, c2):\n",
    "    return (c1 == '(' and c2 == ')') or (c1 == '[' and c2 == ']')\n",
    "\n",
    "def esta_balanceado(s):\n",
    "    pila = deque()\n",
    "    for c in s:\n",
    "        if c == '(' or c == '[':\n",
    "            pila.append(c)\n",
    "        elif c == ')' or c == ']':\n",
    "            if len(pila) == 0 or not match(pila.pop(), c):\n",
    "                return False\n",
    "    return len(pila) == 0\n",
    "\n",
    "\n",
    "print(esta_balanceado('(aa(c))bb[a]'))\n",
    "print(esta_balanceado('([b])(aa)'))\n",
    "print(esta_balanceado('dd((abc[a)]'))\n",
    "print(esta_balanceado('[(a])'))"
   ]
  },
  {
   "cell_type": "code",
   "execution_count": null,
   "id": "emotional-optics",
   "metadata": {},
   "outputs": [],
   "source": [
    "# Ejercicio 5\n",
    "\n",
    "from collections import deque\n",
    "\n",
    "# Estructuras de datos. Son las únicas permitidas en este programa.\n",
    "\n",
    "cola_1 = deque()\n",
    "cola_2 = deque()\n",
    "\n",
    "# Funciones a completar.\n",
    "\n",
    "def insertar_LIFO(elemento):\n",
    "    intercambiar_elementos(cola_1, cola_2)\n",
    "    cola_1.append(elemento)\n",
    "    intercambiar_elementos(cola_2, cola_1)\n",
    "\n",
    "def extraer_LIFO():\n",
    "    try:\n",
    "        return cola_1.popleft()\n",
    "    except:\n",
    "        return None\n",
    "\n",
    "# Funciones auxiliares\n",
    "\n",
    "def intercambiar_elementos(cola_origen, cola_destino):\n",
    "    while len(cola_origen) > 0:\n",
    "        cola_destino.append(cola_origen.popleft())\n",
    "        \n",
    "# ------------ Tests ------------\n",
    "\n",
    "insertar_LIFO(6)\n",
    "insertar_LIFO(9)\n",
    "insertar_LIFO(1)\n",
    "insertar_LIFO(3)\n",
    "\n",
    "print(extraer_LIFO()) # Debe mostrar 3\n",
    "print(extraer_LIFO()) # Debe mostrar 1\n",
    "print(extraer_LIFO()) # Debe mostrar 9\n",
    "\n",
    "insertar_LIFO(5)\n",
    "insertar_LIFO(8)\n",
    "\n",
    "print(extraer_LIFO()) # Debe mostrar 8\n",
    "print(extraer_LIFO()) # Debe mostrar 5\n",
    "print(extraer_LIFO()) # Debe mostrar 6\n",
    "print(extraer_LIFO()) # Debe mostrar 'None'"
   ]
  }
 ],
 "metadata": {
  "kernelspec": {
   "display_name": "Python 3",
   "language": "python",
   "name": "python3"
  },
  "language_info": {
   "codemirror_mode": {
    "name": "ipython",
    "version": 3
   },
   "file_extension": ".py",
   "mimetype": "text/x-python",
   "name": "python",
   "nbconvert_exporter": "python",
   "pygments_lexer": "ipython3",
   "version": "3.9.2"
  }
 },
 "nbformat": 4,
 "nbformat_minor": 5
}
