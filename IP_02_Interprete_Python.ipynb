{
 "cells": [
  {
   "cell_type": "markdown",
   "id": "careful-still",
   "metadata": {},
   "source": [
    "<img src=\"img/viu_logo.png\" width=\"200\"><img src=\"img/python_logo.png\" width=\"250\"> *Mario Cervera*"
   ]
  },
  {
   "cell_type": "markdown",
   "id": "alien-charlotte",
   "metadata": {},
   "source": [
    "# Intérprete de Python y ejecución de scripts"
   ]
  },
  {
   "cell_type": "markdown",
   "id": "prostate-airplane",
   "metadata": {},
   "source": [
    "### ¿Qué es un intérprete?\n",
    "\n",
    "* Un programa que ejecuta otros programas.\n",
    "\n",
    "* Una capa de software entre tu código y el hardware que lo ejecuta.\n",
    "\n",
    "* Debe estar instalado en tu ordenador para poder ejecutar código Python.\n",
    "\n",
    "* Para la [especificación de Python](https://docs.python.org/3/reference/index.html), existen varias implementaciones:\n",
    "\n",
    "   * CPython (implementación en C). Es el más común.\n",
    "   * Jython (implementación en Java).\n",
    "   * IronPython (implementación en .NET)."
   ]
  },
  {
   "cell_type": "markdown",
   "id": "legitimate-palestinian",
   "metadata": {},
   "source": [
    "### ¿Cómo se lleva a cabo la ejecución de scripts?"
   ]
  },
  {
   "cell_type": "code",
   "execution_count": null,
   "id": "sixth-guidance",
   "metadata": {
    "tags": []
   },
   "outputs": [],
   "source": [
    "print('Hello World')"
   ]
  },
  {
   "cell_type": "markdown",
   "id": "southwest-sacramento",
   "metadata": {},
   "source": [
    "Guía con detalles para Windows, Linux y macOS: https://realpython.com/run-python-scripts/"
   ]
  },
  {
   "cell_type": "markdown",
   "id": "eastern-sport",
   "metadata": {},
   "source": [
    "### Perspectiva del desarrollador\n",
    "\n",
    "* Un script en Python es un fichero de texto que:\n",
    "\n",
    "  * Contiene instrucciones Python.\n",
    "  * Tiene extension *.py*.\n",
    "\n",
    "\n",
    "* Puedes ejecutar scripts:\n",
    "\n",
    "  * Línea de comandos\n",
    "  * IDE"
   ]
  },
  {
   "cell_type": "markdown",
   "id": "addressed-request",
   "metadata": {},
   "source": [
    "### Perspectiva de Python\n",
    "\n",
    "1. Compilación de código fuente a *byte code*.\n",
    "\n",
    "    * Código byte code se ejecuta más rápido.\n",
    "    * Ficheros *.pyc* que se almacenan en caché.\n",
    "    * Permite saltarse el paso de compilación.\n",
    "\n",
    "\n",
    "2. Python Virtual Machine (PVM)\n",
    "\n",
    "    * Ejecuta las instrucciones en *byte code*."
   ]
  },
  {
   "cell_type": "markdown",
   "id": "collected-curve",
   "metadata": {},
   "source": [
    "<img src=\"img/interpreter.png\" width=\"600\">*Imagen extraída de [1]*"
   ]
  },
  {
   "cell_type": "markdown",
   "id": "funded-corporation",
   "metadata": {},
   "source": [
    "### ¿Cómo puedes ejecutar tus scripts?"
   ]
  },
  {
   "cell_type": "markdown",
   "id": "studied-taiwan",
   "metadata": {},
   "source": [
    "### Línea de comandos\n",
    "\n",
    "* Ejecutar \"py\" o \"python\" para abrir una sesión interactiva del intérprete.\n",
    "* También ejecutando la aplicación \"Python\" desde el menú inicio.\n",
    "* Los caracteres \">>>\" indican que estás en una sesión interactiva.\n",
    "* Útil para experimentación y testing.\n",
    "\n",
    "```\n",
    ">>> print('Hello world')\n",
    "Hello world\n",
    "```\n",
    "\n",
    "Inconveniente: los programas que ejecutas en la línea de comandos desaparecen tras ser ejecutados."
   ]
  },
  {
   "cell_type": "markdown",
   "id": "numerical-lexington",
   "metadata": {},
   "source": [
    "### Ficheros\n",
    "\n",
    "* Permite almacenar programas.\n",
    "* Ficheros de texto con instrucciones Python.\n",
    "  * No olvidar *shebang* en Linux.\n",
    "* Terminología (varía segun fuentes):\n",
    "  * *Scripts* o *programas:* programa principal.\n",
    "  * *Módulos:* ficheros importados desde otros ficheros.\n",
    "\n",
    "\n",
    "* Se puede lanzar pasando nombre de fichero a comando *python*.\n",
    "\n",
    "```\n",
    "> python ./script1.py\n",
    "Hello world\n",
    "```\n",
    "\n",
    "* Otra alternativa (a partir the Python 3.3) es:\n",
    "\n",
    "```\n",
    "> py ./script1.py\n",
    "Hello world\n",
    "```\n",
    "\n",
    "* O incluso:\n",
    "\n",
    "```\n",
    "> ./script1.py\n",
    "Hello world\n",
    "```\n",
    "\n",
    "* También es posible hacer doble-click sobre fichero .py."
   ]
  },
  {
   "cell_type": "markdown",
   "id": "imported-briefs",
   "metadata": {},
   "source": [
    "## Referencias"
   ]
  },
  {
   "cell_type": "markdown",
   "id": "devoted-survivor",
   "metadata": {},
   "source": [
    "[1] Mark Lutz. *Learning Python: Powerful Object-Oriented Programming*. Fifth edition. O'Reilly (2013)"
   ]
  }
 ],
 "metadata": {
  "kernelspec": {
   "display_name": "Python 3",
   "language": "python",
   "name": "python3"
  },
  "language_info": {
   "codemirror_mode": {
    "name": "ipython",
    "version": 3
   },
   "file_extension": ".py",
   "mimetype": "text/x-python",
   "name": "python",
   "nbconvert_exporter": "python",
   "pygments_lexer": "ipython3",
   "version": "3.9.2"
  }
 },
 "nbformat": 4,
 "nbformat_minor": 5
}
