{
 "cells": [
  {
   "cell_type": "markdown",
   "id": "rental-safety",
   "metadata": {},
   "source": [
    "<img src=\"img/viu_logo.png\" width=\"200\"><img src=\"img/python_logo.png\" width=\"250\"> *Mario Cervera*"
   ]
  },
  {
   "cell_type": "markdown",
   "id": "moving-tissue",
   "metadata": {},
   "source": [
    "# Estructuras de control"
   ]
  },
  {
   "cell_type": "markdown",
   "id": "employed-millennium",
   "metadata": {},
   "source": [
    "## Primero, un poco de historia ..."
   ]
  },
  {
   "cell_type": "markdown",
   "id": "democratic-retreat",
   "metadata": {},
   "source": [
    "#### Lenguaje ensamblador\n",
    "\n",
    "* Lenguaje de bajo nivel de abstracción.\n",
    "* Dependiente de la arquitectura hardware.\n",
    "* Cada procesador define su propio conjunto de instrucciones."
   ]
  },
  {
   "cell_type": "markdown",
   "id": "reasonable-chart",
   "metadata": {},
   "source": [
    "<img src=\"img/EstructurasControl/AssemblyLanguage.jpg\" width=\"500\">"
   ]
  },
  {
   "cell_type": "markdown",
   "id": "impossible-stanley",
   "metadata": {
    "tags": []
   },
   "source": [
    "* Este tipo de código es mayormente lineal.\n",
    "* Sin embargo, el flujo de ejecución no lo es: hay saltos hacia delante y hacia atrás a posiciones arbitrarias del programa.\n",
    "* El código carece de una estructura visual que nos facilite la lectura y comprensión.\n",
    "* Este problema es especialmente relevante en programas más grandes."
   ]
  },
  {
   "cell_type": "markdown",
   "id": "split-rochester",
   "metadata": {},
   "source": [
    "<img src=\"img/EstructurasControl/AssemblyLanguage_Long.png\" width=\"400\">"
   ]
  },
  {
   "cell_type": "markdown",
   "id": "aggressive-accent",
   "metadata": {},
   "source": [
    "#### Sentencia goto\n",
    "\n",
    "* Alrededor de los años 50 y 60, lenguajes de más alto nivel de abstracción (independientes de la arquitectura hardware) comenzaron a cobrar protagonismo.\n",
    "* Estos lenguajes dependendían fuertemente de la sentencia *goto*.\n",
    "* La sentencia *goto* permitía al flujo de control saltar a posiciones arbitrarias del programa.\n",
    "\n",
    "Ejemplo: Fortran."
   ]
  },
  {
   "cell_type": "markdown",
   "id": "studied-firmware",
   "metadata": {},
   "source": [
    "<img src=\"img/EstructurasControl/Goto.png\" width=\"350\">"
   ]
  },
  {
   "cell_type": "markdown",
   "id": "retired-silly",
   "metadata": {},
   "source": [
    "#### Programación estructurada\n",
    "\n",
    "* Fue *Edsger W. Dijkstra* quién popularizó la idea de que la sentencia *goto* era perjudicial.\n",
    "\n",
    "   * [Go To Statement Considered Harmful (1968)](https://homepages.cwi.nl/~storm/teaching/reader/Dijkstra68.pdf)\n",
    "\n",
    "\n",
    "* No permite razonar de manera formal acerca de la corrección de un programa.\n",
    "\n",
    "\n",
    "* Nacimiento de la [Programación Estructurada](https://en.wikipedia.org/wiki/Structured_programming) como alternativa al *goto*.\n",
    "\n",
    "   * *Secuencia*: ejecución de instrucciones en línea.\n",
    "   * *Selección*: posibilidad de elegir si una instrucción es ejecutada o no.\n",
    "   * *Iteración*: repetición de la ejecución de instrucciones.\n",
    "\n",
    "\n",
    "* Estas estructuras de control nos permiten alterar el flujo de ejecución del programa para que no sea puramente *secuencial* de manera más intuitiva que a través de *gotos*."
   ]
  },
  {
   "cell_type": "markdown",
   "id": "attended-depression",
   "metadata": {},
   "source": [
    "<img src=\"img/EstructurasControl/StructuredProgramming.png\" width=\"800\">"
   ]
  },
  {
   "cell_type": "markdown",
   "id": "hollywood-check",
   "metadata": {},
   "source": [
    "## Selección (sentencias condicionales)\n",
    "\n",
    "* Selección de una de varias alternativas en base a alguna condición.\n",
    "* Indentación para estructurar el código\n",
    "* Importante el símbolo ':'"
   ]
  },
  {
   "cell_type": "code",
   "execution_count": null,
   "id": "herbal-surprise",
   "metadata": {},
   "outputs": [],
   "source": [
    "x = 1\n",
    "if x > 0:\n",
    "    print('Valor positivo')\n",
    "else:\n",
    "    print('Valor negativo')"
   ]
  },
  {
   "cell_type": "markdown",
   "id": "african-oakland",
   "metadata": {},
   "source": [
    "* Las condiciones son expresiones que se evalúan a *True* o *False*.\n",
    "* Recuerda los operadores de comparación, lógicos, de identidad y de pertenencia vistos en una unidad temática anterior."
   ]
  },
  {
   "cell_type": "code",
   "execution_count": null,
   "id": "periodic-original",
   "metadata": {},
   "outputs": [],
   "source": [
    "x = 3\n",
    "y = [1, 2, 3]\n",
    "\n",
    "print(x > 0)\n",
    "print(x > 0 and x < 10)\n",
    "print(x is not y)\n",
    "print(x in y)"
   ]
  },
  {
   "cell_type": "markdown",
   "id": "eight-probe",
   "metadata": {},
   "source": [
    "* Se pueden introducir más 'ramas' en sentencias condicionales a través de la palabra clave *elif*."
   ]
  },
  {
   "cell_type": "code",
   "execution_count": null,
   "id": "hollywood-azerbaijan",
   "metadata": {},
   "outputs": [],
   "source": [
    "x = -50\n",
    "if x > 0:\n",
    "    print('Valor positivo')\n",
    "elif x == 0:\n",
    "    print('Valor nulo')\n",
    "else:\n",
    "    print('Valor negativo')"
   ]
  },
  {
   "cell_type": "markdown",
   "id": "several-skating",
   "metadata": {},
   "source": [
    "* Anidamiento."
   ]
  },
  {
   "cell_type": "code",
   "execution_count": null,
   "id": "thorough-pickup",
   "metadata": {},
   "outputs": [],
   "source": [
    "val = 120\n",
    "if val > 0:\n",
    "    if val < 100:\n",
    "        print('Valor positivo')\n",
    "    else:\n",
    "      print('Valor muy positivo')\n",
    "else:\n",
    "    print('Valor negativo')"
   ]
  },
  {
   "cell_type": "markdown",
   "id": "adjusted-kansas",
   "metadata": {},
   "source": [
    "#### Expresión ternaria\n",
    "\n",
    "* Estructura if-else condensado en una línea.\n",
    "* Se recomienda usar solo en casos sencillos."
   ]
  },
  {
   "cell_type": "code",
   "execution_count": null,
   "id": "changed-realtor",
   "metadata": {},
   "outputs": [],
   "source": [
    "# Ejemplo: cálculo del valor absoluto de un número.\n",
    "\n",
    "x = -3\n",
    "resultado = x if x >= 0 else -x\n",
    "print(resultado)"
   ]
  },
  {
   "cell_type": "markdown",
   "id": "executed-franklin",
   "metadata": {},
   "source": [
    "#### Concatenación de comparaciones\n",
    "\n",
    "* Como vimos en una unidad temática anterior, se pueden concatenar comparaciones en una misma expresión:\n",
    "    * *and*: true, si ambos son true.\n",
    "    * *or*: true, si al menos uno es true.\n",
    "    * *not*: inversión del valor de verdad de una expresión.\n",
    "    \n",
    "Enlace a [Tablas de Verdad](https://es.wikipedia.org/wiki/Tabla_de_verdad)."
   ]
  },
  {
   "cell_type": "code",
   "execution_count": null,
   "id": "miniature-samuel",
   "metadata": {},
   "outputs": [],
   "source": [
    "genero = 'Drama'\n",
    "fecha_de_estreno = 1989\n",
    "\n",
    "if genero == 'Comedia' or genero == 'Acción':\n",
    "    print('Buena película!')\n",
    "elif fecha_de_estreno >= 1990 and fecha_de_estreno < 2000:\n",
    "    print('Buena década!')\n",
    "else:\n",
    "    print('Meh')"
   ]
  },
  {
   "cell_type": "markdown",
   "id": "biblical-andorra",
   "metadata": {},
   "source": [
    "#### Comparación de variables: '==' vs 'is'\n",
    "\n",
    "* '==' compara si el valor de las variables es el mismo\n",
    "* 'is' compara si los objetos en las variables son iguales (referencia)"
   ]
  },
  {
   "cell_type": "code",
   "execution_count": null,
   "id": "significant-nitrogen",
   "metadata": {},
   "outputs": [],
   "source": [
    "a = [1, 2, 3]\n",
    "b = [1, 2, 3]\n",
    "c = a\n",
    "\n",
    "print(a is b)\n",
    "print(a is c)\n",
    "print(a == b)\n",
    "\n",
    "print(id(a))\n",
    "print(id(b))\n",
    "print(id(c))"
   ]
  },
  {
   "cell_type": "markdown",
   "id": "working-freeze",
   "metadata": {},
   "source": [
    "#### Valor booleano\n",
    "\n",
    "* Todos los objetos en Python tiene inherentemente un valor booleano: *True* o *False*.\n",
    "* Cualquier número distinto de 0 ó cualquier objeto no vacío tienen valor *True*.\n",
    "* El número 0, objetos vacíos y el objeto especial *None* tienen valor *False*."
   ]
  },
  {
   "cell_type": "code",
   "execution_count": null,
   "id": "digital-model",
   "metadata": {},
   "outputs": [],
   "source": [
    "a = -10\n",
    "b = 0\n",
    "if a:\n",
    "    print(\"a es True\")\n",
    "if not b:\n",
    "    print(\"b es False\")"
   ]
  },
  {
   "cell_type": "code",
   "execution_count": null,
   "id": "alert-insurance",
   "metadata": {},
   "outputs": [],
   "source": [
    "c = []\n",
    "if c:\n",
    "    print(\"Lista no vacía\")\n",
    "else:\n",
    "    print(\"Lista vacía\")"
   ]
  },
  {
   "cell_type": "markdown",
   "id": "loved-calcium",
   "metadata": {},
   "source": [
    "# Iteración (bucles)\n",
    "\n",
    "* Repetición de un bloque de código.\n",
    "* La terminación del bucle depende del tipo de bucle.\n",
    "* Dos tipos: *while* y *for*."
   ]
  },
  {
   "cell_type": "markdown",
   "id": "brutal-latitude",
   "metadata": {},
   "source": [
    "#### Bucle 'while'\n",
    "\n",
    "* Repetición de un bloque de código hasta que se deje cumplir una expresión (es decir, hasta que una condición evalue a *False*).\n",
    "* Si la condición evalua a *False* desde el principio, el bloque de código nunca se ejecuta.\n",
    "* Cuidado con los bucles infinitos.\n",
    "\n",
    "Formato general:\n",
    "\n",
    "```\n",
    "while test:       # Mientras se cumple la condición\n",
    "    statements    # Instrucciones a ejecutar\n",
    "```"
   ]
  },
  {
   "cell_type": "code",
   "execution_count": null,
   "id": "extra-laptop",
   "metadata": {},
   "outputs": [],
   "source": [
    "# Ejemplo: Mostrar los primeros 3 objetos de una lista\n",
    "\n",
    "indice = 0\n",
    "numeros = [9, 4, 7, 1, 2]\n",
    "while indice < 3:\n",
    "    print(numeros[indice])\n",
    "    indice += 1"
   ]
  },
  {
   "cell_type": "code",
   "execution_count": null,
   "id": "chubby-calvin",
   "metadata": {},
   "outputs": [],
   "source": [
    "# Ejemplo: contar y mostrar los números inferiores a 10.\n",
    "\n",
    "numeros = [33, 3, 9, 21, 1, 7, 12, 10, 8]\n",
    "contador = 0\n",
    "indice = 0\n",
    "\n",
    "while indice < len(numeros):\n",
    "    if numeros[indice] < 10:\n",
    "        print(numeros[indice])\n",
    "        contador += 1\n",
    "    indice += 1\n",
    "\n",
    "print('Contador:', contador)\n",
    "print('Indice:', indice)"
   ]
  },
  {
   "cell_type": "code",
   "execution_count": null,
   "id": "gentle-registration",
   "metadata": {},
   "outputs": [],
   "source": [
    "nombre = 'Pablo'\n",
    "while nombre: # Mientras 'nombre' no sea vacío\n",
    "    print(nombre)\n",
    "    nombre = nombre[1:]"
   ]
  },
  {
   "cell_type": "markdown",
   "id": "dirty-somewhere",
   "metadata": {},
   "source": [
    "#### Bucle 'for'\n",
    "\n",
    "* Permite recorrer los items de una *sequencia* o un objeto *iterable*.\n",
    "* Funciona en strings, listas, tuplas, etc.\n",
    "\n",
    "Formato general:\n",
    "\n",
    "```\n",
    "for item in objeto:   # Asigna los items del objeto a la variable item en cada iteración\n",
    "    statements        # Instrucciones a ejecutar\n",
    "```"
   ]
  },
  {
   "cell_type": "code",
   "execution_count": null,
   "id": "aware-reverse",
   "metadata": {},
   "outputs": [],
   "source": [
    "peliculas = [23, 'Avatar', 'Star Wars']\n",
    "for pelicula in peliculas:\n",
    "    print(pelicula)"
   ]
  },
  {
   "cell_type": "markdown",
   "id": "manual-republic",
   "metadata": {},
   "source": [
    "* También se usa para iterar un número preestablecido de veces (*counted loops*):"
   ]
  },
  {
   "cell_type": "code",
   "execution_count": null,
   "id": "august-mumbai",
   "metadata": {},
   "outputs": [],
   "source": [
    "for i in range(10):\n",
    "    print(i)"
   ]
  },
  {
   "cell_type": "raw",
   "source": [
    "* *range* es útil en combinación con *len* porque permite acceder a los elementos de una *secuencia* por posición."
   ],
   "metadata": {
    "collapsed": false
   }
  },
  {
   "cell_type": "code",
   "execution_count": 1,
   "id": "surrounded-parker",
   "metadata": {
    "ExecuteTime": {
     "start_time": "2023-05-09T10:56:42.183275Z",
     "end_time": "2023-05-09T10:56:42.192753Z"
    }
   },
   "outputs": [
    {
     "name": "stdout",
     "output_type": "stream",
     "text": [
      "P\n",
      "a\n",
      "b\n",
      "l\n",
      "o\n"
     ]
    }
   ],
   "source": [
    "nombre = 'Pablo'\n",
    "for i in range(len(nombre)):\n",
    "    print(nombre[i])"
   ]
  },
  {
   "cell_type": "markdown",
   "id": "respected-terror",
   "metadata": {},
   "source": [
    "* Iteración de tuplas:"
   ]
  },
  {
   "cell_type": "code",
   "execution_count": null,
   "id": "portuguese-polyester",
   "metadata": {},
   "outputs": [],
   "source": [
    "tuplas = [(1, 2), (3, 4), (5, 6)]\n",
    "for (a, b) in tuplas:\n",
    "    print(a, b)"
   ]
  },
  {
   "cell_type": "markdown",
   "id": "celtic-heather",
   "metadata": {},
   "source": [
    "* Iteración de diccionarios. Se iteran las claves:"
   ]
  },
  {
   "cell_type": "code",
   "execution_count": null,
   "id": "changed-coordinator",
   "metadata": {},
   "outputs": [],
   "source": [
    "diccionario = {'a': 1, 'b': 2, 'c': 3}\n",
    "for key in diccionario:\n",
    "    print(key, '=>', diccionario[key])"
   ]
  },
  {
   "cell_type": "markdown",
   "id": "original-miniature",
   "metadata": {},
   "source": [
    "* Para iterar los pares (clave-valor) o únicamente los valores, se deben usar los métodos *items* y *values*."
   ]
  },
  {
   "cell_type": "code",
   "execution_count": null,
   "id": "future-decline",
   "metadata": {},
   "outputs": [],
   "source": [
    "for (key, value) in diccionario.items():\n",
    "    print(key, '=>', value)"
   ]
  },
  {
   "cell_type": "code",
   "execution_count": null,
   "id": "front-geography",
   "metadata": {},
   "outputs": [],
   "source": [
    "for value in diccionario.values():\n",
    "    print(value)"
   ]
  },
  {
   "cell_type": "markdown",
   "id": "straight-disability",
   "metadata": {},
   "source": [
    "* La variable *item* en la cabecera del *for* puede ser cualquier expresión que sea válida como parte izquierda de una asignación convencional."
   ]
  },
  {
   "cell_type": "code",
   "execution_count": null,
   "id": "antique-andrews",
   "metadata": {},
   "outputs": [],
   "source": [
    "for a, b, c in [(1, 2, 3), (4, 5, 6)]:\n",
    "    print(a, b, c)"
   ]
  },
  {
   "cell_type": "markdown",
   "id": "elect-background",
   "metadata": {},
   "source": [
    "## Las sentencias break, continue y else"
   ]
  },
  {
   "cell_type": "markdown",
   "id": "military-participant",
   "metadata": {},
   "source": [
    "#### Break y continue\n",
    "\n",
    "* Solo tienen sentido dentro de bucles.\n",
    "* *Break* permite terminar el bucle por completo.\n",
    "* *Continue* permite saltar a la siguiente iteración, continuando con el bucle.\n",
    "* Pueden aparecer en cualquier parte de un bucle, pero normalmente aparecen dentro de sentencias condicionales (if)."
   ]
  },
  {
   "cell_type": "code",
   "execution_count": null,
   "id": "optimum-warner",
   "metadata": {},
   "outputs": [],
   "source": [
    "# Ejemplo: break\n",
    "\n",
    "calificacion_a_encontrar = 4.2\n",
    "calificaciones_peliculas = [4.9, 2.5, 1.7, 4.2, 3.8, 3.3, 2.9]\n",
    "\n",
    "for calificacion in calificaciones_peliculas:\n",
    "    print(calificacion)\n",
    "    if calificacion == calificacion_a_encontrar:\n",
    "        print(\"Encontrada\")\n",
    "        break"
   ]
  },
  {
   "cell_type": "code",
   "execution_count": 2,
   "id": "undefined-relationship",
   "metadata": {
    "ExecuteTime": {
     "start_time": "2023-05-09T11:25:38.510859Z",
     "end_time": "2023-05-09T11:25:38.566232Z"
    }
   },
   "outputs": [
    {
     "name": "stdout",
     "output_type": "stream",
     "text": [
      "Numero impar: 1\n",
      "Numero impar: 3\n",
      "Numero impar: 5\n",
      "Numero impar: 7\n",
      "Numero impar: 9\n"
     ]
    }
   ],
   "source": [
    "for i in range(10):\n",
    "    if i % 2 == 0: continue          # Si el número es par, salta a la siguiente iteración\n",
    "    print('Numero impar:', end=' ')\n",
    "    print(i)"
   ]
  },
  {
   "cell_type": "markdown",
   "id": "rapid-installation",
   "metadata": {},
   "source": [
    "* Observa como la sentencia *continue* te puede ayudar a reducir el número de niveles de anidamiento.\n",
    "* Sin *continue* el anterior ejemplo sería:"
   ]
  },
  {
   "cell_type": "code",
   "execution_count": 3,
   "id": "injured-financing",
   "metadata": {
    "ExecuteTime": {
     "start_time": "2023-05-09T11:25:41.386296Z",
     "end_time": "2023-05-09T11:25:41.446420Z"
    }
   },
   "outputs": [
    {
     "name": "stdout",
     "output_type": "stream",
     "text": [
      "Numero impar: 1\n",
      "Numero impar: 3\n",
      "Numero impar: 5\n",
      "Numero impar: 7\n",
      "Numero impar: 9\n"
     ]
    }
   ],
   "source": [
    "for i in range(10):\n",
    "    if i % 2 != 0:\n",
    "        print('Numero impar:', end=' ')\n",
    "        print(i)"
   ]
  },
  {
   "cell_type": "markdown",
   "id": "right-novelty",
   "metadata": {},
   "source": [
    "#### Else\n",
    "\n",
    "* Los bucles pueden tener una sensencia *else*.\n",
    "* Resulta poco intuitiva para muchos programadores porque esta sintaxis no existe en otros lenguajes.\n",
    "* Se ejecuta cuando el bucle termina con normalidad; es decir, cuando no termina a causa de un *break*."
   ]
  },
  {
   "cell_type": "code",
   "execution_count": 10,
   "id": "distinguished-auckland",
   "metadata": {
    "ExecuteTime": {
     "start_time": "2023-05-09T11:33:01.745517Z",
     "end_time": "2023-05-09T11:33:01.755599Z"
    }
   },
   "outputs": [
    {
     "name": "stdout",
     "output_type": "stream",
     "text": [
      "Encontrado\n"
     ]
    }
   ],
   "source": [
    "nombre = 'Pablo'\n",
    "str_a_encontrar = 'o'\n",
    "\n",
    "while nombre:\n",
    "    if nombre[0] == str_a_encontrar:\n",
    "        print('Encontrado')\n",
    "        break\n",
    "    nombre = nombre[1:]\n",
    "else:\n",
    "    print('No encontrado')"
   ]
  },
  {
   "cell_type": "markdown",
   "id": "compressed-given",
   "metadata": {},
   "source": [
    "## Ejercicios"
   ]
  },
  {
   "cell_type": "markdown",
   "id": "shared-austria",
   "metadata": {},
   "source": [
    "1. Escribe un programa que calcule la suma de todos los elementos de una *lista* dada. La lista sólo puede contener elementos numéricos.\n",
    "\n",
    "2. Dada una lista con elementos duplicados, escribir un programa que muestre una nueva lista con el mismo contenido que la primera pero sin elementos duplicados. Para este ejercicio, no puedes hacer uso de objetos de tipo 'Set'. \n",
    "\n",
    "3. Escribe un programa que construya un diccionario que contenga un número (entre 1 y *n*) de elementos de esta forma: (x, x*x). Ejemplo: para n = 5, el diccionario resultante sería {1: 1, 2: 4, 3: 9, 4: 16, 5: 25}\n",
    "\n",
    "4. Escribe un programa que, dada una lista de palabras, compruebe si alguna empieza por 'a' y tiene más de 9 caracteres. Si dicha palabra existe, el programa deberá terminar en el momento exacto de encontrarla. El programa también debe mostrar un mensaje apropiado por pantalla que indique el éxito o el fracaso de la búsqueda. En caso de éxito, también se mostrará por pantalla la palabra encontrada.\n",
    "\n",
    "5. Dada una lista *L* de números positivos, escribir un programa que muestre otra lista (ordenada) que contenga todo índice *i* que cumpla la siguiente condición: *L[i]* es múltiplo de 3. Por ejemplo, dada la lista *L* = [3,5,13,12,1,9] el programa mostrará la lista [0,3,5] dado que *L[0], L[3] y L[5]* son, respectivamente, 3, 12 y 9, que son los únicos múltiplos de 3 que hay en *L*.\n",
    "\n",
    "6. Dado un diccionario cuyos elementos son pares de tipo string y numérico (es decir, las claves son de tipo 'str' y los valores son de tipo 'int' o 'float'), escribe un programa que muestre por pantalla la clave cuyo valor asociado representa el valor númerico más alto de todo el diccionario. Por ejemplo, para el diccionario {'a': 4.3, 'b': 1, 'c': 7.8, 'd': -5} la respuesta sería 'c', dado que 7.8 es el valor más alto de los números 4.3, 1, 7.8 y -5.\n",
    "\n",
    "7. Dada la lista *a* = [2, 4, 6, 8] y la lista *b* = [7, 11, 15, 22], escribe un programa que itere las listas *a* y *b* y multiplique cada elemento de *a* que sea mayor que 5 por cada elemento de *b* que sea menor que 14. El programa debe mostrar los resultados por pantalla."
   ]
  },
  {
   "cell_type": "markdown",
   "id": "based-skiing",
   "metadata": {},
   "source": [
    "## Soluciones"
   ]
  },
  {
   "cell_type": "code",
   "execution_count": 16,
   "id": "altered-wagon",
   "metadata": {
    "ExecuteTime": {
     "start_time": "2023-05-09T11:37:03.659447Z",
     "end_time": "2023-05-09T11:37:03.659447Z"
    }
   },
   "outputs": [
    {
     "name": "stdout",
     "output_type": "stream",
     "text": [
      "20\n"
     ]
    }
   ],
   "source": [
    "# Ejercicio 1\n",
    "\n",
    "numeros = [1,5,9,2,3]\n",
    "\n",
    "suma = 0\n",
    "for numero in numeros:\n",
    "    suma += numero\n",
    "    \n",
    "print(suma)"
   ]
  },
  {
   "cell_type": "code",
   "execution_count": 22,
   "id": "registered-drink",
   "metadata": {
    "ExecuteTime": {
     "start_time": "2023-05-09T11:39:45.119119Z",
     "end_time": "2023-05-09T11:39:45.119119Z"
    }
   },
   "outputs": [
    {
     "name": "stdout",
     "output_type": "stream",
     "text": [
      "[1, 2, 3, 4, 5]\n"
     ]
    }
   ],
   "source": [
    "# Ejercicio 2\n",
    "\n",
    "numeros = [1,2,2,3,4,5,4,5,3,3,1]\n",
    "\n",
    "resultado = []\n",
    "for numero in numeros:\n",
    "    if numero not in resultado:\n",
    "        resultado.append(numero)\n",
    "\n",
    "print(resultado)"
   ]
  },
  {
   "cell_type": "code",
   "execution_count": null,
   "id": "prostate-election",
   "metadata": {},
   "outputs": [],
   "source": [
    "# Ejercicio 3\n",
    "\n",
    "n = 5\n",
    "diccionario = {}\n",
    "\n",
    "for i in range(1,n+1):\n",
    "    diccionario[i] = i*i\n",
    "    \n",
    "print(diccionario)"
   ]
  },
  {
   "cell_type": "code",
   "execution_count": 1,
   "id": "informed-guide",
   "metadata": {
    "ExecuteTime": {
     "start_time": "2023-05-09T15:36:55.654368Z",
     "end_time": "2023-05-09T15:36:55.670002Z"
    }
   },
   "outputs": [
    {
     "name": "stdout",
     "output_type": "stream",
     "text": [
      "Palabra encontrada: asignaturas\n"
     ]
    }
   ],
   "source": [
    "# Ejercicio 4\n",
    "\n",
    "palabras = [\"\", \"VIU\", \"python\", \"asignaturas\", \"programación\", \"java\", \"estudiantes\", \"académicos\"]\n",
    "\n",
    "for palabra in palabras:\n",
    "    if len(palabra) >= 3 and palabra[0] == 'a':\n",
    "        print(f\"Palabra encontrada: {palabra}\")\n",
    "        break\n",
    "else:\n",
    "    print(\"Palabra no encontrada\")"
   ]
  },
  {
   "cell_type": "code",
   "execution_count": null,
   "id": "designed-abuse",
   "metadata": {},
   "outputs": [],
   "source": [
    "# Ejercicio 5\n",
    "\n",
    "L = [3,5,13,12,1,9]\n",
    "\n",
    "resultado = []\n",
    "for i in range(len(L)):\n",
    "    if L[i] % 3 == 0:\n",
    "        resultado.append(i)\n",
    "        \n",
    "print(resultado)"
   ]
  },
  {
   "cell_type": "code",
   "execution_count": null,
   "id": "perfect-technical",
   "metadata": {},
   "outputs": [],
   "source": [
    "# Ejercicio 6\n",
    "\n",
    "d = {'a':4.3, 'b':1, 'c':7.8, 'd':-5}\n",
    "\n",
    "maximo = float(\"-inf\") # Inicializamos la variable 'maximo' a -infinito. Para este ejercicio, también valdría cualquier valor negativo muy pequeño.\n",
    "\n",
    "if(len(d) == 0):\n",
    "    print(\"El diccionario está vacío\")\n",
    "\n",
    "for clave, valor in d.items():\n",
    "    if valor > maximo:\n",
    "        maximo = valor\n",
    "        resultado = clave\n",
    "        \n",
    "print(resultado)"
   ]
  },
  {
   "cell_type": "code",
   "execution_count": null,
   "id": "spread-topic",
   "metadata": {},
   "outputs": [],
   "source": [
    "# Ejercicio 7\n",
    "\n",
    "a = [2, 4, 6, 8]\n",
    "b = [7, 11, 15, 22]\n",
    "\n",
    "for i in a:\n",
    "    if i > 5:\n",
    "        for j in b:\n",
    "            if j < 14:\n",
    "                print(f\"{i} x {j} = {i*j}\")"
   ]
  }
 ],
 "metadata": {
  "kernelspec": {
   "display_name": "Python 3",
   "language": "python",
   "name": "python3"
  },
  "language_info": {
   "codemirror_mode": {
    "name": "ipython",
    "version": 3
   },
   "file_extension": ".py",
   "mimetype": "text/x-python",
   "name": "python",
   "nbconvert_exporter": "python",
   "pygments_lexer": "ipython3",
   "version": "3.9.2"
  }
 },
 "nbformat": 4,
 "nbformat_minor": 5
}
