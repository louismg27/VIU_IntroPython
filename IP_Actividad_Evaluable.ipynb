{
 "cells": [
  {
   "cell_type": "markdown",
   "id": "pacific-sharp",
   "metadata": {},
   "source": [
    "<img src=\"img/viu_logo.png\" width=\"200\"><img src=\"img/python_logo.png\" width=\"250\"> *Mario Cervera*"
   ]
  },
  {
   "cell_type": "markdown",
   "id": "canadian-convenience",
   "metadata": {},
   "source": [
    "# Introducción a la Programación - Actividad Evaluable"
   ]
  },
  {
   "cell_type": "markdown",
   "id": "brave-lodging",
   "metadata": {},
   "source": [
    "**Ejercicio 1.** (1 punto) Sin usar expresiones literales, ni sentencias condicionales, ni bucles: (1) Crear una lista ordenada que contenga los números del 1 al 20 (ambos inclusive). Posteriormente, (2) usando la lista creada en el apartado (1), mostrar por pantalla otra lista que contenga sólo los números múltiplos de 5, es decir: [5, 10, 15, 20]."
   ]
  },
  {
   "cell_type": "markdown",
   "source": [],
   "metadata": {
    "collapsed": false
   }
  },
  {
   "cell_type": "code",
   "execution_count": 20,
   "outputs": [
    {
     "name": "stdout",
     "output_type": "stream",
     "text": [
      "lista con multiplos de 5: [5, 10, 15, 20]\n"
     ]
    }
   ],
   "source": [
    "lista_ordenada = list(range(1,21))\n",
    "lista_multiplos = list(filter(lambda x: x % 5 == 0, lista_ordenada))\n",
    "print(f\"lista con multiplos de 5: {lista_multiplos}\")"
   ],
   "metadata": {
    "collapsed": false,
    "ExecuteTime": {
     "start_time": "2023-05-14T11:52:17.860488Z",
     "end_time": "2023-05-14T11:52:17.876093Z"
    }
   }
  },
  {
   "cell_type": "markdown",
   "id": "american-school",
   "metadata": {},
   "source": [
    "**Ejercicio 2.** (1 punto) Crear una función que reciba como parámetro una lista con objetos de diferentes tipos. Por simplificar, para este problema se consideran únicamente números *enteros*, números *decimales* y *strings*. La función debe devolver como resultado la suma de los números (enteros y decimales) e ignorar los strings. Ejemplo: el resultado para la lista ['b', 'c', 1, 3.4, 'a', 2] sería 6.4."
   ]
  },
  {
   "cell_type": "code",
   "execution_count": 21,
   "outputs": [
    {
     "name": "stdout",
     "output_type": "stream",
     "text": [
      "la suma total de numeros enteros y decimales en la lista es 6.4\n"
     ]
    }
   ],
   "source": [
    "list_objetos=[\"b\",\"c\",1,3.4,\"a\",2]\n",
    "def sumaAll(lista):\n",
    "    suma =0\n",
    "    for i in lista:\n",
    "        if(type(i)==float) or (type(i)==int):\n",
    "            suma+=i\n",
    "    print(f\"la suma total de numeros enteros y decimales en la lista es {suma}\")\n",
    "\n",
    "sumaAll(list_objetos)\n"
   ],
   "metadata": {
    "collapsed": false,
    "ExecuteTime": {
     "start_time": "2023-05-14T11:52:22.250152Z",
     "end_time": "2023-05-14T11:52:22.265794Z"
    }
   }
  },
  {
   "cell_type": "markdown",
   "id": "amateur-creation",
   "metadata": {},
   "source": [
    "**Ejercicio 3.** (2 puntos) Escribir un programa (sin funciones) que compare dos diccionarios cualquiera y muestre *True* por pantalla si tienen algún elemento en común y *False* en caso contrario. Tener un elemento en común significa que existe un elemento (clave-valor) que está presente en ambos diccionarios. Por ejemplo, el programa mostrará *True* para los diccionarios a = {'a': 3, 'b': 4} y b = {'c': 1, 'a': 3} dado que ambos incluyen el elemento 'a': 3."
   ]
  },
  {
   "cell_type": "code",
   "execution_count": 32,
   "outputs": [
    {
     "name": "stdout",
     "output_type": "stream",
     "text": [
      "True\n"
     ]
    }
   ],
   "source": [
    "a ={'a':3, 'b':4}\n",
    "b ={'c':1, 'a':3}\n",
    "encomun=False\n",
    "for claveA,valorA in a.items():\n",
    "    for claveB,valorB in b.items():\n",
    "        if claveA==claveB and valorA==valorB:\n",
    "            encomun=True\n",
    "print(encomun)"
   ],
   "metadata": {
    "collapsed": false,
    "ExecuteTime": {
     "start_time": "2023-05-14T12:14:30.182992Z",
     "end_time": "2023-05-14T12:14:30.199627Z"
    }
   }
  },
  {
   "cell_type": "markdown",
   "id": "quality-antenna",
   "metadata": {},
   "source": [
    "**Ejercicio 4.** (2 puntos) Escribe una función que reciba como parámetros dos strings y compruebe si estos strings cumplen las siguientes propiedades: (1) ambos strings tienen los mismos caracteres y, además, (2) estos caracteres aparecen el mismo número de veces en ambos strings (es decir, si el primer string tiene 3 'a', por ejemplo, el segundo string también tendrá 3 'a', aunque éstas pueden aparecer en posiciones diferentes). Para resolver el problema, **no** puedes importar ningún módulo de Python (como, por ejemplo, *collections*) ni usar funciones de ordenación (como *sort*).\n",
    "\n",
    "   * Ejemplos para los que la función devolverá *False*:\n",
    "       * 'hola' y 'adios'.\n",
    "       * 'java' y 'javascript'.\n",
    "       * 'maria' y 'mariam'.\n",
    "       * 'aab' y 'abb'.\n",
    "\n",
    "\n",
    "   * Ejemplos para los que la función devolverá *True*:\n",
    "       * 'python' y 'python'\n",
    "       * 'listen' y 'silent'\n",
    "       * 'aabbcc' y 'abcabc'"
   ]
  },
  {
   "cell_type": "code",
   "execution_count": 73,
   "outputs": [],
   "source": [
    "def comparar(s1,s2):\n",
    "    dicc1={}\n",
    "    dicc2={}\n",
    "    result=True\n",
    "    for is1 in s1:\n",
    "        if is1 in dicc1:\n",
    "            dicc1[is1]+=1\n",
    "        if is1 not in dicc1:\n",
    "            dicc1[is1]=1\n",
    "    for is2 in s2:\n",
    "        if is2 in dicc2:\n",
    "            dicc2[is2]+=1\n",
    "        if is2 not in dicc2:\n",
    "            dicc2[is2]=1\n",
    "    for clave1,valor1 in dicc1.items():\n",
    "        if clave1 in dicc2 and valor1==dicc2[clave1] and len(dicc1)==len(dicc2):\n",
    "            continue\n",
    "        else:\n",
    "            result=False\n",
    "            break\n",
    "    return result"
   ],
   "metadata": {
    "collapsed": false,
    "ExecuteTime": {
     "start_time": "2023-05-14T16:54:47.093811Z",
     "end_time": "2023-05-14T16:54:47.108871Z"
    }
   }
  },
  {
   "cell_type": "code",
   "execution_count": 74,
   "outputs": [
    {
     "name": "stdout",
     "output_type": "stream",
     "text": [
      "False\n"
     ]
    }
   ],
   "source": [
    "p1='hola'\n",
    "p2='adios'\n",
    "print(comparar(p1,p2))"
   ],
   "metadata": {
    "collapsed": false,
    "ExecuteTime": {
     "start_time": "2023-05-14T16:55:17.381652Z",
     "end_time": "2023-05-14T16:55:17.397782Z"
    }
   }
  },
  {
   "cell_type": "code",
   "execution_count": 75,
   "outputs": [
    {
     "name": "stdout",
     "output_type": "stream",
     "text": [
      "False\n"
     ]
    }
   ],
   "source": [
    "p1 = 'java'\n",
    "p2 = 'javascript'\n",
    "print(comparar(p1, p2))"
   ],
   "metadata": {
    "collapsed": false,
    "ExecuteTime": {
     "start_time": "2023-05-14T16:55:48.269806Z",
     "end_time": "2023-05-14T16:55:48.280913Z"
    }
   }
  },
  {
   "cell_type": "code",
   "execution_count": 77,
   "outputs": [
    {
     "name": "stdout",
     "output_type": "stream",
     "text": [
      "False\n"
     ]
    }
   ],
   "source": [
    "p1 = 'maria'\n",
    "p2 = 'mariam'\n",
    "print(comparar(p1, p2))"
   ],
   "metadata": {
    "collapsed": false,
    "ExecuteTime": {
     "start_time": "2023-05-14T16:56:34.715673Z",
     "end_time": "2023-05-14T16:56:34.727306Z"
    }
   }
  },
  {
   "cell_type": "code",
   "execution_count": 76,
   "outputs": [
    {
     "name": "stdout",
     "output_type": "stream",
     "text": [
      "False\n"
     ]
    }
   ],
   "source": [
    "p1 = 'aab'\n",
    "p2 = 'abb'\n",
    "print(comparar(p1, p2))"
   ],
   "metadata": {
    "collapsed": false,
    "ExecuteTime": {
     "start_time": "2023-05-14T16:56:32.434904Z",
     "end_time": "2023-05-14T16:56:32.445963Z"
    }
   }
  },
  {
   "cell_type": "code",
   "execution_count": 78,
   "outputs": [
    {
     "name": "stdout",
     "output_type": "stream",
     "text": [
      "True\n"
     ]
    }
   ],
   "source": [
    "p1 = 'python'\n",
    "p2 = 'python'\n",
    "print(comparar(p1, p2))"
   ],
   "metadata": {
    "collapsed": false,
    "ExecuteTime": {
     "start_time": "2023-05-14T16:56:53.558074Z",
     "end_time": "2023-05-14T16:56:53.573890Z"
    }
   }
  },
  {
   "cell_type": "code",
   "execution_count": 79,
   "outputs": [
    {
     "name": "stdout",
     "output_type": "stream",
     "text": [
      "True\n"
     ]
    }
   ],
   "source": [
    "p1 = 'listen'\n",
    "p2 = 'silent'\n",
    "print(comparar(p1, p2))"
   ],
   "metadata": {
    "collapsed": false,
    "ExecuteTime": {
     "start_time": "2023-05-14T16:57:04.996772Z",
     "end_time": "2023-05-14T16:57:05.010862Z"
    }
   }
  },
  {
   "cell_type": "code",
   "execution_count": 80,
   "outputs": [
    {
     "name": "stdout",
     "output_type": "stream",
     "text": [
      "True\n"
     ]
    }
   ],
   "source": [
    "p1 = 'aabbcc'\n",
    "p2 = 'abcabc'\n",
    "print(comparar(p1, p2))"
   ],
   "metadata": {
    "collapsed": false,
    "ExecuteTime": {
     "start_time": "2023-05-14T16:57:32.540856Z",
     "end_time": "2023-05-14T16:57:32.549214Z"
    }
   }
  },
  {
   "cell_type": "markdown",
   "id": "enhanced-liver",
   "metadata": {},
   "source": [
    "**Ejercicio 5.** (2 puntos) En \"*./actividades/res/ciudades.csv*\" tenéis un fichero CSV con información acerca de un conjunto de ciudades: nombre de la ciudad, país al que pertenece y número de habitantes. Escribir un programa que acceda al fichero y obtenga:\n",
    "\n",
    "* Una *lista* con los nombres de las ciudades españolas que tienen más de 300.000 habitantes.\n",
    "* El *número total* de ciudades francesas.\n",
    "\n",
    "El programa debe mostrar la lista y el número por pantalla."
   ]
  },
  {
   "cell_type": "code",
   "execution_count": 41,
   "outputs": [
    {
     "name": "stdout",
     "output_type": "stream",
     "text": [
      "['Valencia', 'Bilbao', 'Madrid', 'Sevilla', 'Barcelona']\n",
      "Total de ciudades francesas:  3\n"
     ]
    }
   ],
   "source": [
    "import csv\n",
    "\n",
    "with open(\"res/ciudades.csv\") as fichero:\n",
    "    data_reader = csv.reader(fichero,delimiter='|')\n",
    "    col1_ciudad=[]\n",
    "    col2_pais=[]\n",
    "    col3_habitantes=[]\n",
    "\n",
    "    for linea in data_reader:\n",
    "        col1_ciudad.append(linea[0])\n",
    "        col2_pais.append(linea[1])\n",
    "        col3_habitantes.append(linea[2])\n",
    "    col1_ciudad.pop(0)\n",
    "    col2_pais.pop(0)\n",
    "    col3_habitantes.pop(0)\n",
    "    col3_habitantes = list(map(int,col3_habitantes))\n",
    "\n",
    "lista_filtrada=[]\n",
    "total_city_france=0\n",
    "for i in range(len(col1_ciudad)):\n",
    "    if col2_pais[i]==\"Espanya\" and col3_habitantes[i]>300000:\n",
    "        lista_filtrada.append(col1_ciudad[i])\n",
    "    if col2_pais[i]==\"Francia\":\n",
    "        total_city_france=total_city_france+1\n",
    "print(lista_filtrada) ##Una lista con los nombres de las ciudades españols con mas de 300k habitantes\n",
    "print(f\"Total de ciudades francesas:  {total_city_france}\")"
   ],
   "metadata": {
    "collapsed": false,
    "ExecuteTime": {
     "start_time": "2023-05-17T16:23:59.694147Z",
     "end_time": "2023-05-17T16:23:59.712690Z"
    }
   }
  },
  {
   "cell_type": "markdown",
   "id": "entertaining-ideal",
   "metadata": {},
   "source": [
    "**Ejercicio 6.** (2 puntos) Escribe una *list comprehension* que obtenga una lista que contenga todos los números impares del 1 al 30 (ambos inclusive). Aquellos que sean múltiplos de 5, serán marcados con una 'x'. Es decir, el resultado debe ser: [1, 3, '5x', 7, 9, 11, 13, '15x', 17, 19, 21, 23, '25x', 27, 29]"
   ]
  },
  {
   "cell_type": "code",
   "execution_count": 42,
   "outputs": [
    {
     "name": "stdout",
     "output_type": "stream",
     "text": [
      "[1, 3, '5x', 7, 9, 11, 13, '15x', 17, 19, 21, 23, '25x', 27, 29]\n"
     ]
    }
   ],
   "source": [
    "lista = [num  if num % 5 != 0 else str(num) + 'x' for num in range(1, 31) if num % 2 != 0 ]\n",
    "print(lista)"
   ],
   "metadata": {
    "collapsed": false,
    "ExecuteTime": {
     "start_time": "2023-05-17T16:24:04.366067Z",
     "end_time": "2023-05-17T16:24:04.384048Z"
    }
   }
  }
 ],
 "metadata": {
  "kernelspec": {
   "display_name": "Python 3 (ipykernel)",
   "language": "python",
   "name": "python3"
  },
  "language_info": {
   "codemirror_mode": {
    "name": "ipython",
    "version": 3
   },
   "file_extension": ".py",
   "mimetype": "text/x-python",
   "name": "python",
   "nbconvert_exporter": "python",
   "pygments_lexer": "ipython3",
   "version": "3.11.2"
  }
 },
 "nbformat": 4,
 "nbformat_minor": 5
}
