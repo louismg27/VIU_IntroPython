{
 "cells": [
  {
   "cell_type": "markdown",
   "id": "brutal-bottle",
   "metadata": {},
   "source": [
    "<img src=\"img/viu_logo.png\" width=\"200\"><img src=\"img/python_logo.png\" width=\"250\"> *Mario Cervera*"
   ]
  },
  {
   "cell_type": "markdown",
   "id": "outer-jurisdiction",
   "metadata": {},
   "source": [
    "# Programación Orientada a Objetos (OOP)"
   ]
  },
  {
   "cell_type": "markdown",
   "id": "alike-fairy",
   "metadata": {},
   "source": [
    "* En Python, todo son *objetos*.\n",
    "\n",
    "* Vamos a formalizar está noción, detallando como Python da soporte al paradigma de *Programación Orientada a Objetos*.\n",
    "\n",
    "* **Importante**: uso de la sentencia *class* para definir nuestros propios *tipos* de objetos."
   ]
  },
  {
   "cell_type": "markdown",
   "id": "equal-action",
   "metadata": {},
   "source": [
    "## ¿Qué son las clases?"
   ]
  },
  {
   "cell_type": "markdown",
   "id": "crude-rainbow",
   "metadata": {},
   "source": [
    "Imagina que en Python escribes la siguiente expresión:\n",
    "    \n",
    "```\n",
    "3 + 4 \n",
    "```\n",
    "\n",
    "* '3' y '4' son objetos de tipo *int*.\n",
    "\n",
    "* '+' representa una operación (suma) que se puede realizar sobre ellos.\n",
    "\n",
    "El hecho de que estos objetos sean de tipo *int* establece:\n",
    "\n",
    "* **Datos**: los objetos son bits almacenados en memoria. Los bits que se almacenan en memoria, y como éstos son interpretados, viene determinado por el tipo. No es lo mismo un objeto de tipo *bool* que un objeto de tipo *int*.\n",
    "* **Comportamiento**: las operaciones soportadas por los objetos. No se pueden realizar las mismas operaciones sobre un objeto de tipo *str* que sobre uno de tipo *int*.\n",
    "\n",
    "Las clases permiten definir nuevos tipos de objetos, especificando:\n",
    "\n",
    "* Qué *datos* encapsulan los objetos.\n",
    "* El *comportamiento* (operaciones) que estos objetos soportan.\n",
    "\n",
    "Ejemplo:\n",
    "\n",
    "   * *Empleado* puede ser un tipo de objeto que contenga *nombre* y *edad* como datos, y cuyas operaciones soportadas sean *pagar* y *despedir*."
   ]
  },
  {
   "cell_type": "markdown",
   "id": "formed-permit",
   "metadata": {},
   "source": [
    "<img src=\"img/OOP/ClaseEmpleado.png\" width=\"600\">"
   ]
  },
  {
   "cell_type": "markdown",
   "id": "distributed-coordinator",
   "metadata": {},
   "source": [
    "## Lenguajes estáticos vs lenguages dinámicos"
   ]
  },
  {
   "cell_type": "markdown",
   "id": "superb-staff",
   "metadata": {},
   "source": [
    "Diferencia importante:\n",
    "\n",
    "* Lenguajes de tipado estático (Java, C++, ...):\n",
    "\n",
    "   * Los datos y las operaciones de los objetos vienen determinados en tiempo de compilación.\n",
    "\n",
    "\n",
    "* Lenguajes de tipado dinámico (Python, JavaScript, ...):\n",
    "\n",
    "   * Las clases definen datos y operaciones, pero éstos pueden modificarse dinámicamente en ejecución."
   ]
  },
  {
   "cell_type": "code",
   "execution_count": null,
   "id": "square-hungarian",
   "metadata": {},
   "outputs": [],
   "source": [
    "# Definición de la clase.\n",
    "\n",
    "class Empleado:\n",
    "    pass\n",
    "\n",
    "# Instanciación de la clase: creación de un objeto.\n",
    "\n",
    "empleado = Empleado()\n",
    "empleado.nombre = 'Pablo García'  # La clase no define nada, pero puedo añadir el dato 'nombre' al empleado.\n",
    "print(empleado.nombre)"
   ]
  },
  {
   "cell_type": "code",
   "execution_count": null,
   "id": "economic-baltimore",
   "metadata": {},
   "outputs": [],
   "source": [
    "# Definición de la clase.\n",
    "\n",
    "class Empleado:\n",
    "    def __init__(self, nombre_empleado):\n",
    "        self.nombre = nombre_empleado  # El dato 'nombre' también puede ser definido en la clase.\n",
    "\n",
    "# Instanciación de la clase: creación de un objeto.\n",
    "\n",
    "empleado = Empleado('Carlos López')\n",
    "print(empleado.nombre)"
   ]
  },
  {
   "cell_type": "markdown",
   "id": "welcome-booking",
   "metadata": {},
   "source": [
    "### ¿Y cómo puedo definir comportamiento?"
   ]
  },
  {
   "cell_type": "markdown",
   "id": "bound-adrian",
   "metadata": {},
   "source": [
    "* Definiendo funciones *dentro* de la clase.\n",
    "\n",
    "* Cada una de estas funciones establece una operación que se puede ejecutar sobre objetos del tipo definido por la clase.\n",
    "\n",
    "* Cuando una función pertenece a una clase, a la función se le llama **método**."
   ]
  },
  {
   "cell_type": "code",
   "execution_count": null,
   "id": "green-nicholas",
   "metadata": {},
   "outputs": [],
   "source": [
    "class Empleado:\n",
    "    def __init__(self, nombre_empleado):\n",
    "        self.nombre = nombre_empleado\n",
    "        \n",
    "    def presentar(self):\n",
    "        print(f'Hola, me llamo {self.nombre}.')\n",
    "\n",
    "\n",
    "empleado = Empleado('Carlos López')\n",
    "empleado.presentar()"
   ]
  },
  {
   "cell_type": "markdown",
   "id": "dense-registration",
   "metadata": {},
   "source": [
    "### Self"
   ]
  },
  {
   "cell_type": "markdown",
   "id": "executed-permission",
   "metadata": {},
   "source": [
    "Cuando un método es invocado sobre un objeto, implícitamente recibe *self* como primer argumento.\n",
    "\n",
    "*self* siempre hace referencia al 'objeto actual'. En este caso, el objeto (instancia de la clase) sobre el que se invoca el método: el sujeto de la llamada.\n",
    "\n",
    "```\n",
    "instance.method(args)\n",
    "```\n",
    "\n",
    "Se podría ver como una llamada de esta forma:\n",
    "\n",
    "```\n",
    "method(instance, args)\n",
    "```"
   ]
  },
  {
   "cell_type": "markdown",
   "id": "indoor-field",
   "metadata": {},
   "source": [
    "### Constructor"
   ]
  },
  {
   "cell_type": "markdown",
   "id": "refined-adventure",
   "metadata": {},
   "source": [
    "* El método *\\_\\_init\\_\\_* se invoca al crear instancias de la clase.\n",
    "\n",
    "* Se suele usar para inicializar los datos de los objetos."
   ]
  },
  {
   "cell_type": "code",
   "execution_count": null,
   "id": "portuguese-present",
   "metadata": {},
   "outputs": [],
   "source": [
    "class Persona():\n",
    "    def __init__(self, dni, nombre, apellido, edad):\n",
    "        self.dni = dni\n",
    "        self.nombre = nombre\n",
    "        self.apellido = apellido\n",
    "        self.edad = edad\n",
    "\n",
    "persona = Persona(\"11111111A\", \"Ana\", \"López\", 28)\n",
    "\n",
    "print(persona.dni)\n",
    "print(persona.nombre)\n",
    "print(persona.apellido)\n",
    "print(persona.edad)"
   ]
  },
  {
   "cell_type": "markdown",
   "id": "loving-helena",
   "metadata": {},
   "source": [
    "## Atributos: la notación '.'"
   ]
  },
  {
   "cell_type": "markdown",
   "id": "simple-grill",
   "metadata": {},
   "source": [
    "La notación ...\n",
    "\n",
    "```\n",
    "objeto.atributo\n",
    "```\n",
    "\n",
    "... es muy importante, ya que nos permite acceder a los datos y métodos de la clase, y también nos permite añadir datos y métodos dinámicamente.\n",
    "\n",
    "*Atributo* es un nombre genérico que se le puede dar a los datos y métodos de las clases."
   ]
  },
  {
   "cell_type": "markdown",
   "id": "equipped-cowboy",
   "metadata": {},
   "source": [
    "## Datos y comportamiento de instancia y de clase"
   ]
  },
  {
   "cell_type": "markdown",
   "id": "violent-settle",
   "metadata": {},
   "source": [
    "\n",
    "**Datos**\n",
    "\n",
    "* La asignación de un objeto (dato) dentro de una sentencia *class* se convierte en un **dato de clase** si no es asociado a *self*.\n",
    "\n",
    "* Estos objetos establecerán **datos compartidos** por todas las instancias.\n",
    "\n",
    "* Si un objeto es asociado a self, representará **datos de instancia**.\n",
    "\n",
    "**Comportamiento**\n",
    "\n",
    "* Una función definida dentro de una sentencia *class* establece **comportamiento compartido** por todas las instancias.\n",
    "\n",
    "    * Esto son los *métodos* de la clase.\n",
    "\n",
    "\n",
    "* Cuando una función definida dentro de una clase no tiene acceso a *self*, se dice que es una **función de clase**."
   ]
  },
  {
   "cell_type": "code",
   "execution_count": 1,
   "id": "international-castle",
   "metadata": {
    "ExecuteTime": {
     "start_time": "2023-05-29T14:14:14.093585Z",
     "end_time": "2023-05-29T14:14:14.125101Z"
    }
   },
   "outputs": [
    {
     "name": "stdout",
     "output_type": "stream",
     "text": [
      "Google\n",
      "Google\n",
      "Google\n"
     ]
    }
   ],
   "source": [
    "class Empleado:\n",
    "    empresa = \"Google\"  # dato compartido por todas las instancias\n",
    "    \n",
    "    def mostrar_empresa(self):    # Función de clase\n",
    "        print(f\"Todos los empleados trabajan en {Empleado.empresa}\")\n",
    "    \n",
    "    def __init__(self):\n",
    "        self.salario = 1000  # dato de instancia\n",
    "    \n",
    "    def incrementar_salario(self, incremento):  # comportamiento compartido por todas las instancias\n",
    "        self.salario += incremento\n",
    "\n",
    "        \n",
    "empleado_1 = Empleado()\n",
    "empleado_2 = Empleado()\n",
    "\n",
    "print(empleado_1.empresa)\n",
    "print(empleado_2.empresa)\n",
    "print(Empleado.empresa)\n",
    "\n",
    "#empleado_1.mostrar_empresa()\n",
    "#empleado_2.mostrar_empresa()\n",
    "#Empleado.mostrar_empresa()\n",
    "\n",
    "#empleado_1.incrementar_salario(200)\n",
    "#empleado_2.incrementar_salario(500)\n",
    "\n",
    "#print(empleado_1.salario)\n",
    "#print(empleado_2.salario)"
   ]
  },
  {
   "cell_type": "markdown",
   "id": "deadly-album",
   "metadata": {},
   "source": [
    "## Herencia"
   ]
  },
  {
   "cell_type": "markdown",
   "id": "recognized-customs",
   "metadata": {},
   "source": [
    "* Una clase puede *heredar* de otra clase.\n",
    "\n",
    "    * Una relación de herencia es una relación *es-un*. Por ejemplo: un Estudiante *es una* Persona.\n",
    "\n",
    "\n",
    "* La **subclase** (o clase hija)  obtiene todos los datos y comportamientos de la **superclase** (clase padre).\n",
    "\n",
    "* Una subclase puede añadir datos y comportamientos nuevos, más específicos.\n",
    "\n",
    "* Una subclase puede reemplazar o extender comportamientos heredados de la superclase."
   ]
  },
  {
   "cell_type": "markdown",
   "id": "bronze-campbell",
   "metadata": {},
   "source": [
    "<img src=\"img/OOP/Herencia.png\" width=\"700\">"
   ]
  },
  {
   "cell_type": "code",
   "execution_count": 2,
   "id": "polish-million",
   "metadata": {},
   "outputs": [
    {
     "ename": "NameError",
     "evalue": "name 'self' is not defined",
     "output_type": "error",
     "traceback": [
      "\u001B[1;31m---------------------------------------------------------------------------\u001B[0m",
      "\u001B[1;31mNameError\u001B[0m                                 Traceback (most recent call last)",
      "Cell \u001B[1;32mIn[2], line 28\u001B[0m\n\u001B[0;32m     25\u001B[0m         \u001B[38;5;28mself\u001B[39m\u001B[38;5;241m.\u001B[39msalario \u001B[38;5;241m+\u001B[39m\u001B[38;5;241m=\u001B[39m \u001B[38;5;241m100\u001B[39m\n\u001B[0;32m     27\u001B[0m persona \u001B[38;5;241m=\u001B[39m Persona(\u001B[38;5;124m\"\u001B[39m\u001B[38;5;124mAna López\u001B[39m\u001B[38;5;124m\"\u001B[39m)\n\u001B[1;32m---> 28\u001B[0m \u001B[43mpersona\u001B[49m\u001B[38;5;241;43m.\u001B[39;49m\u001B[43mpresentar\u001B[49m\u001B[43m(\u001B[49m\u001B[43m)\u001B[49m\n\u001B[0;32m     29\u001B[0m \u001B[38;5;66;03m#persona.matricular('Introducción a la Programación')  # Error\u001B[39;00m\n\u001B[0;32m     31\u001B[0m estudiante \u001B[38;5;241m=\u001B[39m Estudiante(\u001B[38;5;124m\"\u001B[39m\u001B[38;5;124mAna López\u001B[39m\u001B[38;5;124m\"\u001B[39m)\n",
      "Cell \u001B[1;32mIn[2], line 6\u001B[0m, in \u001B[0;36mPersona.presentar\u001B[1;34m(args)\u001B[0m\n\u001B[0;32m      5\u001B[0m \u001B[38;5;28;01mdef\u001B[39;00m \u001B[38;5;21mpresentar\u001B[39m(args):\n\u001B[1;32m----> 6\u001B[0m     \u001B[38;5;28mprint\u001B[39m(\u001B[38;5;124mf\u001B[39m\u001B[38;5;124m'\u001B[39m\u001B[38;5;124mHola, me llamo \u001B[39m\u001B[38;5;132;01m{\u001B[39;00m\u001B[38;5;28mself\u001B[39m\u001B[38;5;241m.\u001B[39mnombre\u001B[38;5;132;01m}\u001B[39;00m\u001B[38;5;124m.\u001B[39m\u001B[38;5;124m'\u001B[39m)\n",
      "\u001B[1;31mNameError\u001B[0m: name 'self' is not defined"
     ]
    }
   ],
   "source": [
    "class Persona:\n",
    "    def __init__(self, nombre):\n",
    "        self.nombre = nombre\n",
    "        \n",
    "    def presentar(self):\n",
    "        print(f'Hola, me llamo {self.nombre}.')\n",
    "        \n",
    "class Estudiante(Persona):\n",
    "    def __init__(self, nombre):\n",
    "        super().__init__(nombre)\n",
    "        self.asignaturas = []\n",
    "        \n",
    "    def matricular(self, asignatura):\n",
    "        self.asignaturas.append(asignatura)\n",
    "        \n",
    "class Profesor(Persona):\n",
    "    def __init__(self, nombre, salario):\n",
    "        super().__init__(nombre)\n",
    "        self.salario = salario\n",
    "        \n",
    "    def presentar(self):\n",
    "        print(f'Hola, soy la profesora {self.nombre}.')\n",
    "\n",
    "    def anyadir_sexenio(self):\n",
    "        self.salario += 100\n",
    "\n",
    "persona = Persona(\"Ana López\")\n",
    "persona.presentar()\n",
    "#persona.matricular('Introducción a la Programación')  # Error\n",
    "\n",
    "estudiante = Estudiante(\"Ana López\")\n",
    "estudiante.presentar()\n",
    "#estudiante.matricular('Introducción a la Programación')\n",
    "#estudiante.matricular('Inteligencia Artificial')\n",
    "#print(estudiante.asignaturas)\n",
    "\n",
    "profesor = Profesor(\"Ana López\", 1500)\n",
    "profesor.presentar()\n",
    "#profesor.anyadir_sexenio()\n",
    "#print(profesor.salario)"
   ]
  },
  {
   "cell_type": "markdown",
   "id": "suspended-poetry",
   "metadata": {},
   "source": [
    "## Sintaxis general de la sentencia 'class'"
   ]
  },
  {
   "cell_type": "markdown",
   "id": "related-collectible",
   "metadata": {},
   "source": [
    "```\n",
    "class nombre_clase(superclases, ...):    # Nombre de la clase y superclases.\n",
    "   \n",
    "   dato = valor                          # Datos de clase: compartidos por todas las instancias.\n",
    "   \n",
    "   def funcion(args):                    # Funciones de clase.\n",
    "      ...\n",
    "   \n",
    "   def metodo(self, args):               # Métodos: comportamiento compartido por todas las instancias.\n",
    "      self.dato = valor                  # Datos de instancia.\n",
    "```"
   ]
  },
  {
   "cell_type": "markdown",
   "id": "banned-kernel",
   "metadata": {},
   "source": [
    "## Extensión vs reemplazo"
   ]
  },
  {
   "cell_type": "markdown",
   "id": "stuffed-wellington",
   "metadata": {},
   "source": [
    "* Redefinir en una subclase un atributo (dato o método) que ya existe en la superclase **reemplaza** dicho atributo.\n",
    "\n",
    "* En el caso de métodos, este reemplazo puede convertirse en **extensión**, si la función invoca al método de la superclase."
   ]
  },
  {
   "cell_type": "markdown",
   "id": "excess-fellowship",
   "metadata": {},
   "source": [
    "**Reemplazo**"
   ]
  },
  {
   "cell_type": "code",
   "execution_count": null,
   "id": "geological-original",
   "metadata": {},
   "outputs": [],
   "source": [
    "class Persona:\n",
    "    def __init__(self, nombre):\n",
    "        self.nombre = nombre\n",
    "        \n",
    "    def obtener_descripcion(self):\n",
    "        print(f\"Nombre: {self.nombre}\")\n",
    "\n",
    "class Empleado(Persona):\n",
    "    def __init__(self, empresa):\n",
    "        self.empresa = empresa\n",
    "\n",
    "    def obtener_descripcion(self):\n",
    "        print(f\"Empresa: {self.empresa}\")\n",
    "\n",
    "\n",
    "persona = Persona(\"Eva Sánchez\")\n",
    "persona.obtener_descripcion()\n",
    "        \n",
    "print(\"---\")\n",
    "    \n",
    "empleado = Empleado(\"Google\")\n",
    "empleado.obtener_descripcion()"
   ]
  },
  {
   "cell_type": "markdown",
   "id": "divine-exclusive",
   "metadata": {},
   "source": [
    "**Extensión**"
   ]
  },
  {
   "cell_type": "code",
   "execution_count": null,
   "id": "upset-escape",
   "metadata": {},
   "outputs": [],
   "source": [
    "class Persona:\n",
    "    def __init__(self, nombre):\n",
    "        self.nombre = nombre\n",
    "        \n",
    "    def obtener_descripcion(self):\n",
    "        print(f\"Nombre: {self.nombre}\")\n",
    "\n",
    "class Empleado(Persona):\n",
    "    def __init__(self, nombre, empresa):\n",
    "        super().__init__(nombre)\n",
    "        self.empresa = empresa\n",
    "\n",
    "    def obtener_descripcion(self):\n",
    "        super().obtener_descripcion()\n",
    "        print(f\"Empresa: {self.empresa}\")\n",
    "\n",
    "persona = Persona(\"Eva Sánchez\")\n",
    "persona.obtener_descripcion()\n",
    "\n",
    "print(\"---\")\n",
    "\n",
    "empleado = Empleado(\"Jorge Pérez\", \"Google\")\n",
    "empleado.obtener_descripcion()"
   ]
  },
  {
   "cell_type": "markdown",
   "id": "communist-manor",
   "metadata": {},
   "source": [
    "## Delegación (clases abstractas)"
   ]
  },
  {
   "cell_type": "markdown",
   "id": "sixth-damages",
   "metadata": {},
   "source": [
    "* A veces, una clase no tiene el conocimiento necesario para implementar un comportamiento (método).\n",
    "\n",
    "* En estos casos, el método se puede dejar como abstracto, *delegando* la implementación a las subclases.\n",
    "\n",
    "* Una **clase abstracta** es una clase \"incompleta\" que espera que las subclases implementen parte del comportamiento.\n",
    "\n",
    "* Debe considerarse como un error que las subclases no implementen los métodos que se dejan como abstractos."
   ]
  },
  {
   "cell_type": "code",
   "execution_count": null,
   "id": "quantitative-fiction",
   "metadata": {},
   "outputs": [],
   "source": [
    "class JuegoMesa:\n",
    "    def inicializar_juego(self):\n",
    "        print('Comienza inicialización del juego de mesa')  # Esto aplica a cualquier tipo de juego de mesa y por lo tanto se puede implementar aquí.\n",
    "        self.inicializar_tablero()    # Delega a la subclase. Esta clase representa un juego de mesa genérico y por lo tanto no tiene conocimiento de cómo inicializar el tablero.\n",
    "        self.colocar_fichas()         # Idem.\n",
    "        \n",
    "class Ajedrez(JuegoMesa):\n",
    "    def inicializar_tablero(self):\n",
    "        print('Inicializando tablero de ajedrez')     # Esta clase representa el juego del ajedrez y por lo tanto sí sabe cómo inicializar el tablero.\n",
    "    \n",
    "    def colocar_fichas(self):\n",
    "        print('Colocando las fichas de ajedrez')      # Esta clase representa el juego del ajedrez y por lo tanto sí sabe cómo colocar las fichas.\n",
    "\n",
    "class Backgammon(JuegoMesa):\n",
    "    def inicializar_tablero(self):\n",
    "        print('Inicializando tablero de backgammon')  # Esta clase representa el juego del backgammon y por lo tanto sí sabe cómo inicializar el tablero.\n",
    "    \n",
    "    def colocar_fichas(self):\n",
    "        print('Colocando las fichas de backgammon')   # Esta clase representa el juego del backgammon y por lo tanto sí sabe cómo colocar las fichas.\n",
    "        \n",
    "juego_1 = Ajedrez()\n",
    "juego_2 = Backgammon()\n",
    "\n",
    "juego_1.inicializar_juego()\n",
    "print('---')\n",
    "juego_2.inicializar_juego()"
   ]
  },
  {
   "cell_type": "markdown",
   "id": "powerful-basis",
   "metadata": {},
   "source": [
    "* La necesidad de implementación de un método abstracto se puede hacer más obvia por medio de un *assert*."
   ]
  },
  {
   "cell_type": "code",
   "execution_count": null,
   "id": "rational-depression",
   "metadata": {},
   "outputs": [],
   "source": [
    "class JuegoMesa:\n",
    "    def inicializar_juego(self):\n",
    "        print('Comienza inicialización del juego de mesa') \n",
    "        self.inicializar_tablero()\n",
    "        \n",
    "    def inicializar_tablero(self):\n",
    "        assert False, 'inicializar_tablero debe ser implementado!'\n",
    "        \n",
    "class Ajedrez(JuegoMesa):\n",
    "    pass\n",
    "    #def inicializar_tablero(self):\n",
    "    #    print('Inicializando tablero de ajedrez')\n",
    "\n",
    "juego_1 = Ajedrez()\n",
    "\n",
    "juego_1.inicializar_juego()"
   ]
  },
  {
   "cell_type": "markdown",
   "id": "greater-norfolk",
   "metadata": {},
   "source": [
    "#### En Python 3.X"
   ]
  },
  {
   "cell_type": "markdown",
   "id": "norwegian-genealogy",
   "metadata": {},
   "source": [
    "A partir de la versión 3.X de Python, las clases abstractas se pueden implementar con una sintaxis especial."
   ]
  },
  {
   "cell_type": "code",
   "execution_count": 4,
   "id": "colored-things",
   "metadata": {
    "ExecuteTime": {
     "start_time": "2023-05-29T14:53:54.796138Z",
     "end_time": "2023-05-29T14:53:54.796138Z"
    }
   },
   "outputs": [],
   "source": [
    "from abc import ABC             # Abstract Base Class\n",
    "from abc import abstractmethod  # Abstract methods\n",
    "\n",
    "class ClaseAbstracta(ABC):\n",
    "    @abstractmethod              # Decorador\n",
    "    def metodo_abstracto(self):\n",
    "        pass\n",
    "    \n",
    "class ClaseConcreta(ClaseAbstracta):\n",
    "    def metodo_concreto(self):\n",
    "        print('metodo concreto')\n",
    "        \n",
    "    def metodo_abstracto(self):\n",
    "        print('metodo abstracto')\n",
    "        \n",
    "#a = ClaseAbstracta()  # No se puede instanciar clase abstracta\n",
    "b = ClaseConcreta()    # Fallaría si no se implementara 'metodo_abstracto'"
   ]
  },
  {
   "cell_type": "markdown",
   "id": "positive-plain",
   "metadata": {},
   "source": [
    "#### [Avanzado - Opcional] Decoradores\n",
    "\n",
    "* En el anterior ejemplo, *abstractmethod* es un decorador.\n",
    "\n",
    "* Un decorador añade metadatos al objeto que acompaña.\n",
    "\n",
    "**Ejemplo: métodos class vs métodos static**\n",
    "\n",
    "* Método de clase:\n",
    "   * Recibe el objeto de clase como primer argumento.\n",
    "   * Puede manipular el estado de dicho objeto.\n",
    "\n",
    "\n",
    "* Método estático:\n",
    "   * Es una función normal, simplemente ubicada dentro de una clase por conveniencia o legibilidad."
   ]
  },
  {
   "cell_type": "code",
   "execution_count": 5,
   "id": "artistic-pledge",
   "metadata": {
    "ExecuteTime": {
     "start_time": "2023-05-29T14:58:00.778123Z",
     "end_time": "2023-05-29T14:58:00.783158Z"
    }
   },
   "outputs": [
    {
     "name": "stdout",
     "output_type": "stream",
     "text": [
      "Suma: 52\n"
     ]
    }
   ],
   "source": [
    "class Calculator:\n",
    "\n",
    "    @staticmethod\n",
    "    def sumar_numeros(x, y):\n",
    "        return x + y\n",
    "\n",
    "print('Suma:', Calculator.sumar_numeros(20, 32))"
   ]
  },
  {
   "cell_type": "code",
   "execution_count": 12,
   "id": "dress-receptor",
   "metadata": {
    "ExecuteTime": {
     "start_time": "2023-05-29T16:03:55.174949Z",
     "end_time": "2023-05-29T16:03:55.219623Z"
    }
   },
   "outputs": [
    {
     "name": "stdout",
     "output_type": "stream",
     "text": [
      "['mozzarella', 'tomate']\n",
      "---\n",
      "['mozzarella', 'tomate', 'salami picante']\n"
     ]
    }
   ],
   "source": [
    "class Pizza:\n",
    "    def __init__(self, ingredientes):\n",
    "        self.ingredientes = ingredientes\n",
    "\n",
    "    @classmethod\n",
    "    def crear_pizza_margarita(cls):\n",
    "        return cls(['mozzarella', 'tomate'])\n",
    "    \n",
    "    @classmethod\n",
    "    def crear_pizza_diavola(cls):\n",
    "        return cls(['mozzarella', 'tomate', 'salami picante'])\n",
    "    \n",
    "pizza1 = Pizza.crear_pizza_margarita()\n",
    "print(pizza1.ingredientes)\n",
    "\n",
    "print(\"---\")\n",
    "\n",
    "pizza2 = Pizza.crear_pizza_diavola()\n",
    "print(pizza2.ingredientes)"
   ]
  },
  {
   "cell_type": "markdown",
   "id": "illegal-tracker",
   "metadata": {},
   "source": [
    "## Sobreescritura de operadores"
   ]
  },
  {
   "cell_type": "markdown",
   "id": "metric-universal",
   "metadata": {},
   "source": [
    "* Objetos creados a partir de clases pueden participar en expresiones con operadores (+, -, *, /, &, |, % ...), de la misma forma que los objetos de tipos *built-in*.\n",
    "\n",
    "* Permiten a nuestros objetos integrarse mejor con código que haya sido programado para funcionar con objetos de tipo *built-in*.\n",
    "\n",
    "* En Python, métodos entre '__' con nombres especiales representan implementación de operadores."
   ]
  },
  {
   "cell_type": "code",
   "execution_count": null,
   "id": "tested-magnitude",
   "metadata": {},
   "outputs": [],
   "source": [
    "class A():\n",
    "    def __add__(self, otro):\n",
    "        return \"Se ha invocado el operador +\"\n",
    "\n",
    "a = A()\n",
    "b = A()\n",
    "\n",
    "print(a + b)  # 'a' sería 'self' y 'b' sería 'otro'. El resultado de la operación es un string, que se pasa a 'print'."
   ]
  },
  {
   "cell_type": "markdown",
   "id": "sunset-ticket",
   "metadata": {},
   "source": [
    "- Salvo en algunas excepciones, no hay comportamiento por defecto para los operadores que no se implementan."
   ]
  },
  {
   "cell_type": "code",
   "execution_count": null,
   "id": "lesbian-collector",
   "metadata": {},
   "outputs": [],
   "source": [
    "class A():\n",
    "    pass\n",
    "\n",
    "a = A()\n",
    "b = A()\n",
    "\n",
    "print(a + b)  # Error"
   ]
  },
  {
   "cell_type": "markdown",
   "id": "annoying-replication",
   "metadata": {},
   "source": [
    "* Un ejemplo de estas excepciones es *\\_\\_str\\_\\_* (utilizado, por ejemplo, por *print* para obtener una representación del objeto en formato string).\n",
    "\n",
    "* Aunque una clase no sobreescriba el operador *\\_\\_str\\_\\_*, hay comportamiento por defecto."
   ]
  },
  {
   "cell_type": "code",
   "execution_count": null,
   "id": "aggregate-death",
   "metadata": {},
   "outputs": [],
   "source": [
    "class A():\n",
    "    pass\n",
    "\n",
    "a = A()\n",
    "\n",
    "print(a)"
   ]
  },
  {
   "cell_type": "code",
   "execution_count": 11,
   "id": "flying-thriller",
   "metadata": {
    "ExecuteTime": {
     "start_time": "2023-05-29T16:02:53.149984Z",
     "end_time": "2023-05-29T16:02:53.184968Z"
    }
   },
   "outputs": [
    {
     "name": "stdout",
     "output_type": "stream",
     "text": [
      "Operador str. Representación del objeto en formato string\n"
     ]
    }
   ],
   "source": [
    "class B():\n",
    "    def __str__(self):\n",
    "        return \"Operador str. Representación del objeto en formato string\"\n",
    "\n",
    "b = B()\n",
    "\n",
    "print(b)"
   ]
  },
  {
   "cell_type": "markdown",
   "id": "dietary-native",
   "metadata": {},
   "source": [
    "**Constructor**\n",
    "\n",
    "* Un ejemplo importante de operador que se sobreescribe casi siempre es el construtor: *\\_\\_init\\_\\_*\n",
    "\n",
    "* Se invoca al crear instancias de la clase."
   ]
  },
  {
   "cell_type": "markdown",
   "id": "strong-video",
   "metadata": {},
   "source": [
    "**Otros ejemplos de operadores**"
   ]
  },
  {
   "cell_type": "code",
   "execution_count": null,
   "id": "terminal-finance",
   "metadata": {},
   "outputs": [],
   "source": [
    "class A():\n",
    "    def __add__(self, otro):\n",
    "        return \"Operador +\"\n",
    "    \n",
    "    def __sub__(self, otro):\n",
    "        return \"Operador -\"\n",
    "    \n",
    "    def __mul__(self, otro):\n",
    "        return \"Operador *\"\n",
    "    \n",
    "    def __truediv__(self, otro):\n",
    "        return \"Operador /\"\n",
    "    \n",
    "    def __floordiv__(self, otro):\n",
    "        return \"Operador //\"\n",
    "    \n",
    "    def __mod__(self, otro):\n",
    "        return \"Operador %\"\n",
    "    \n",
    "    def __eq__(self, otro):\n",
    "        return \"Operador ==\"\n",
    "    \n",
    "    def __ne__(self, otro):\n",
    "        return \"Operador !=\"\n",
    "    \n",
    "    def __and__(self, otro):\n",
    "        return \"Operador &\"\n",
    "    \n",
    "    def __or__(self, otro):\n",
    "        return \"Operador |\"\n",
    "\n",
    "a = A()\n",
    "b = A()\n",
    "\n",
    "print(a + b) \n",
    "print(a - b) \n",
    "print(a * b) \n",
    "print(a / b)\n",
    "print(a // b)\n",
    "print(a % b)\n",
    "print(a == b)\n",
    "print(a != b)\n",
    "print(a & b)\n",
    "print(a | b)"
   ]
  },
  {
   "cell_type": "markdown",
   "id": "executive-dressing",
   "metadata": {},
   "source": [
    "**¿Cuándo sobreescribir operadores?**\n",
    "\n",
    "* Es poco habitual.\n",
    "* Se hace cuando quieres que tus objetos se comporten como objetos proporcionados por el lenguaje (*built-in*).\n",
    "* Un objeto matemático por naturaleza (por ejemplo, una matriz) tiene sentido que sobreescriba el '+'.\n",
    "* Un objeto como *Empleado* o *Persona* probablemente no lo hará."
   ]
  },
  {
   "cell_type": "markdown",
   "id": "center-rescue",
   "metadata": {},
   "source": [
    "## Ventajas de la Programación Orientada a Objetos"
   ]
  },
  {
   "cell_type": "markdown",
   "id": "musical-clock",
   "metadata": {},
   "source": [
    "#### Reutilización\n",
    "\n",
    "* Las clases permiten reutilización de código de formas que no permiten otras construcciones (como funciones o módulos).\n",
    "\n",
    "* Por ejemplo, por medio de herencia puedes programar adaptando código existente, sin necesidad de módificar éste.\n",
    "\n",
    "   * Extensión, reemplazo y delegación."
   ]
  },
  {
   "cell_type": "markdown",
   "id": "annual-spectacular",
   "metadata": {},
   "source": [
    "#### Polimorfismo\n",
    "\n",
    "* Polimorfismo: el significado de una operación viene determinado por los tipos de los operandos, y estos pueden adoptar diferentes formas.\n",
    "\n",
    "    * Por ejemplo:\n",
    "       * La operación '+' en la expresión 'a + b' tiene un comportamiento diferente según si las variables 'a' y 'b' son números, strings o listas.\n",
    "       * En el caso de números, se realizará la suma; en el caso de strings o listas, la concatenación.\n",
    "\n",
    "\n",
    "* OOP facilita el desarrollo de código abstracto que funciona independientemente del tipo concreto de objeto que recibe.\n",
    "\n",
    "* Código abstracto suele necesitar menos mantenimiento."
   ]
  },
  {
   "cell_type": "code",
   "execution_count": 7,
   "id": "aging-wallace",
   "metadata": {
    "ExecuteTime": {
     "start_time": "2023-05-29T14:59:24.658106Z",
     "end_time": "2023-05-29T14:59:24.666624Z"
    }
   },
   "outputs": [
    {
     "name": "stdout",
     "output_type": "stream",
     "text": [
      "Quack\n",
      "Miau\n",
      "Quack\n",
      "Guau\n",
      "Miau\n",
      "Guau\n"
     ]
    }
   ],
   "source": [
    "from abc import ABC, abstractmethod\n",
    "\n",
    "def emitir_sonidos(animales):  # Esta función desconoce los tipos concretos de animales. Se abstrae de estos detalles.\n",
    "    for animal in animales:\n",
    "        animal.emitir_sonido() # Llamada polimórfica: el método emitir_sonido adoptará \"diferentes formas\" según el tipo específico de animal.\n",
    "    \n",
    "class Animal(ABC):\n",
    "    @abstractmethod\n",
    "    def emitir_sonido(self):\n",
    "        pass\n",
    "\n",
    "class Perro(Animal):\n",
    "    def emitir_sonido(self):\n",
    "        print(\"Guau\")\n",
    "\n",
    "class Gato(Animal):\n",
    "    def emitir_sonido(self):\n",
    "        print(\"Miau\")\n",
    "        \n",
    "class Pato(Animal):\n",
    "    def emitir_sonido(self):\n",
    "        print(\"Quack\")\n",
    "        \n",
    "animales = [Pato(), Gato(), Pato(), Perro(), Gato(), Perro()]\n",
    "emitir_sonidos(animales)"
   ]
  },
  {
   "cell_type": "markdown",
   "id": "patient-composition",
   "metadata": {
    "tags": []
   },
   "source": [
    "## [Avanzado - Opcional] Búsqueda de atributos"
   ]
  },
  {
   "cell_type": "markdown",
   "id": "productive-slovakia",
   "metadata": {},
   "source": [
    "Cuando especificamos ...\n",
    "\n",
    "```\n",
    "objeto.atributo\n",
    "```\n",
    "\n",
    "¿Cómo sabe Python si el atributo existe o no existe? ¿Cómo lo busca?\n",
    "\n",
    "Para responder esta pregunta, primero hay que ser consciente de la existencia de 2 tipos de objetos:\n",
    "\n",
    "   * **Objetos clase**: como todo en Python, las clases son objetos también. Cuando se ejecuta una sentencia *class*, se crea un objeto clase, cuyo tipo es *type*.\n",
    "\n",
    "\n",
    "   * **Objetos instancia**: cada vez que se invoca una clase usando paréntesis, se crea una objeto instancia de la clase y éste objeto instancia se enlaza con el objeto clase que lo origina.\n",
    "\n",
    "      * En este sentido, los objetos clase se pueden ver como *fábricas* de objetos instancia."
   ]
  },
  {
   "cell_type": "code",
   "execution_count": 8,
   "id": "alpine-catalog",
   "metadata": {
    "ExecuteTime": {
     "start_time": "2023-05-29T15:00:47.189221Z",
     "end_time": "2023-05-29T15:00:47.236541Z"
    }
   },
   "outputs": [
    {
     "name": "stdout",
     "output_type": "stream",
     "text": [
      "Modulo: <module '__main__'>\n",
      "<class '__main__.A'>\n",
      "<class 'type'>\n"
     ]
    }
   ],
   "source": [
    "import sys\n",
    "\n",
    "class A:\n",
    "    pass\n",
    "\n",
    "instancia_de_A = A()\n",
    "\n",
    "este_modulo = sys.modules[__name__]\n",
    "\n",
    "print(\"Modulo:\", este_modulo)   # El módulo que contiene el código de este ejemplo es '__main__'\n",
    "print(type(instancia_de_A))               # La instancia de A es de tipo __main__.A (la clase se ha convertido en un atributo del módulo)\n",
    "print(type(este_modulo.A))                     # El tipo del objeto clase es 'type'."
   ]
  },
  {
   "cell_type": "markdown",
   "id": "coated-experience",
   "metadata": {},
   "source": [
    "Cada vez que escribimos una expresión de la forma:\n",
    "\n",
    "```\n",
    "objeto.atributo\n",
    "```\n",
    "\n",
    "Python inicia una búsqueda que comienza en el *objeto* (instancia), luego en el objeto *clase* que ha creado el objeto instancia, y luego en las *superclases* de la clase, de izquierda a derecha."
   ]
  },
  {
   "cell_type": "markdown",
   "id": "excessive-young",
   "metadata": {},
   "source": [
    "<img src=\"img/OOP/InheritanceSearch.png\" width=\"500\">*Imagen extraída de [1]*"
   ]
  },
  {
   "cell_type": "markdown",
   "id": "czech-motel",
   "metadata": {},
   "source": [
    "* *I1.name* y *I2.name* no necesitan buscar en las clases. Los datos se encuentran en los propios objetos.\n",
    "* *I1.x* y *I2.x* iniciarían una búsqueda que empieza en *I1* y *I2*, respectivamente, y que tendría éxito en *C1*. No se llegaría a explorar *C2*.\n",
    "* *I1.y* y *I2.y* iniciarían una búsqueda que empieza en *I1* y *I2*, respectivamente, y que tendría éxito en *C1*. Este atributo no se encuentra en otro lugar al fin y al cabo.\n",
    "* *I1.z* y *I2.z* tendrían éxito en *C2* porque está más a la izquierda que *C3*."
   ]
  },
  {
   "cell_type": "markdown",
   "id": "dated-stupid",
   "metadata": {},
   "source": [
    "#### Espacios de nombres ..."
   ]
  },
  {
   "cell_type": "markdown",
   "id": "numeric-advisory",
   "metadata": {},
   "source": [
    "* Cada objeto representa su propio **espacio de nombres**. Esto aplica tanto a los objetos clase como a los objetos instancia.\n",
    "\n",
    "* Cada atributo (dato y comportamiento) que se le asigne a un objeto pertenece sólo a él."
   ]
  },
  {
   "cell_type": "code",
   "execution_count": 9,
   "id": "emerging-martin",
   "metadata": {
    "tags": [],
    "ExecuteTime": {
     "start_time": "2023-05-29T15:08:51.170347Z",
     "end_time": "2023-05-29T15:08:51.180138Z"
    }
   },
   "outputs": [
    {
     "name": "stdout",
     "output_type": "stream",
     "text": [
      "Pablo\n",
      "Eva\n",
      "30\n"
     ]
    }
   ],
   "source": [
    "class Empleado:\n",
    "    def asignar_nombre(self, nombre_empleado):\n",
    "        self.nombre = nombre_empleado    # atributo añadido/asignado al objeto instancia (self) desde dentro de la clase\n",
    "\n",
    "empleado_1 = Empleado()\n",
    "empleado_2 = Empleado()\n",
    "\n",
    "empleado_1.asignar_nombre(\"Pablo\")\n",
    "empleado_2.asignar_nombre(\"Eva\")\n",
    "print(empleado_1.nombre)\n",
    "print(empleado_2.nombre)\n",
    "\n",
    "empleado_1.edad = 30      # atributo añadido al objeto 'empleado_1' desde fuera de la clase. Otras instancias de Empleado no tienen este atributo.\n",
    "print(empleado_1.edad)\n",
    "#print(empleado_2.edad)   # Error: este objeto no tiene el atributo 'edad'"
   ]
  },
  {
   "cell_type": "markdown",
   "id": "demographic-addiction",
   "metadata": {},
   "source": [
    "<img src=\"img/OOP/Class_Objects.png\" width=\"600\">"
   ]
  },
  {
   "cell_type": "markdown",
   "id": "analyzed-glass",
   "metadata": {},
   "source": [
    "#### Búsqueda de atributos en jerarquías de herencia"
   ]
  },
  {
   "cell_type": "markdown",
   "id": "discrete-korean",
   "metadata": {},
   "source": [
    "* De la misma forma que un objeto hereda los atributos de la clase a partir de la cual se crea, una clase hereda los atributos de sus superclases.\n",
    "\n",
    "* Esto es lo que permite crear jerarquías de clases.\n",
    "\n",
    "* Cuando especificamos un atributo en una subclase, sobreescribimos el más general que hay en la superclase.\n",
    "\n",
    "* Una clase se puede customizar/extender sin necesidad de ser modificada, simplemente creando otra clase que herede de ella."
   ]
  },
  {
   "cell_type": "code",
   "execution_count": null,
   "id": "developmental-implementation",
   "metadata": {},
   "outputs": [],
   "source": [
    "class Persona:\n",
    "    def asignar_nombre(self, nombre_persona):\n",
    "        self.nombre = nombre_persona\n",
    "        \n",
    "    def obtener_descripcion(self):\n",
    "        return f\"Nombre de la persona: {self.nombre}\"\n",
    "    \n",
    "class Empleado (Persona):\n",
    "    def obtener_descripcion(self):\n",
    "        return f\"Nombre del empleado: {self.nombre}\"\n",
    "    \n",
    "persona_1 = Persona()\n",
    "empleado_1 = Empleado()\n",
    "\n",
    "persona_1.asignar_nombre(\"Natalia\")\n",
    "empleado_1.asignar_nombre(\"Pedro\")  # Puedo usar asignar_nombre porque esta definido en la superclase 'Persona'\n",
    "\n",
    "print(persona_1.obtener_descripcion())   # Ejecuta la versión general definida en 'Persona'\n",
    "print(empleado_1.obtener_descripcion())  # Ejecuta la versión específica definida en 'Empleado'"
   ]
  },
  {
   "cell_type": "markdown",
   "id": "toxic-julian",
   "metadata": {},
   "source": [
    "<img src=\"img/OOP/Class_Objects_2.png\" width=\"900\">"
   ]
  },
  {
   "cell_type": "markdown",
   "id": "acute-client",
   "metadata": {},
   "source": [
    "## Referencias "
   ]
  },
  {
   "cell_type": "markdown",
   "id": "differential-grammar",
   "metadata": {},
   "source": [
    "[1] Mark Lutz. *Learning Python: Powerful Object-Oriented Programming*. Fifth edition. O'Reilly (2013)"
   ]
  },
  {
   "cell_type": "markdown",
   "id": "respected-jewelry",
   "metadata": {},
   "source": [
    "## Ejercicios"
   ]
  },
  {
   "cell_type": "markdown",
   "id": "vanilla-elimination",
   "metadata": {},
   "source": [
    "1. Implementa una jerarquía de clases que representen figuras (por ejemplo, cuadrados, círculos o triángulos). Posteriormente, implementa una función que muestre por pantalla, una a una, todas las áreas de una lista de figuras dada.\n",
    "\n",
    "2. Implementa una clase que represente números racionales y almacene de manera explícita el numerador y el denominador. La clase debe permitir instanciar números racionales, con los cuales se podrá operar a través de los operadores convencionales: +, -, *, /. En caso de error (por ejemplo, división por cero) la clase generará un error apropiado.\n",
    "\n",
    "3. Implementa una clase *ColaPrioridad* que permita el almacenamiento de objetos ordenados por prioridad. A diferencia de los heaps vistos en el tema de estructuras de datos, esta cola de prioridad tiene la peculiaridad de que mantiene un rango de prioridades (numéricas de tipo entero) válidas. Es decir, al instanciar objetos de la clase *ColaPrioridad*, se debe especificar una prioridad máxima *N*, y ninguna prioridad fuera del rango *[0, N-1]* será válida. Podéis asumir que *N* siempre será un número relativamente pequeño, y que este rango no puede modificarse una vez el objeto de tipo *ColaPrioridad* ha sido creado. Teniendo esto en cuenta, la clase *ColaPrioridad* permitirá:\n",
    "\n",
    "   * Insertar un objeto con una prioridad dada. Ejemplo: inserción del objeto *'a'* con prioridad 3.\n",
    "   * Extraer el objeto más prioritario dada una prioridad concreta. Si existe más de un objeto con la misma prioridad, el orden de extración será en base al orden de inserción (FIFO - first in, first out). Es decir, para cada posible prioridad, se debe mantener una cola de objetos.\n",
    "   * Extraer el objeto de mayor prioridad en toda la cola de prioridad. En caso de empate (es decir, si más de un objeto tiene la prioridad mayor), el orden de extración será en base al orden de inserción (FIFO - first in, first out).\n",
    "   * Funcionalidades extra.\n",
    "      * En este ejercicio, podéis añadir a la clase *ColaPrioridad* más funcionalidades de vuestra elección. Ejemplo: un método para vaciar la cola.\n",
    "      * Podéis también definir vuestras propias excepciones, heredando de la clase *Exception* proporcionada por Python. Ejemplo: podéis implementar la clase *ExcepcionPrioridadFueraDeRango* y lanzar este tipo de error siempre que se intente insertar un objeto con una prioridad que quede fuera del rango válido.\n"
   ]
  },
  {
   "cell_type": "markdown",
   "id": "bigger-castle",
   "metadata": {},
   "source": [
    "## Soluciones"
   ]
  },
  {
   "cell_type": "code",
   "execution_count": 10,
   "id": "large-mention",
   "metadata": {
    "ExecuteTime": {
     "start_time": "2023-05-29T15:15:55.033568Z",
     "end_time": "2023-05-29T15:15:55.077482Z"
    }
   },
   "outputs": [
    {
     "name": "stdout",
     "output_type": "stream",
     "text": [
      "Figura de tipo Círculo. El área de la figura es: 13.85\n",
      "Figura de tipo Círculo. El área de la figura es: 78.54\n",
      "Figura de tipo Cuadrado. El área de la figura es: 10.24\n",
      "Figura de tipo Círculo. El área de la figura es: 196.07\n",
      "Figura de tipo Cuadrado. El área de la figura es: 4.41\n"
     ]
    }
   ],
   "source": [
    "# Ejercicio 1\n",
    "\n",
    "from abc import ABC, abstractmethod\n",
    "import math\n",
    "\n",
    "class Figura(ABC):\n",
    "    def __init__(self, tipo):\n",
    "        self.tipo = tipo\n",
    "        \n",
    "    def __str__(self):\n",
    "        return f\"Figura de tipo {self.tipo}. El área de la figura es: {self.area()}\"\n",
    "        \n",
    "    @abstractmethod\n",
    "    def area(self):\n",
    "        pass\n",
    "\n",
    "    \n",
    "class Cuadrado(Figura):\n",
    "    def __init__(self, lado):\n",
    "        super().__init__(\"Cuadrado\")\n",
    "        self.lado = lado\n",
    "        \n",
    "    def area(self):\n",
    "        area_cuadrado = self.lado ** 2\n",
    "        return f'{area_cuadrado:.2f}'\n",
    "    \n",
    "    \n",
    "class Circulo(Figura):\n",
    "    def __init__(self, radio):\n",
    "        super().__init__(\"Círculo\")\n",
    "        self.radio = radio\n",
    "        \n",
    "    def area(self):\n",
    "        area_circulo = math.pi * (self.radio ** 2)\n",
    "        return f'{area_circulo:.2f}'\n",
    "    \n",
    "    \n",
    "def mostrar_areas(figuras):\n",
    "    for figura in figuras:\n",
    "        print(figura)\n",
    "        # Para mostrar sólo las áreas, sería válido: print(figura.area())\n",
    "        \n",
    "        \n",
    "figuras = [Circulo(2.1), Circulo(5), Cuadrado(3.2), Circulo(7.9), Cuadrado(2.1)]\n",
    "mostrar_areas(figuras)"
   ]
  },
  {
   "cell_type": "code",
   "execution_count": null,
   "id": "elementary-vegetable",
   "metadata": {},
   "outputs": [],
   "source": [
    "# Ejercicio 2\n",
    "\n",
    "import math\n",
    "\n",
    "class DenominadorCero(Exception):\n",
    "    '''\n",
    "    Excepción que indica que el denominador del número racional es cero.\n",
    "    '''\n",
    "    pass\n",
    "\n",
    "class DivisionPorCero(Exception):\n",
    "    '''\n",
    "    Excepción que indica que se está tratando de realizar una división por cero.\n",
    "    '''\n",
    "    pass\n",
    "\n",
    "class NumeroRacional:\n",
    "    def __init__(self, numerador, denominador):\n",
    "        if denominador == 0:\n",
    "            raise DenominadorCero(\"El denominador no puede ser cero.\")  \n",
    "        self.numerador = numerador\n",
    "        self.denominador = denominador\n",
    "        \n",
    "    # Operadores principales\n",
    "        \n",
    "    def __add__(self, otro):\n",
    "        minimo_comun_multiplo = math.lcm(self.denominador, otro.denominador)\n",
    "        numerador_resultante = (minimo_comun_multiplo/self.denominador) * self.numerador + (minimo_comun_multiplo/otro.denominador) * otro.numerador\n",
    "        return NumeroRacional(numerador_resultante, minimo_comun_multiplo)\n",
    "    \n",
    "    def __sub__(self, otro):\n",
    "        minimo_comun_multiplo = math.lcm(self.denominador, otro.denominador)\n",
    "        numerador_resultante = (minimo_comun_multiplo/self.denominador) * self.numerador - (minimo_comun_multiplo/otro.denominador) * otro.numerador\n",
    "        return NumeroRacional(numerador_resultante, minimo_comun_multiplo)\n",
    "        \n",
    "    def __mul__(self, otro):\n",
    "        return NumeroRacional(self.numerador * otro.numerador, self.denominador * otro.denominador)\n",
    "    \n",
    "    def __truediv__(self, otro):\n",
    "        if otro.numerador == 0:\n",
    "            raise DivisionPorCero(\"No es posible llevar a cabo una división por cero\")\n",
    "        return NumeroRacional(self.numerador * otro.denominador, self.denominador * otro.numerador)\n",
    "    \n",
    "    # Operadores auxiliares\n",
    "    \n",
    "    def __eq__(self, otro):\n",
    "        return self.numerador == otro.numerador and self.denominador == otro.denominador\n",
    "    \n",
    "    def __str__(self):\n",
    "        return f\"{self.numerador}/{self.denominador}\"\n",
    "    \n",
    "\n",
    "# ---------- Tests ----------\n",
    "\n",
    "def test_suma_de_numeros_racionales_funciona_correctamente():\n",
    "    a = NumeroRacional(2,5)\n",
    "    b = NumeroRacional(4,5)\n",
    "    c = NumeroRacional(2,5)\n",
    "    d = NumeroRacional(3,6)\n",
    "    \n",
    "    assert a + b == NumeroRacional(6,5)\n",
    "    assert c + d == NumeroRacional(27,30)\n",
    "\n",
    "\n",
    "def test_resta_de_numeros_racionales_funciona_correctamente():\n",
    "    a = NumeroRacional(2,5)\n",
    "    b = NumeroRacional(4,5)\n",
    "    c = NumeroRacional(2,5)\n",
    "    d = NumeroRacional(3,6)\n",
    "    \n",
    "    assert a - b == NumeroRacional(-2,5)\n",
    "    assert c - d == NumeroRacional(-3,30)\n",
    "    \n",
    "\n",
    "def test_multiplicacion_de_numeros_racionales_funciona_correctamente():\n",
    "    a = NumeroRacional(2,5)\n",
    "    b = NumeroRacional(3,-2)\n",
    "    \n",
    "    assert a * b == NumeroRacional(6,-10)\n",
    "\n",
    "    \n",
    "\n",
    "def test_division_de_numeros_racionales_funciona_correctamente():\n",
    "    a = NumeroRacional(2,5)\n",
    "    b = NumeroRacional(3,-2)\n",
    "    \n",
    "    assert a / b == NumeroRacional(-4,15)\n",
    "\n",
    "\n",
    "    \n",
    "def test_denominador_cero_lanza_excepcion():\n",
    "    try:\n",
    "        NumeroRacional(4,0)\n",
    "        assert False, 'No se debe poder especificar un denominador igual a cero'\n",
    "    except DenominadorCero:\n",
    "        pass # El test funciona.\n",
    "    except:\n",
    "        assert False, 'No se debe poder especificar un denominador igual a cero'\n",
    "\n",
    "\n",
    "def test_division_por_cero_lanza_excepcion():\n",
    "    try:\n",
    "        a = NumeroRacional(2,5)\n",
    "        b = NumeroRacional(0,2)\n",
    "        a / b\n",
    "        assert False, 'No se debe poder dividir por cero'\n",
    "    except DivisionPorCero:\n",
    "        pass # El test funciona.\n",
    "    except:\n",
    "        assert False, 'No se debe poder dividir por cero'\n",
    "\n",
    "\n",
    "        \n",
    "# ---------- Ejecución de los tests ----------\n",
    "\n",
    "test_suma_de_numeros_racionales_funciona_correctamente()\n",
    "test_resta_de_numeros_racionales_funciona_correctamente()\n",
    "test_multiplicacion_de_numeros_racionales_funciona_correctamente()\n",
    "test_division_de_numeros_racionales_funciona_correctamente()\n",
    "test_denominador_cero_lanza_excepcion()\n",
    "test_division_por_cero_lanza_excepcion()\n",
    "\n",
    "\n",
    "\n",
    "# ---------- Visualización ----------\n",
    "\n",
    "a = NumeroRacional(1,2)\n",
    "print(a)"
   ]
  },
  {
   "cell_type": "code",
   "execution_count": null,
   "id": "inclusive-melissa",
   "metadata": {},
   "outputs": [],
   "source": [
    "# Ejercicio 3\n",
    "\n",
    "from collections import deque\n",
    "\n",
    "class PrioridadFueraDeRango(Exception):\n",
    "    '''\n",
    "    Excepción que indica que una prioridad especificada está fuera del rango [0, prioridad máxima - 1].\n",
    "    '''\n",
    "    pass\n",
    "\n",
    "class PrioridadNoNumerica(Exception):\n",
    "    '''\n",
    "    Excepción que indica que una prioridad especificada no tiene un valor numérico (de tipo entero).\n",
    "    '''\n",
    "    pass\n",
    "\n",
    "class ColaPrioridad:\n",
    "    '''\n",
    "    Cola que permite almacenar objetos por prioridad. Los objetos con la misma prioridad se recuperan en orden de inserción (FIFO).\n",
    "    Los objetos se almacenan en un array (lista) de deques. Cada índice del array representa una prioridad, y los objetos almacenados\n",
    "    en el deque de ese índice son los objetos que tienen dicha prioridad.\n",
    "    '''\n",
    "    \n",
    "    def __init__(self, prioridad_maxima):\n",
    "        self.prioridad_maxima = prioridad_maxima\n",
    "        self.__inicializar_cola_prioridad()\n",
    "    \n",
    "    # Funcionalidades básicas\n",
    "    \n",
    "    def insertar(self, objeto, prioridad):\n",
    "        self.__validar_prioridad(prioridad)\n",
    "        self.cola_prioridad[prioridad].append(objeto)\n",
    "    \n",
    "    def extraer_con_prioridad(self, prioridad):\n",
    "        self.__validar_prioridad(prioridad)\n",
    "        deq = self.cola_prioridad[prioridad]\n",
    "        if len(deq) != 0:\n",
    "            return deq.popleft()\n",
    "        return None\n",
    "    \n",
    "    def extraer_maximo(self):\n",
    "        for i in range(len(self.cola_prioridad)-1, -1, -1):\n",
    "            deq = self.cola_prioridad[i]\n",
    "            if len(deq) != 0:\n",
    "                return deq.popleft()\n",
    "        return None\n",
    "    \n",
    "    # Funcionalidades extra\n",
    "    \n",
    "    def numero_de_elementos(self):\n",
    "        contador = 0  \n",
    "        for deq in self.cola_prioridad:\n",
    "            contador += len(deq)\n",
    "        return contador\n",
    "    \n",
    "    def numero_de_elementos_con_prioridad(self, prioridad):\n",
    "        self.__validar_prioridad(prioridad)\n",
    "        return len(self.cola_prioridad[prioridad])\n",
    "    \n",
    "    def esta_vacia(self):\n",
    "        return self.numero_de_elementos() == 0\n",
    "    \n",
    "    def vaciar(self):\n",
    "        self.__inicializar_cola_prioridad()\n",
    "        \n",
    "    # Métodos auxiliares\n",
    "\n",
    "    def __inicializar_cola_prioridad(self):\n",
    "        self.cola_prioridad = []\n",
    "        for _ in range(self.prioridad_maxima):\n",
    "             self.cola_prioridad.append(deque())\n",
    "    \n",
    "    def __validar_prioridad(self, prioridad):\n",
    "        if type(prioridad) is not int:\n",
    "            raise PrioridadNoNumerica('La prioridad debe ser un número entero.')       \n",
    "        if prioridad < 0 or prioridad >= self.prioridad_maxima:\n",
    "            raise PrioridadFueraDeRango(f'La prioridad {prioridad} está fuera de rango.')\n",
    "    \n",
    "    def __str__(self):\n",
    "        cola_str = ''\n",
    "        for i in range(len(self.cola_prioridad)):\n",
    "            deq = self.cola_prioridad[i]\n",
    "            cola_str += f'{i} : [ '\n",
    "            for item in deq:\n",
    "                cola_str += str(item) + ' '\n",
    "            cola_str += ']\\n'\n",
    "        return cola_str\n",
    "\n",
    "\n",
    "    \n",
    "# ---------- Tests ----------\n",
    "\n",
    "\n",
    "def test_extraer_con_prioridad_funciona_correctamente_tras_insertar():\n",
    "    cola = ColaPrioridad(4)\n",
    "    cola.insertar('a', 1)\n",
    "    cola.insertar('b', 2)\n",
    "    cola.insertar('c', 3)\n",
    "    cola.insertar('d', 1)\n",
    "    \n",
    "    assert cola.extraer_con_prioridad(2) == 'b'\n",
    "    assert cola.extraer_con_prioridad(1) == 'a'\n",
    "    assert cola.extraer_con_prioridad(1) == 'd'\n",
    "    assert cola.extraer_con_prioridad(3) == 'c'\n",
    "    assert cola.extraer_con_prioridad(0) == None\n",
    "    \n",
    "    \n",
    "\n",
    "def test_extraer_maximo_funciona_correctamente_tras_insertar():\n",
    "    cola = ColaPrioridad(4)\n",
    "    cola.insertar('a', 1)\n",
    "    cola.insertar('b', 2)\n",
    "    cola.insertar('c', 3)\n",
    "    cola.insertar('d', 1)\n",
    "    \n",
    "    assert cola.extraer_maximo() == 'c'\n",
    "    assert cola.extraer_maximo() == 'b'\n",
    "    assert cola.extraer_maximo() == 'a'\n",
    "    assert cola.extraer_maximo() == 'd'\n",
    "    assert cola.extraer_maximo() == None\n",
    "\n",
    "\n",
    "\n",
    "def test_tamanyo_correcto_tras_insertar():\n",
    "    cola = ColaPrioridad(4)\n",
    "    cola.insertar('a', 1)\n",
    "    cola.insertar('b', 2)\n",
    "    cola.insertar('c', 3)\n",
    "    cola.insertar('d', 1)\n",
    "    cola.insertar('e', 1)\n",
    "    \n",
    "    assert cola.numero_de_elementos() == 5\n",
    "\n",
    "\n",
    "\n",
    "def test_tamanyo_correcto_por_prioridad_tras_insertar():\n",
    "    cola = ColaPrioridad(4)\n",
    "    cola.insertar('a', 1)\n",
    "    cola.insertar('b', 0)\n",
    "    cola.insertar('c', 3)\n",
    "    cola.insertar('d', 1)\n",
    "    cola.insertar('e', 1)\n",
    "    \n",
    "    assert cola.numero_de_elementos_con_prioridad(0) == 1\n",
    "    assert cola.numero_de_elementos_con_prioridad(1) == 3\n",
    "    assert cola.numero_de_elementos_con_prioridad(2) == 0\n",
    "    assert cola.numero_de_elementos_con_prioridad(3) == 1\n",
    "\n",
    "    \n",
    "\n",
    "def test_tamanyo_cero_tras_vaciar():\n",
    "    cola = ColaPrioridad(4)\n",
    "    cola.insertar('a', 1)\n",
    "    cola.insertar('b', 2)\n",
    "    cola.insertar('c', 3)\n",
    "    \n",
    "    cola.vaciar()\n",
    "    \n",
    "    assert cola.numero_de_elementos() == 0\n",
    "    assert cola.esta_vacia()\n",
    "    \n",
    "    \n",
    "    \n",
    "def test_insertar_prioridad_no_numerica_lanza_excepcion():\n",
    "    try:\n",
    "        cola = ColaPrioridad(4)\n",
    "        cola.insertar('a', 'a')\n",
    "        assert False, 'No se debe poder especificar prioridad no numérica'\n",
    "    except PrioridadNoNumerica:\n",
    "        pass # El test funciona.\n",
    "    except:\n",
    "        assert False, 'No se debe poder especificar prioridad no numérica'\n",
    "\n",
    "        \n",
    "    \n",
    "def test_insertar_fuera_de_rango_lanza_excepcion():\n",
    "    try:\n",
    "        cola = ColaPrioridad(4)\n",
    "        cola.insertar('a', 5)\n",
    "        assert False, 'No se debe poder insertar objeto con prioridad fuera de rango'\n",
    "    except PrioridadFueraDeRango:\n",
    "        pass # El test funciona.\n",
    "    except:\n",
    "        assert False, 'No se debe poder insertar objeto con prioridad fuera de rango'\n",
    "\n",
    "\n",
    "        \n",
    "# ---------- Ejecución de los tests ----------\n",
    "\n",
    "test_extraer_con_prioridad_funciona_correctamente_tras_insertar()\n",
    "test_extraer_maximo_funciona_correctamente_tras_insertar()\n",
    "test_tamanyo_correcto_tras_insertar()\n",
    "test_tamanyo_correcto_por_prioridad_tras_insertar()\n",
    "test_tamanyo_cero_tras_vaciar()\n",
    "test_insertar_prioridad_no_numerica_lanza_excepcion()\n",
    "test_insertar_fuera_de_rango_lanza_excepcion()\n",
    "\n",
    "\n",
    "\n",
    "# ---------- Visualización ----------\n",
    "\n",
    "cola = ColaPrioridad(4)\n",
    "\n",
    "cola.insertar('a', 1)\n",
    "cola.insertar('b', 3)\n",
    "cola.insertar('c', 3)\n",
    "cola.insertar('d', 0)\n",
    "cola.insertar('e', 1)\n",
    "cola.insertar('f', 0)\n",
    "cola.insertar('g', 1)\n",
    "\n",
    "print(cola)"
   ]
  }
 ],
 "metadata": {
  "kernelspec": {
   "display_name": "Python 3",
   "language": "python",
   "name": "python3"
  },
  "language_info": {
   "codemirror_mode": {
    "name": "ipython",
    "version": 3
   },
   "file_extension": ".py",
   "mimetype": "text/x-python",
   "name": "python",
   "nbconvert_exporter": "python",
   "pygments_lexer": "ipython3",
   "version": "3.9.2"
  }
 },
 "nbformat": 4,
 "nbformat_minor": 5
}
