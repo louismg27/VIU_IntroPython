{
 "cells": [
  {
   "cell_type": "markdown",
   "id": "global-dayton",
   "metadata": {},
   "source": [
    "<img src=\"img/viu_logo.png\" width=\"200\"><img src=\"img/python_logo.png\" width=\"250\"> *Mario Cervera*"
   ]
  },
  {
   "cell_type": "markdown",
   "id": "breathing-holly",
   "metadata": {},
   "source": [
    "# Algoritmos"
   ]
  },
  {
   "cell_type": "markdown",
   "id": "conditional-italian",
   "metadata": {},
   "source": [
    "## ¿Qué es un algoritmo?"
   ]
  },
  {
   "cell_type": "markdown",
   "id": "expressed-denver",
   "metadata": {},
   "source": [
    "* Un procedimiento bien definido que recibe un valor, o conjunto de valores, como *entrada* y produce un resultado como *salida*.\n",
    "* Un conjunto de pasos que permiten resolver un *problema* definido en términos de una relación entrada-salida deseada."
   ]
  },
  {
   "cell_type": "markdown",
   "id": "passing-content",
   "metadata": {},
   "source": [
    "### Ejemplo: El problema de la ordenación"
   ]
  },
  {
   "cell_type": "markdown",
   "id": "located-butler",
   "metadata": {},
   "source": [
    "* Uno de los problemas más ampliamente utilizado para estudiar análisis y diseño de algoritmos.\n",
    "\n",
    "* Características:\n",
    "\n",
    "  * *Entrada*: una secuencia de *n* números <a<sub>1</sub> , a<sub>2</sub> , ... , a<sub>n</sub>>.\n",
    "        \n",
    "  * *Salida*: permutación (reordenación) <a'<sub>1</sub> , a'<sub>2</sub> , ... , a'<sub>n</sub>> tal que a'<sub>1</sub> <= a'<sub>2</sub> <= a'<sub>n</sub>\n",
    "\n",
    "\n",
    "* Algoritmos:\n",
    "\n",
    "   * *Basados en comparaciones*: [Merge sort](https://es.wikipedia.org/wiki/Ordenamiento_por_mezcla), [Quick sort](https://es.wikipedia.org/wiki/Quicksort), [Heap sort](https://es.wikipedia.org/wiki/Heapsort).\n",
    "  \n",
    "  * *No basados en comparaciones*: [Counting sort](https://es.wikipedia.org/wiki/Ordenamiento_por_cuentas), [Radix sort](https://es.wikipedia.org/wiki/Ordenamiento_Radix)."
   ]
  },
  {
   "cell_type": "code",
   "execution_count": null,
   "id": "thermal-lover",
   "metadata": {
    "tags": []
   },
   "outputs": [],
   "source": [
    "# Ejemplo: Heap sort.\n",
    "\n",
    "import heapq\n",
    "\n",
    "def heapsort(lista):\n",
    "    cola_prioridad = []\n",
    "  \n",
    "    for elemento in lista:\n",
    "         heapq.heappush(cola_prioridad, elemento) \n",
    "        \n",
    "    lista_ordenada = []\n",
    "    while len(cola_prioridad) > 0:\n",
    "        elemento_extraido_de_cola = heapq.heappop(cola_prioridad)\n",
    "        lista_ordenada.append(elemento_extraido_de_cola)\n",
    "        \n",
    "    return lista_ordenada\n",
    "\n",
    "\n",
    "print(heapsort([6,10,1,4,9,16,2,5]))"
   ]
  },
  {
   "cell_type": "markdown",
   "id": "global-penalty",
   "metadata": {},
   "source": [
    "## Análisis de algoritmos"
   ]
  },
  {
   "cell_type": "markdown",
   "id": "nominated-richards",
   "metadata": {},
   "source": [
    "* Análisis de la eficiencia de los algoritmos a nivel teórico, pero que resulta una excelente herramienta a nivel práctico.\n",
    "* Eficiencia: tiempo de ejecución, aunque también memoria consumida.\n",
    "* Permite comparar algoritmos y ver cuál es mejor para un mismo problema.\n",
    "* Nos interesa la eficiencia para entradas grandes.\n",
    "    * Ordenar una lista de 10 elementos tiene un coste insignificante, incluso usando algoritmos ineficientes.\n",
    "    * Ordenar una lista de 2<sup>32</sup> elementos es muy distinto. Si el algoritmo no es eficiente, el coste puede ser prohibitivo."
   ]
  },
  {
   "cell_type": "markdown",
   "id": "automated-liverpool",
   "metadata": {},
   "source": [
    "#### Notación O (Big O)"
   ]
  },
  {
   "cell_type": "markdown",
   "id": "oriental-audio",
   "metadata": {},
   "source": [
    "* Análisis *asintótico* de al eficiencia de algoritmos.\n",
    "  * Análisis de como el tiempo de ejecución aumenta conforme va aumentando sin límites el tamaño de la entrada.\n",
    "* Representación del tiempo de ejecución de un algoritmo como una función del tamaño de la entrada."
   ]
  },
  {
   "cell_type": "markdown",
   "id": "advisory-evening",
   "metadata": {},
   "source": [
    "<img src=\"img/Algoritmos/O_Notation.png\" width=\"650\">*Imagen extraída de [2]*"
   ]
  },
  {
   "cell_type": "markdown",
   "id": "spatial-revision",
   "metadata": {},
   "source": [
    "* La notación O define una serie de funciones, u *órdenes de crecimiento*, que ignoran las constantes y los términos menos relevantes.\n",
    "   * Ejemplo: la función *3n<sup>2</sup> + 4n - 1* sería *O(n<sup>2</sup>)* en notación O.\n",
    "* Esto es porque se realiza un análisis asintótico, y el término más alto es el que realmente impacta en el tiempo de ejecución."
   ]
  },
  {
   "cell_type": "markdown",
   "id": "wrapped-village",
   "metadata": {},
   "source": [
    "<img src=\"img/Algoritmos/OrdersOfGrowth.png\" width=\"600\">"
   ]
  },
  {
   "cell_type": "markdown",
   "id": "alternative-steps",
   "metadata": {},
   "source": [
    "* Estos órdenes de crecimiento representan límites superiores (*upper bounds*), normalmente sobre la función que representa el *peor caso*, ya que es la que más interesa.\n",
    "   * Esto se conoce como **worst-case analysis**."
   ]
  },
  {
   "cell_type": "markdown",
   "id": "cheap-guidance",
   "metadata": {},
   "source": [
    "Ejemplos numéricos que ilustran los órdenes de crecimiento del tiempo de ejecución de los algoritmos:"
   ]
  },
  {
   "cell_type": "markdown",
   "id": "authorized-macro",
   "metadata": {
    "tags": []
   },
   "source": [
    "<img src=\"img/Algoritmos/RunningTimes.png\" width=\"900\">*Tabla extraída de [2]*"
   ]
  },
  {
   "cell_type": "markdown",
   "id": "paperback-leisure",
   "metadata": {},
   "source": [
    "Conclusiones relevantes:\n",
    "\n",
    "* Para *n = 10* todos los algoritmos tuvieron aproximadamente el mismo coste.\n",
    "* Los algoritmos *O(n!)* (factoriales) son completamente inservibles para tamaños relativamente pequeños (n > 20).\n",
    "* Los algoritmos *O(2<sup>n</sup>)* (exponenciales) tienen un rango de operación mayor, pero también se vuelven inservibles relativamente pronto (n > 40).\n",
    "* Los algoritmos *O(n<sup>2</sup>)* (cuadráticos) mantienen su utilidad hasta tamaños de aproximadamente n < 1.000.000.\n",
    "* Los algoritmos *O(n)* (lineales) y *O(n log n)* mantienen su utilidad en el orden de billones de items.\n",
    "* Los algoritmos *O(log n)* (logarítmicos) funcionan de manera prácticamente instantánea para cualquier tamaño de entrada imaginable. "
   ]
  },
  {
   "cell_type": "markdown",
   "id": "simple-suspension",
   "metadata": {},
   "source": [
    "Estos datos muestran que, aunque se ignoren constantes y factores de orden inferior, estas categorías nos dan una idea excelente de cómo los algoritmos funcionan en la práctica."
   ]
  },
  {
   "cell_type": "markdown",
   "id": "authentic-passion",
   "metadata": {},
   "source": [
    "#### ¿Cómo podemos saber a qué categoría pertenece nuestro algoritmo?"
   ]
  },
  {
   "cell_type": "markdown",
   "id": "governing-giving",
   "metadata": {},
   "source": [
    "* De manera muy informal: contando los pasos que ejecuta el algoritmo.\n",
    "* Si asumimos que nuestra máquina puede ejecutar una cantidad concreta de pasos por segundo, este cálculo se traduce de manera natural a *tiempo de ejecución*."
   ]
  },
  {
   "cell_type": "markdown",
   "id": "personalized-machinery",
   "metadata": {},
   "source": [
    "**Ejemplo: búsqueda lineal - O(n)**"
   ]
  },
  {
   "cell_type": "code",
   "execution_count": 1,
   "id": "chemical-involvement",
   "metadata": {
    "ExecuteTime": {
     "start_time": "2023-05-29T14:13:09.078681Z",
     "end_time": "2023-05-29T14:13:09.094378Z"
    }
   },
   "outputs": [
    {
     "name": "stdout",
     "output_type": "stream",
     "text": [
      "2\n"
     ]
    }
   ],
   "source": [
    "def busqueda_lineal(lista, elemento_a_buscar):\n",
    "    for i in range(len(lista)):\n",
    "        if lista[i] == elemento_a_buscar:\n",
    "            return i\n",
    "    return -1\n",
    "\n",
    "print(busqueda_lineal([5,1,3,9,2,8], 3))            "
   ]
  },
  {
   "cell_type": "markdown",
   "id": "fifth-accommodation",
   "metadata": {},
   "source": [
    "**Ejemplo: mostrar todos los pares - O(n<sup>2</sup>)**"
   ]
  },
  {
   "cell_type": "code",
   "execution_count": null,
   "id": "after-celebrity",
   "metadata": {},
   "outputs": [],
   "source": [
    "def mostrar_pares(lista1, lista2):\n",
    "    for elem1 in lista1:\n",
    "        for elem2 in lista2:\n",
    "            print(elem1, elem2)\n",
    "            \n",
    "mostrar_pares([1,2,3], [4,5,6])"
   ]
  },
  {
   "cell_type": "markdown",
   "id": "descending-whole",
   "metadata": {},
   "source": [
    "## Referencias"
   ]
  },
  {
   "cell_type": "markdown",
   "id": "banned-failure",
   "metadata": {},
   "source": [
    "[1] Cormen, T. H.; Leiserson, C. E.; Rivest, R. L.; Stein, C.: *Introduction to algorithms*. Third Edition. MIT press (2009)\n",
    "\n",
    "[2] Skiena, S. S.: *The algorithm design manual.* Second edition. Springer (2008)"
   ]
  },
  {
   "cell_type": "markdown",
   "id": "daily-kitchen",
   "metadata": {},
   "source": [
    "## Ejercicios"
   ]
  },
  {
   "cell_type": "markdown",
   "id": "manual-barrier",
   "metadata": {},
   "source": [
    "1. ¿Cuál sería la eficiencia del siguiente algoritmo en términos de la notación O (asumiendo que ambas listas tienen el mismo tamaño)?"
   ]
  },
  {
   "cell_type": "code",
   "execution_count": null,
   "id": "explicit-evolution",
   "metadata": {
    "tags": []
   },
   "outputs": [],
   "source": [
    "def busqueda_lineal_en_2_listas(lista_1, lista_2, elemento_a_buscar):\n",
    "    for elemento in lista_1:\n",
    "        if elemento == elemento_a_buscar:\n",
    "            return True\n",
    "        \n",
    "    for elemento in lista_2:\n",
    "        if elemento == elemento_a_buscar:\n",
    "            return True\n",
    "        \n",
    "    return False"
   ]
  },
  {
   "cell_type": "markdown",
   "id": "surprising-strap",
   "metadata": {},
   "source": [
    "2. ¿Cuál sería la eficiencia del siguiente algoritmo en términos de la notación O?"
   ]
  },
  {
   "cell_type": "code",
   "execution_count": null,
   "id": "tight-premium",
   "metadata": {},
   "outputs": [],
   "source": [
    "def mostrar_pares_repetidamente(lista):\n",
    "    for elem1 in lista:\n",
    "        for elem2 in lista:\n",
    "            for i in range(50):\n",
    "                print(f\"Repetición {i}: par ({elem1}, {elem2})\")"
   ]
  },
  {
   "cell_type": "markdown",
   "id": "facial-three",
   "metadata": {},
   "source": [
    "## Soluciones"
   ]
  },
  {
   "cell_type": "markdown",
   "id": "assigned-stylus",
   "metadata": {},
   "source": [
    "1. El algoritmo realiza una iteración completa de *lista_1*. Una vez terminado todo el recorrido de *lista_1*, se lleva a cabo una iteración completa de *lista_2*. Si la longitud de las listas es *n*, esto da un total de *2n*. Es decir, el algoritmo tiene un coste lineal: **O(n)**.\n",
    "\n",
    "2. El algoritmo recorre la lista de entrada en un primer bucle for. Para cada uno de los elementos de la lista, hay un segundo bucle for (anidado) que realiza otra iteración completa de la lista. Esto da un total de _n * n_ iteraciones o, lo que es lo mismo, *n²*. En cada una de estas *n²* iteraciones, se lleva a cabo un tercer bucle anidado que tiene 50 iteraciones. Es decir, el total del algoritmo sería *50n²*. Es decir, el algoritmo tiene un coste cuadrático: **O(n²)**."
   ]
  }
 ],
 "metadata": {
  "kernelspec": {
   "display_name": "Python 3",
   "language": "python",
   "name": "python3"
  },
  "language_info": {
   "codemirror_mode": {
    "name": "ipython",
    "version": 3
   },
   "file_extension": ".py",
   "mimetype": "text/x-python",
   "name": "python",
   "nbconvert_exporter": "python",
   "pygments_lexer": "ipython3",
   "version": "3.9.2"
  }
 },
 "nbformat": 4,
 "nbformat_minor": 5
}
