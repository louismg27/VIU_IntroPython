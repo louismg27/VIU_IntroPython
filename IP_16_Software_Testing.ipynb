{
 "cells": [
  {
   "cell_type": "markdown",
   "id": "ecological-denial",
   "metadata": {},
   "source": [
    "<img src=\"img/viu_logo.png\" width=\"200\"><img src=\"img/python_logo.png\" width=\"250\"> *Mario Cervera*"
   ]
  },
  {
   "cell_type": "markdown",
   "id": "serious-blanket",
   "metadata": {},
   "source": [
    "# Software Testing"
   ]
  },
  {
   "cell_type": "markdown",
   "id": "raising-lotus",
   "metadata": {},
   "source": [
    "## ¿Qué es el software testing? "
   ]
  },
  {
   "cell_type": "markdown",
   "id": "young-luxembourg",
   "metadata": {},
   "source": [
    "* Testing es la actividad de verificación de que el software funciona correctamente.\n",
    "* Puede ser manual o automático."
   ]
  },
  {
   "cell_type": "markdown",
   "id": "divided-asian",
   "metadata": {},
   "source": [
    "#### Testing manual\n",
    "\n",
    "* Una persona prueba manualmente que una aplicación hace lo que se espera.\n",
    "    * Ejecución de *casos de prueba* especificados en un documento.\n",
    "    * Realización de testing *exploratorio*.\n",
    "\n",
    "Ejemplo de caso de prueba para una calculadora:\n",
    "\n",
    "* Introducir los valores 4 y 5, ejecutar la acción multiplicar y comprobar que el resultado es 20."
   ]
  },
  {
   "cell_type": "markdown",
   "id": "offensive-creek",
   "metadata": {},
   "source": [
    "#### Testing automático\n",
    "\n",
    "* Los *casos de prueba* pueden automatizarse a través de código fuente.\n",
    "    * Implementación de un \"programa que prueba otro programa\".\n",
    "\n",
    "\n",
    "* Los tests automatizados son mucho más eficientes que los tests manuales ya que se pueden ejecutar las veces que queramos sin la intervención de un ser humano."
   ]
  },
  {
   "cell_type": "markdown",
   "id": "together-eligibility",
   "metadata": {},
   "source": [
    "De aquí en adelante, se hace referencia, salvo que se especifique lo contrario, únicamente a tests automatizados, ya que son los que como programadores más valor nos van a aportar."
   ]
  },
  {
   "cell_type": "markdown",
   "id": "accurate-matter",
   "metadata": {},
   "source": [
    "## Tipos de tests"
   ]
  },
  {
   "cell_type": "markdown",
   "id": "automotive-theology",
   "metadata": {},
   "source": [
    "Uno de los principales objetivos del testing es la **prevención** de bugs.\n",
    "\n",
    "* *Tests unitarios*: verifican módulos del software de manera aislada.\n",
    "* *Tests de aceptación*: verifican funcionalidad esperada por el usuario.\n",
    "* *Tests de interfaz gráfica (UI)*: verifican que la aplicación, a través de su interfaz gráfica, funciona correctamente.\n",
    "\n",
    "Además, también podemos probar el software de manera manual y exploratoria para **localización** de bugs que se nos hayan podido escapar."
   ]
  },
  {
   "cell_type": "markdown",
   "id": "configured-survey",
   "metadata": {},
   "source": [
    "<img src=\"img/Testing/PiramideTesting.png\" width=\"700\">"
   ]
  },
  {
   "cell_type": "markdown",
   "id": "coated-beach",
   "metadata": {},
   "source": [
    "Otra terminología que se puede encontrar dentro del campo del software testing:\n",
    "\n",
    "* *Tests de integración*: prueban varios módulos unitarios de manera integrada.\n",
    "* *Tests funcionales*: prueban funcionalidad que se espera de la aplicación. Es un término similar a tests de aceptación.\n",
    "* *Tests no funcionales*: prueban requisitos no funcionales, como rendimiento, escalabilidad, etc."
   ]
  },
  {
   "cell_type": "markdown",
   "id": "humanitarian-display",
   "metadata": {},
   "source": [
    "## Estructura de un test automatizado"
   ]
  },
  {
   "cell_type": "markdown",
   "id": "deluxe-problem",
   "metadata": {},
   "source": [
    "Ejemplo: comprobación de que una función 'eliminar_duplicados' elimina correctamente los duplicados de una lista."
   ]
  },
  {
   "cell_type": "markdown",
   "id": "catholic-discovery",
   "metadata": {},
   "source": [
    "#### Setup (test fixture)\n",
    "\n",
    "* En este paso se crean de todos los objetos necesarios para ejecutar el test.\n",
    "\n",
    "Ejemplo: creación de la lista [1, 2, 2, 2, 3, 4, 4]"
   ]
  },
  {
   "cell_type": "markdown",
   "id": "surprised-metadata",
   "metadata": {},
   "source": [
    "#### Acción\n",
    "\n",
    "* Invocación del código que queremos probar.\n",
    "\n",
    "Ejemplo: invocación de la función 'eliminar_duplicados'"
   ]
  },
  {
   "cell_type": "markdown",
   "id": "completed-native",
   "metadata": {},
   "source": [
    "#### Verificación resultado\n",
    "\n",
    "* Comprobación de que la acción que hemos invocado ha producido el resultado esperado.\n",
    "\n",
    "Ejemplo: comprobación que la lista resultante tiene los elementos esperados, en este caso [1, 2, 3, 4]."
   ]
  },
  {
   "cell_type": "markdown",
   "id": "accredited-stanford",
   "metadata": {},
   "source": [
    "#### Tear down\n",
    "\n",
    "* Cada test automatizado debe dejar el sistema en el mismo estado que estaba antes de ejecutar el test.\n",
    "* Así se evita que unos tests afecten los resultados de otros tests.\n",
    "* En el paso de 'tear down' se eliminan de todos los recursos persistentes creados por el test (por ejemplo, ficheros o registros en una BD).\n",
    "\n",
    "Ejemplo: no aplica en el ejemplo de la lista."
   ]
  },
  {
   "cell_type": "markdown",
   "id": "czech-shield",
   "metadata": {},
   "source": [
    "## Beneficios del testing automático"
   ]
  },
  {
   "cell_type": "markdown",
   "id": "external-lobby",
   "metadata": {},
   "source": [
    "* Más eficiente que el testing manual, lo que conlleva una reducción de costes.\n",
    "* Reducción del número de bugs (prevención vs localización).\n",
    "* Incremento de **calidad**: permiten modificar el código para hacerlo más legible sin que tengamos miedo de introducir bugs.\n",
    "   * Los tests proporcionan una **red de seguridad**.\n",
    "* Facilitan la comprensión del sistema.\n",
    "    * Los tests proporcionan **especificaciones ejecutables** del comportamiento esperado.\n",
    "    * Estas especificaciones nos sirven como **ejemplos de código** que nos dicen cómo se debe usar el sistema."
   ]
  },
  {
   "cell_type": "markdown",
   "id": "frequent-entrepreneur",
   "metadata": {},
   "source": [
    "## Test-Driven Development (TDD)"
   ]
  },
  {
   "cell_type": "markdown",
   "id": "extraordinary-prerequisite",
   "metadata": {},
   "source": [
    "* Un proceso de desarrollo en el cual los tests se crean antes que el código del sistema (*test-first*).\n",
    "* El código que desarrollamos va dirigido por los tests: cada test que añadimos representa una evolución del sistema.\n",
    "\n",
    "Proceso:\n",
    "\n",
    "1. Añadir test.\n",
    "2. Ejecutar test. Debe fallar porque el código para que el test pase aun no existe.\n",
    "3. Implementar código para que pase el test.\n",
    "4. Ejecutar tests. Todos los tests implementados deberían pasar.\n",
    "5. Mejorar la calidad del código (refactoring).\n",
    "6. Repetir.\n",
    "\n",
    "Más información [aquí](https://en.wikipedia.org/wiki/Test-driven_development)."
   ]
  },
  {
   "cell_type": "markdown",
   "id": "exact-quick",
   "metadata": {},
   "source": [
    "## PyTest: Testing en Python"
   ]
  },
  {
   "cell_type": "markdown",
   "id": "behavioral-evening",
   "metadata": {},
   "source": [
    "- [Pytest](https://docs.pytest.org/en/6.2.x/): framework de testing para Python.\n",
    "\n",
    "Para hacerlo funcionar en Jupyter-Lab, es necesario instalar un módulo de [IPython](https://ipython.org/) llamado *ipytest*.\n",
    "\n",
    "Simplemente ejecutar este comando en vuestro shell:\n",
    "```\n",
    "pip install ipytest\n",
    "```"
   ]
  },
  {
   "cell_type": "code",
   "execution_count": null,
   "id": "fatty-expression",
   "metadata": {},
   "outputs": [],
   "source": [
    "#Importación y autoconfiguración de ipyest\n",
    "\n",
    "import ipytest\n",
    "ipytest.autoconfig()"
   ]
  },
  {
   "cell_type": "code",
   "execution_count": null,
   "id": "flying-tunisia",
   "metadata": {},
   "outputs": [],
   "source": [
    "# Ejemplo de función a testear\n",
    "\n",
    "def eliminar_duplicados(lista):\n",
    "    r = []\n",
    "    for i in range(len(lista)):\n",
    "        if lista[i] not in r:\n",
    "            r.append(lista[i])\n",
    "    return r\n",
    "\n",
    "\n",
    "# Versión refactorizada.\n",
    "# Si reemplazais la implementación de 'eliminar_duplicados' por esta veréis que los tests siguen pasando sin problemas.\n",
    "#\n",
    "#    resultado = []\n",
    "#    for item in lista:\n",
    "#       if item not in resultado:\n",
    "#           resultado.append(item)\n",
    "#    return resultado"
   ]
  },
  {
   "cell_type": "code",
   "execution_count": null,
   "id": "artificial-attack",
   "metadata": {},
   "outputs": [],
   "source": [
    "# Esta función implementa un test automático, pero este test no es invocado por el framework ya que no empieza por 'test_'\n",
    "\n",
    "def eliminar_duplicados_devuelve_resultado_correcto(lista_con_duplicados, lista_esperada):\n",
    "    # Setup\n",
    "    # No necesario. Los datos de entrada a la función (lista_con_duplicados) representan la entrada del test.\n",
    "    \n",
    "    # Acción\n",
    "    lista_obtenida = eliminar_duplicados(lista_con_duplicados)\n",
    "    \n",
    "    # Verificación resultado\n",
    "    assert lista_obtenida == lista_esperada\n",
    "    \n",
    "    # Tear down\n",
    "    # No es necesario en este ejemplo."
   ]
  },
  {
   "cell_type": "code",
   "execution_count": null,
   "id": "canadian-austin",
   "metadata": {},
   "outputs": [],
   "source": [
    "%%run_pytest[clean] -qq\n",
    "\n",
    "# Esta función sí representa un test que es invocado por el framework, ya que su nombre comienza por 'test_' \n",
    "# Aquí se invoca nuestro test con diferentes valores de entrada.\n",
    "\n",
    "def test_eliminar_duplicados():\n",
    "    eliminar_duplicados_devuelve_resultado_correcto([], [])\n",
    "    eliminar_duplicados_devuelve_resultado_correcto([5,5,5,5,5], [5])\n",
    "    eliminar_duplicados_devuelve_resultado_correcto([3.5, 5,'a',5,'a', 5, 'b', 4.5, 3.5], [3.5, 5, 'a', 'b', 4.5])\n",
    "    eliminar_duplicados_devuelve_resultado_correcto([5,5,2,3,3,1,1,1], [5,2,3,1])\n",
    "    eliminar_duplicados_devuelve_resultado_correcto([1, 9, 1, 4, 7, 9, 0, 1], [1, 9, 4, 7, 0])"
   ]
  },
  {
   "cell_type": "markdown",
   "id": "electronic-essex",
   "metadata": {},
   "source": [
    "## El testing en el ciclo de vida del software"
   ]
  },
  {
   "cell_type": "markdown",
   "id": "latin-appraisal",
   "metadata": {},
   "source": [
    "Dos ciclos de vida del software:\n",
    "   \n",
    "   * Desarrollo en cascada (waterfall).\n",
    "   * Desarrollo ágil."
   ]
  },
  {
   "cell_type": "markdown",
   "id": "valued-excitement",
   "metadata": {},
   "source": [
    "#### Ciclo en cascada"
   ]
  },
  {
   "cell_type": "markdown",
   "id": "broadband-percentage",
   "metadata": {},
   "source": [
    "* Herencia de la revolución industrial.\n",
    "  * Emula el desarrollo de productos físicos (casas, coches, puentes, etc.) en fases que se ejecutan de manera secuencial.\n",
    "  * El testing es una etapa que se ejecuta únicamente al final del proceso.\n",
    "\n",
    "\n",
    "* Los proyectos tienen una fecha de inicio y una fecha de fin, donde el alcance está prefijado de antemano y se elabora una planificación detallada.\n",
    "\n",
    "* Fases:\n",
    "  1. *Analisis*: análisis de los requisitos. Elaboración de uno o más documentos con las especificaciones de los requisitos que deberá cumplir el producto final.\n",
    "  2. *Diseño*: diseño o especificación de la solución a un alto nivel de abstracción.\n",
    "  3. *Implementación*: etapa de construcción del producto demandado por el cliente.\n",
    "  4. *Test*: etapa de pruebas donde se verifica que el producto construido cumple con los requisitos especificados.\n",
    "  5. *Mantenimiento*: fase de mantenimiento del producto, donde se realiza cualquier operación necesaria tras la entrega a cliente."
   ]
  },
  {
   "cell_type": "markdown",
   "id": "returning-announcement",
   "metadata": {},
   "source": [
    "<img src=\"img/Testing/waterfall.png\" width=\"700\">"
   ]
  },
  {
   "cell_type": "markdown",
   "id": "bridal-blogger",
   "metadata": {},
   "source": [
    "**Problemas del ciclo en cascada**\n",
    "\n",
    "* Intenta introducir certidumbre en un proceso altamente incierto como es el desarrollo de software.\n",
    "  * Se puede tratar de planificar un proyecto de software en detalle, pero décadas de proyectos fracasados han demostrado que estas planificaciones detalladas nunca se cumplen.\n",
    "* No da soporte a introducir cambios a mitad del proceso.\n",
    "  * En la construcción de productos físicos, esto no es un problema, pero sí lo es en software que, por su naturaleza intangible, es fácil de cambiar.\n",
    "* Clientes insatisfechos que no reciben el producto que esperaban.\n",
    "* Centrado exclusivamente en el cumplimiento de plazos y contratos, no en la entrega de valor al cliente.\n",
    "  * Orientado a proyecto, no a calidad del producto."
   ]
  },
  {
   "cell_type": "markdown",
   "id": "unexpected-schedule",
   "metadata": {},
   "source": [
    "#### Desarrollo de software ágil"
   ]
  },
  {
   "cell_type": "markdown",
   "id": "dried-needle",
   "metadata": {},
   "source": [
    "* Basado en **iteraciones** y en entregas frecuentes a cliente.\n",
    "* El producto se construye de manera **incremental**.\n",
    "* El cliente puede ver versiones funcionales del producto frecuentemente, proponer cambios y dar feedback, lo que incrementa el aporte de valor.\n",
    "* En cada iteración se construye lo más prioritario.\n",
    "* Centrado en la **excelencia técnica**, ya que no se pueden hacer entregas frecuentes si el código no es de calidad.\n",
    "* Dado que la **calidad** es tan importante, el **testing** es una actividad que se realiza constantemente, no como una fase al final del desarrollo.\n",
    "* Se suele realizar cierto nivel de planificación, pero a más corto plazo y es mucho más cambiante que en el modelo en cascada.\n",
    "* La base es establecer una relación de **confianza** con el cliente."
   ]
  },
  {
   "cell_type": "markdown",
   "id": "existing-reaction",
   "metadata": {},
   "source": [
    "Metodología: eXtreme Programming (XP)."
   ]
  },
  {
   "cell_type": "markdown",
   "id": "rapid-values",
   "metadata": {},
   "source": [
    "<img src=\"img/Testing/agile.png\" width=\"950\">"
   ]
  },
  {
   "cell_type": "markdown",
   "id": "dried-failing",
   "metadata": {},
   "source": [
    "## Referencias\n",
    "\n",
    "1. Beck, K: *Test-Driven Development by Example*. Addison-Wesley Professional (2003)\n",
    "2. Meszaros, G: *xUnit Test Patterns: Refactoring Test Code*. Pearson Education (2007)\n",
    "3. Beck, K: *Extreme programming explained: embrace change*. Addison-wesley professional (2000)"
   ]
  }
 ],
 "metadata": {
  "kernelspec": {
   "display_name": "Python 3",
   "language": "python",
   "name": "python3"
  },
  "language_info": {
   "codemirror_mode": {
    "name": "ipython",
    "version": 3
   },
   "file_extension": ".py",
   "mimetype": "text/x-python",
   "name": "python",
   "nbconvert_exporter": "python",
   "pygments_lexer": "ipython3",
   "version": "3.9.2"
  }
 },
 "nbformat": 4,
 "nbformat_minor": 5
}
