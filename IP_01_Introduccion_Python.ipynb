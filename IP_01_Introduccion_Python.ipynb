{
 "cells": [
  {
   "cell_type": "markdown",
   "id": "canadian-pantyhose",
   "metadata": {},
   "source": [
    "<img src=\"img/viu_logo.png\" width=\"200\"><img src=\"img/python_logo.png\" width=\"250\"> *Mario Cervera*"
   ]
  },
  {
   "cell_type": "markdown",
   "id": "optical-minute",
   "metadata": {},
   "source": [
    "# Introducción a Python"
   ]
  },
  {
   "cell_type": "markdown",
   "id": "hybrid-tissue",
   "metadata": {},
   "source": [
    "### Principales características\n",
    "\n",
    "* Lenguaje de propósito general.\n",
    "* Interpretado, no compilado.\n",
    "* Tipado dinámico.\n",
    "* Fuertemente tipado.\n",
    "* Énfasis en la legibilidad.\n",
    "* Lenguaje de alto nivel.\n",
    "* Gestión automática de memoria. Cuando el rendimiento es crítico, hay lenguajes más apropiados.\n",
    "* Multiparadigma: orientado a objetos, procedural y funcional.\n",
    "* Indentación para delimitar bloques de código."
   ]
  },
  {
   "cell_type": "markdown",
   "id": "consolidated-breeding",
   "metadata": {},
   "source": [
    "### ¿Por qué Python?\n",
    "\n",
    "* Ecosistema amplio con librerías para múltiples áreas y buena documentación.\n",
    "* Calidad: código legible y mantenible.\n",
    "* Incrementa productividad del desarrollador.\n",
    "  * Menos programación. Código más compacto.\n",
    "  * No largas compilaciones.\n",
    "* Portabilidad. Multiplataforma.\n",
    "* Integración con otros lenguajes.\n",
    "\n",
    "[Stack Overflow Developer Survey 2022](https://survey.stackoverflow.co/2022/)\n",
    "\n"
   ]
  },
  {
   "cell_type": "markdown",
   "id": "limited-sector",
   "metadata": {},
   "source": [
    "### ¿Qué puedo hacer con Python?\n",
    "\n",
    "* Herramientas shell (administración de sistemas).\n",
    "  * Manipulación de ficheros.\n",
    "  * Ejecución de comandos.\n",
    "* Desarrollo de Interfaces Gráficas de Usuario (GUIs).\n",
    "* Internet and network communication.\n",
    "  * Generación y parseado de XML y JSON.\n",
    "  * Recuperación de webs por URL.\n",
    "  * Comunicación a través de sockets.\n",
    "  * Transferencia de ficheros por FTP.\n",
    "* Programación de base de datos.\n",
    "* Computación numérica (NumPy).\n",
    "* Otros.\n",
    "  * Análisis lenguaje natural.\n",
    "  * Aprendizaje automático e inteligencia artificial.\n",
    "  * Programación multimedia.\n",
    "  * ...\n",
    "  "
   ]
  },
  {
   "cell_type": "markdown",
   "id": "durable-premium",
   "metadata": {},
   "source": [
    "### Filosofía Python"
   ]
  },
  {
   "cell_type": "code",
   "execution_count": null,
   "id": "destroyed-shooting",
   "metadata": {},
   "outputs": [],
   "source": [
    "import this"
   ]
  },
  {
   "cell_type": "markdown",
   "id": "civilian-sheep",
   "metadata": {},
   "source": [
    "### Documentación\n",
    "\n",
    "* Python Enhancement Proposals (PEP)\n",
    "\n",
    "  * [Index](https://www.python.org/dev/peps/)\n",
    "  * [Purpose and Guidelines](https://www.python.org/dev/peps/pep-0001/)\n",
    "\n",
    "\n",
    "* [Python Style Guide](https://www.python.org/dev/peps/pep-0008/)"
   ]
  }
 ],
 "metadata": {
  "kernelspec": {
   "display_name": "Python 3",
   "language": "python",
   "name": "python3"
  },
  "language_info": {
   "codemirror_mode": {
    "name": "ipython",
    "version": 3
   },
   "file_extension": ".py",
   "mimetype": "text/x-python",
   "name": "python",
   "nbconvert_exporter": "python",
   "pygments_lexer": "ipython3",
   "version": "3.9.2"
  }
 },
 "nbformat": 4,
 "nbformat_minor": 5
}
