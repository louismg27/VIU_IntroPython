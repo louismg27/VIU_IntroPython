{
 "cells": [
  {
   "cell_type": "markdown",
   "id": "southeast-institution",
   "metadata": {},
   "source": [
    "<img src=\"img/viu_logo.png\" width=\"200\"><img src=\"img/python_logo.png\" width=\"250\"> *Mario Cervera*"
   ]
  },
  {
   "cell_type": "markdown",
   "id": "external-magic",
   "metadata": {},
   "source": [
    "# Funciones"
   ]
  },
  {
   "cell_type": "markdown",
   "id": "exposed-bristol",
   "metadata": {},
   "source": [
    "## ¿Qué son?\n",
    "\n",
    "* Son un mecanismo que te ofrece el lenguaje para agrupar conjuntos de instrucciones de manera que se puedan ejecutar cuando el programador considere oportuno.\n",
    "* Las funciones van identificadas por un nombre.\n",
    "* Se debe usar este nombre para invocar (ejecutar) el código de la función.\n",
    "* Las funciones calculan un resultado (output) en base a unos parámetros de entrada (input).\n",
    "* En cada invocación de la función, los parámetros de entrada pueden variar."
   ]
  },
  {
   "cell_type": "markdown",
   "id": "black-wonder",
   "metadata": {},
   "source": [
    "## Ejemplo"
   ]
  },
  {
   "cell_type": "code",
   "execution_count": null,
   "id": "involved-worry",
   "metadata": {},
   "outputs": [],
   "source": [
    "def sumar(x,y):\n",
    "    return x + y\n",
    "\n",
    "print(sumar(4,5))"
   ]
  },
  {
   "cell_type": "code",
   "execution_count": 4,
   "outputs": [
    {
     "name": "stdout",
     "output_type": "stream",
     "text": [
      "h\n",
      "oh\n"
     ]
    }
   ],
   "source": [
    "tex = \"hola\"\n",
    "res = \"\"\n",
    "res = tex[0]+res\n",
    "print(res)\n",
    "res = tex[1]+res\n",
    "print(res)"
   ],
   "metadata": {
    "collapsed": false,
    "ExecuteTime": {
     "start_time": "2023-05-11T15:39:49.986997Z",
     "end_time": "2023-05-11T15:39:49.999987Z"
    }
   }
  },
  {
   "cell_type": "markdown",
   "id": "transsexual-refrigerator",
   "metadata": {},
   "source": [
    "## ¿Qué ventajas nos proporcionan?\n",
    "\n",
    "* Eliminación de duplicación de código.\n",
    "* Incremento de la reutilización de código.\n",
    "* Manejo de complejidad: permiten descomponer grandes sistemas en piezas más pequeñas y, por tanto, más manejables y comprensibles."
   ]
  },
  {
   "cell_type": "markdown",
   "id": "plain-exclusive",
   "metadata": {},
   "source": [
    "## Programación de funciones en Python"
   ]
  },
  {
   "cell_type": "markdown",
   "id": "objective-advance",
   "metadata": {},
   "source": [
    "Las funciones se definen por medio de la palabra clave *def*.\n",
    "\n",
    "Formato general:\n",
    "\n",
    "```\n",
    "def name(arg1, arg2, ..., argN):\n",
    "    statements\n",
    "```\n",
    "\n",
    "Muy comúnmente:\n",
    "\n",
    "```\n",
    "def name(arg1, arg2, ..., argN):\n",
    "    ...\n",
    "    return value\n",
    "```"
   ]
  },
  {
   "cell_type": "markdown",
   "id": "patient-emerald",
   "metadata": {},
   "source": [
    "* Las funciones son instrucciones convencionales, que se ejecutan cuando el flujo de control llega a ellas.\n",
    "* La definición de la función debe ejecutarse antes de poder invocarse la función."
   ]
  },
  {
   "cell_type": "code",
   "execution_count": null,
   "id": "grave-chicken",
   "metadata": {},
   "outputs": [],
   "source": [
    "# Primero, definición.\n",
    "def crear_diccionario(keys, values):\n",
    "    return dict(zip(keys, values))\n",
    "\n",
    "# Después, invocación.\n",
    "nombres = ['Alfred', 'James', 'Peter', 'Harvey']\n",
    "edades = [87, 43, 19, 16]\n",
    "usuarios = crear_diccionario(nombres, edades)\n",
    "print(usuarios)"
   ]
  },
  {
   "cell_type": "markdown",
   "id": "comparative-liberal",
   "metadata": {},
   "source": [
    "* Las funciones pueden estar anidadas en sentencias condicionales o bucles. "
   ]
  },
  {
   "cell_type": "code",
   "execution_count": null,
   "id": "neither-flavor",
   "metadata": {},
   "outputs": [],
   "source": [
    "a = 1\n",
    "#a = -1\n",
    "\n",
    "if a > 0:\n",
    "    def operacion(x, y):\n",
    "        return x + y\n",
    "else:\n",
    "    def operacion(x, y):\n",
    "        return x * y\n",
    "    \n",
    "print(operacion(3, 4))"
   ]
  },
  {
   "cell_type": "markdown",
   "id": "veterinary-alliance",
   "metadata": {},
   "source": [
    "* Argumentos y return son opcionales."
   ]
  },
  {
   "cell_type": "code",
   "execution_count": null,
   "id": "hydraulic-valley",
   "metadata": {
    "tags": []
   },
   "outputs": [],
   "source": [
    "def print_hola_mundo():\n",
    "    print('Hola Mundo')\n",
    "\n",
    "print_hola_mundo()"
   ]
  },
  {
   "cell_type": "markdown",
   "id": "continued-alloy",
   "metadata": {},
   "source": [
    "* Cuando una función no tiene sentencia *return*, la función devuelve el objeto *None*."
   ]
  },
  {
   "cell_type": "code",
   "execution_count": null,
   "id": "square-receipt",
   "metadata": {},
   "outputs": [],
   "source": [
    "def print_hola_mundo():\n",
    "    print('Hola Mundo')\n",
    "\n",
    "valor = print_hola_mundo()\n",
    "print(valor)"
   ]
  },
  {
   "cell_type": "markdown",
   "id": "considered-clarity",
   "metadata": {},
   "source": [
    "* La sentencia *return* puede aparecer en cualquier parte de la función."
   ]
  },
  {
   "cell_type": "code",
   "execution_count": null,
   "id": "numerical-second",
   "metadata": {},
   "outputs": [],
   "source": [
    "def devolver_algo(x):\n",
    "    if x > 0:\n",
    "        return 'Hola'\n",
    "    return 'Mundo'\n",
    "\n",
    "print(devolver_algo(1))"
   ]
  },
  {
   "cell_type": "markdown",
   "id": "lesbian-prince",
   "metadata": {},
   "source": [
    "* Puede haber más de un valor de retorno. Se devuelve una tupla."
   ]
  },
  {
   "cell_type": "code",
   "execution_count": null,
   "id": "antique-password",
   "metadata": {},
   "outputs": [],
   "source": [
    "def devolver_primero_segundo(coleccion):\n",
    "    return coleccion[0], coleccion[1]\n",
    "\n",
    "t = devolver_primero_segundo(['Alfred', 'James', 'Peter', 'Harvey'])\n",
    "print(t)\n",
    "print(type(t))"
   ]
  },
  {
   "cell_type": "code",
   "execution_count": null,
   "id": "heard-association",
   "metadata": {},
   "outputs": [],
   "source": [
    "primero, segundo = devolver_primero_segundo(['Alfred', 'James', 'Peter', 'Harvey'])\n",
    "print(primero)\n",
    "print(segundo)"
   ]
  },
  {
   "cell_type": "markdown",
   "id": "precious-samba",
   "metadata": {},
   "source": [
    "* Los argumentos pueden tener valores por defecto, siempre al final."
   ]
  },
  {
   "cell_type": "code",
   "execution_count": null,
   "id": "significant-guitar",
   "metadata": {},
   "outputs": [],
   "source": [
    "def f(a = None, b = None, c = None):\n",
    "    if a is not None:\n",
    "        print('Se ha proporcionado a')\n",
    "    if b is not None:\n",
    "        print('Se ha proporcionado b')\n",
    "    if c is not None:\n",
    "        print('Se ha proporcionado c')\n",
    "        \n",
    "f(1, 'hola')"
   ]
  },
  {
   "cell_type": "markdown",
   "id": "liked-finnish",
   "metadata": {},
   "source": [
    "* Los parámetros se pasan por posición, pero el orden se puede alterar si se especifica el nombre del parámetro en la llamada."
   ]
  },
  {
   "cell_type": "code",
   "execution_count": null,
   "id": "sensitive-official",
   "metadata": {},
   "outputs": [],
   "source": [
    "def power(base, exponente):\n",
    "    return pow(base, exponente)\n",
    "\n",
    "print(power(2,4))\n",
    "print(power(exponente = 4, base = 2))"
   ]
  },
  {
   "cell_type": "markdown",
   "id": "excessive-state",
   "metadata": {},
   "source": [
    "* Al ejecutarse una sentencia *def*, se crea un **objeto de tipo función** y éste se asocia con el nombre especificado para la función.\n",
    "* Un objeto de tipo función es como cualquier otro tipo de objeto.\n",
    "* Variables pueden referenciar objetos de tipo función."
   ]
  },
  {
   "cell_type": "code",
   "execution_count": null,
   "id": "aerial-sampling",
   "metadata": {},
   "outputs": [],
   "source": [
    "def sumar(x, y):\n",
    "    return x + y\n",
    "\n",
    "f = sumar\n",
    "\n",
    "print(type(f))\n",
    "print(f(5,6))"
   ]
  },
  {
   "cell_type": "markdown",
   "id": "saving-credits",
   "metadata": {},
   "source": [
    "* Se pueden crear placeholders con la palabra clave *pass*.\n",
    "* *pass* representa una sentencia que no hace nada.\n",
    "* Útil cuando la sintaxis del lenguaje requiere alguna sentencia, pero no tienes nada que escribir."
   ]
  },
  {
   "cell_type": "code",
   "execution_count": null,
   "id": "sustainable-richards",
   "metadata": {},
   "outputs": [],
   "source": [
    "def mi_funcion():\n",
    "    pass\n",
    "\n",
    "mi_funcion()"
   ]
  },
  {
   "cell_type": "markdown",
   "id": "verified-report",
   "metadata": {},
   "source": [
    "## Paso de parámetros"
   ]
  },
  {
   "cell_type": "markdown",
   "id": "level-excuse",
   "metadata": {
    "tags": []
   },
   "source": [
    "* Tipos simples (inmutables) por **valor**: int, float, string.\n",
    "    * El efecto es como si se creara una copia dentro de la función, aunque realmente no es esto lo que ocurre.\n",
    "    * Los cambios dentro de la función no afectan fuera."
   ]
  },
  {
   "cell_type": "code",
   "execution_count": null,
   "id": "vertical-workplace",
   "metadata": {},
   "outputs": [],
   "source": [
    "def cambiar_valor(x):\n",
    "    x = 3\n",
    "    print('Dentro de la función:', x)  # x ahora referencia a un nuevo objeto (el 3), pero esto no afecta a la variable de fuera de la función, que sigue apuntando al 2.\n",
    "    return\n",
    "\n",
    "a = 2\n",
    "cambiar_valor(a)\n",
    "print('Fuera de la función:', a)"
   ]
  },
  {
   "cell_type": "markdown",
   "id": "entitled-contribution",
   "metadata": {},
   "source": [
    "* Tipos complejos (mutables) por **referencia**: list, set, dictionary.\n",
    "    * Dentro de la función se maneja el mismo objeto que se ha pasado desde fuera.\n",
    "    * Los cambios dentro de la función sí afectan fuera."
   ]
  },
  {
   "cell_type": "code",
   "execution_count": null,
   "id": "spatial-repeat",
   "metadata": {},
   "outputs": [],
   "source": [
    "def anyadir_2_a(x):\n",
    "    x.append(2)\n",
    "    return\n",
    "    \n",
    "lista = [0, 1]\n",
    "anyadir_2_a(lista)\n",
    "print(lista)"
   ]
  },
  {
   "cell_type": "markdown",
   "id": "prompt-consumer",
   "metadata": {},
   "source": [
    "* Si quiero modificar un objeto que es de un tipo básico, los cuales se pasan por valor, puedo simplemente devolver el resultado de la función y hacer una asignación:"
   ]
  },
  {
   "cell_type": "code",
   "execution_count": null,
   "id": "selective-irish",
   "metadata": {},
   "outputs": [],
   "source": [
    "def multiplicar_por_2(x):\n",
    "    return x * 2\n",
    "\n",
    "a = 3\n",
    "a = multiplicar_por_2(a)\n",
    "print(a)"
   ]
  },
  {
   "cell_type": "markdown",
   "id": "magnetic-activation",
   "metadata": {},
   "source": [
    "* Si quiero que no se modifique un objeto de un tipo complejo, los cuales se pasan por referencia, puedo pasar una copia a la función:"
   ]
  },
  {
   "cell_type": "code",
   "execution_count": null,
   "id": "exciting-representative",
   "metadata": {},
   "outputs": [],
   "source": [
    "def anyadir_2_a(x):\n",
    "    x.append(2)\n",
    "    print('Dentro de la función: ', x)\n",
    "    \n",
    "lista = [0, 1]\n",
    "anyadir_2_a(lista.copy())\n",
    "print('Fuera de la función: ', lista)"
   ]
  },
  {
   "cell_type": "code",
   "execution_count": null,
   "id": "similar-manitoba",
   "metadata": {},
   "outputs": [],
   "source": [
    "# Alternativa para obtener una copia: slicing.\n",
    "lista = [0, 1]\n",
    "anyadir_2_a(lista[:])\n",
    "print('Fuera de la función: ', lista)"
   ]
  },
  {
   "cell_type": "markdown",
   "id": "circular-fourth",
   "metadata": {},
   "source": [
    "* Reasignar un parámetro nunca afecta al objeto de fuera:"
   ]
  },
  {
   "cell_type": "code",
   "execution_count": null,
   "id": "french-bullet",
   "metadata": {},
   "outputs": [],
   "source": [
    "def funcion_poco_util(x):\n",
    "    x = [2, 3]\n",
    "    x.append(4)\n",
    "    \n",
    "lista = [0, 1]\n",
    "funcion_poco_util(lista)\n",
    "print(lista)"
   ]
  },
  {
   "cell_type": "markdown",
   "id": "improved-document",
   "metadata": {},
   "source": [
    "## Argumentos arbitrarios"
   ]
  },
  {
   "cell_type": "markdown",
   "id": "forbidden-initial",
   "metadata": {},
   "source": [
    "* No se sabe a priori cuantos elementos se reciben.\n",
    "* Se reciben como una tupla.\n",
    "* Los parámetros se especifican con el símbolo '*'."
   ]
  },
  {
   "cell_type": "code",
   "execution_count": null,
   "id": "latest-intersection",
   "metadata": {},
   "outputs": [],
   "source": [
    "def saludar(*names):\n",
    "    #print(type(names))\n",
    "    for name in names:\n",
    "        print(\"Hola \" + name)\n",
    "\n",
    "saludar(\"Manolo\", \"Pepe\", \"Luis\", \"Alex\") "
   ]
  },
  {
   "cell_type": "markdown",
   "id": "latin-aquarium",
   "metadata": {},
   "source": [
    "## Funciones Lambda"
   ]
  },
  {
   "cell_type": "markdown",
   "id": "alert-stupid",
   "metadata": {},
   "source": [
    "* Es posible definir funciones anónimas (sin nombre).\n",
    "* Lambdas son expresiones; por lo tanto, puede aparecer en lugares donde una sentencia *def* no puede (por ejemplo, dentro de una lista o como parámetro de una función).\n",
    "* Útiles cuando se quiere pasar una función como argumento a otra."
   ]
  },
  {
   "cell_type": "markdown",
   "id": "determined-family",
   "metadata": {},
   "source": [
    "Formato general:\n",
    "\n",
    "```\n",
    "lambda <lista de argumentos> : <valor a retornar>\n",
    "```\n",
    "\n",
    "* Importante: *\\<valor a retornar\\>* no es un conjunto de instrucciones. Es simplemente una expresión *return* que omite esta palabra.\n",
    "* Las funciones definidas con *def* son más generales:\n",
    "    * Cualquier cosa que implementes en un lambda, lo puedes implementar como una función convencional con *def*, pero no viceversa."
   ]
  },
  {
   "cell_type": "code",
   "execution_count": null,
   "id": "clear-latino",
   "metadata": {},
   "outputs": [],
   "source": [
    "# Ejemplo: función suma.\n",
    "\n",
    "def suma(x, y, z):\n",
    "    return x + y + z\n",
    "\n",
    "print(suma(1, 2, 3))\n",
    "\n",
    "# Ejemplo: función suma como expresión lambda.\n",
    "\n",
    "suma2 = lambda x, y, z: x + y + z\n",
    "\n",
    "print(suma2(1, 2, 3))"
   ]
  },
  {
   "cell_type": "code",
   "execution_count": null,
   "id": "looking-stadium",
   "metadata": {},
   "outputs": [],
   "source": [
    "# La funcion 'sort' puede recibir una función optional como parámetro.\n",
    "# Esta función 'key' se invoca para cada elemento de la lista antes de realizar las comparaciones.\n",
    "# Ejemplo: ordenar strings por número de carácteres.\n",
    "\n",
    "cities = ['Valencia', 'Lugo', 'Barcelona', 'Madrid']\n",
    "\n",
    "cities.sort()\n",
    "print(cities)\n",
    "\n",
    "cities.sort(key = lambda x : len(x))\n",
    "print(cities)"
   ]
  },
  {
   "cell_type": "code",
   "execution_count": null,
   "id": "sunset-horror",
   "metadata": {
    "tags": []
   },
   "outputs": [],
   "source": [
    "# Mismo ejemplo sin lambda\n",
    "\n",
    "cities = ['Valencia', 'Lugo', 'Barcelona', 'Madrid']\n",
    "\n",
    "def num_caracteres(x):\n",
    "    return len(x)\n",
    "\n",
    "cities.sort(key = num_caracteres)\n",
    "print(cities)"
   ]
  },
  {
   "cell_type": "markdown",
   "id": "rural-occupation",
   "metadata": {},
   "source": [
    "* Nos podemos guardar una referencia para utilización repetida."
   ]
  },
  {
   "cell_type": "code",
   "execution_count": null,
   "id": "opening-antique",
   "metadata": {
    "tags": []
   },
   "outputs": [],
   "source": [
    "cities = ['Valencia', 'Lugo', 'Barcelona', 'Madrid']\n",
    "\n",
    "f = lambda x : len(x)\n",
    "\n",
    "for s in cities:\n",
    "    print(f(s))"
   ]
  },
  {
   "cell_type": "markdown",
   "id": "young-interim",
   "metadata": {},
   "source": [
    "* Las expresiones lambda pueden formar parte de una lista."
   ]
  },
  {
   "cell_type": "code",
   "execution_count": null,
   "id": "unknown-carol",
   "metadata": {},
   "outputs": [],
   "source": [
    "# Lista de lambdas para mostrar las potencias de 2.\n",
    "\n",
    "pows = [lambda x: x ** 0,\n",
    "        lambda x: x ** 1,\n",
    "        lambda x: x ** 2,\n",
    "        lambda x: x ** 3,\n",
    "        lambda x: x ** 4]\n",
    "\n",
    "for f in pows:\n",
    "    print(f(2))"
   ]
  },
  {
   "cell_type": "markdown",
   "id": "electrical-corporation",
   "metadata": {},
   "source": [
    "## Scopes"
   ]
  },
  {
   "cell_type": "markdown",
   "id": "continuous-football",
   "metadata": {},
   "source": [
    "* La localización de una asignación a una variable en el código determina desde donde puedes acceder a esa variable.\n",
    "* Por ejemplo, una variable asignada dentro de una función sólo es visible dentro de esa función.\n",
    "* El alcance de la visibilidad de una variable determina su *scope*.\n",
    "* El término *scope* hace referencia a un espacio de nombres (*namespace*). Por ejemplo, una función establece su propio *namespace*."
   ]
  },
  {
   "cell_type": "code",
   "execution_count": null,
   "id": "consecutive-fantasy",
   "metadata": {},
   "outputs": [],
   "source": [
    "X = 10\n",
    "\n",
    "def func():\n",
    "    X = 20   # Local a la función. Es una variable diferente, no visible fuera de 'func'."
   ]
  },
  {
   "cell_type": "markdown",
   "id": "seventh-backing",
   "metadata": {},
   "source": [
    "#### Regla LEGB\n",
    "\n",
    "Dada una función *F*, tenemos los siguientes *scopes*:\n",
    "\n",
    "* **L**ocal: variables locales a *F*.\n",
    "* **E**nclosing: variables localizadas en funciones que contienen a (o por encima de) *F*.\n",
    "* **G**lobal: variables definidas en el módulo (fichero) que no están contenidas en ninguna función. Este scope no abarca más de un fichero.\n",
    "* **B**uilt-ins: proporcionadas por el lenguaje.\n",
    "\n",
    "La resolución de nombres ocurre de abajo a arriba."
   ]
  },
  {
   "cell_type": "markdown",
   "id": "sensitive-server",
   "metadata": {},
   "source": [
    "<img src=\"img/LEGB.png\" width=\"700\">"
   ]
  },
  {
   "cell_type": "code",
   "execution_count": null,
   "id": "designing-wedding",
   "metadata": {},
   "outputs": [],
   "source": [
    "# Global (X y func)\n",
    "X = 99 \n",
    "\n",
    "def func(Y):  # Local (Y y Z)\n",
    "    Z = X + Y\n",
    "    return Z\n",
    "\n",
    "print(func(1))"
   ]
  },
  {
   "cell_type": "code",
   "execution_count": null,
   "id": "russian-sacramento",
   "metadata": {
    "tags": []
   },
   "outputs": [],
   "source": [
    "X = 1\n",
    "\n",
    "def func():\n",
    "    X = 2  # X es una variable diferente\n",
    "\n",
    "func()\n",
    "print(X)"
   ]
  },
  {
   "cell_type": "markdown",
   "id": "simple-resolution",
   "metadata": {},
   "source": [
    "* La sentencia *global* nos permite modificar una variable global desde dentro de una función."
   ]
  },
  {
   "cell_type": "code",
   "execution_count": null,
   "id": "guilty-satellite",
   "metadata": {},
   "outputs": [],
   "source": [
    "X = 1\n",
    "\n",
    "def func():\n",
    "    global X\n",
    "    X = 2\n",
    "\n",
    "func()\n",
    "print(X)"
   ]
  },
  {
   "cell_type": "markdown",
   "id": "suspended-judge",
   "metadata": {},
   "source": [
    "* No hay necesidad de usar *global* para referenciar variables. Sólo es necesario para modificarlas."
   ]
  },
  {
   "cell_type": "code",
   "execution_count": null,
   "id": "auburn-female",
   "metadata": {},
   "outputs": [],
   "source": [
    "x,y, z = 1, 2\n",
    "\n",
    "def todas_globales():\n",
    "    global x\n",
    "    x = y + z   # Las tres variables son globales.\n",
    "    \n",
    "todas_globales()\n",
    "print(x)\n",
    "print(y)\n",
    "print(z)"
   ]
  },
  {
   "cell_type": "code",
   "execution_count": 1,
   "id": "thrown-figure",
   "metadata": {
    "ExecuteTime": {
     "start_time": "2023-05-11T11:29:42.599875Z",
     "end_time": "2023-05-11T11:29:42.616037Z"
    }
   },
   "outputs": [
    {
     "name": "stdout",
     "output_type": "stream",
     "text": [
      "88\n"
     ]
    }
   ],
   "source": [
    "X = 77\n",
    "\n",
    "def f1():\n",
    "    X = 88       # Enclosing scope (para f2)\n",
    "    def f2():\n",
    "        print(X)\n",
    "    f2()\n",
    "    \n",
    "f1()"
   ]
  },
  {
   "cell_type": "markdown",
   "id": "provincial-clause",
   "metadata": {},
   "source": [
    "#### Closures\n",
    "\n",
    "* Las funciones pueden recordar su *enclosing scope*, independientemente de si éstos continuan existiendo o no."
   ]
  },
  {
   "cell_type": "code",
   "execution_count": 2,
   "id": "delayed-plant",
   "metadata": {
    "ExecuteTime": {
     "start_time": "2023-05-11T11:30:03.158873Z",
     "end_time": "2023-05-11T11:30:03.165882Z"
    }
   },
   "outputs": [
    {
     "name": "stdout",
     "output_type": "stream",
     "text": [
      "88\n"
     ]
    }
   ],
   "source": [
    "def f1():\n",
    "    X = 88       # Enclosing scope (para f2)\n",
    "    def f2():\n",
    "        print(X)\n",
    "    return f2    # Devuelve f2, sin invocarla\n",
    "    \n",
    "accion = f1()\n",
    "accion()"
   ]
  },
  {
   "cell_type": "markdown",
   "id": "successful-magazine",
   "metadata": {},
   "source": [
    "* Sentencia *nonlocal* para modificar variables que no son locales, pero tampoco globales."
   ]
  },
  {
   "cell_type": "code",
   "execution_count": null,
   "id": "latter-liberal",
   "metadata": {},
   "outputs": [],
   "source": [
    "def f1():\n",
    "    contador = 10\n",
    "    def f2():\n",
    "        nonlocal contador\n",
    "        contador += 1\n",
    "        print(contador)\n",
    "    return f2\n",
    "    \n",
    "accion = f1()\n",
    "accion()\n",
    "accion()\n",
    "accion()"
   ]
  },
  {
   "cell_type": "markdown",
   "id": "perceived-performer",
   "metadata": {},
   "source": [
    "## Ejercicios"
   ]
  },
  {
   "cell_type": "markdown",
   "id": "exact-universe",
   "metadata": {},
   "source": [
    "1. Escribe una función que reciba como entrada una *lista* con números y devuelva como resultado una *lista* con los cuadrados de los números contenidos en la lista de entrada.\n",
    "\n",
    "2. Escribe una función que reciba números como entrada y devuelva la suma de los mismos. La función debe ser capaz de recibir una cantidad indeterminada de números. La función no debe recibir directamente ningún objeto complejo (lista, conjunto, etc.).\n",
    "\n",
    "3. Escribe una función que reciba un string como entrada y devuelva el string al revés. Ejemplo: si el string de entrada es 'hola', el resultado será 'aloh'.\n",
    "\n",
    "4. Escribe una función *lambda* que, al igual que la función desarrollada en el ejercicio anterior, invierta el string recibido como parámetro. Ejemplo: si el string de entrada es 'hola', el resultado será 'aloh'.\n",
    "\n",
    "5. Escribe una función que compruebe si un número se encuentra dentro de un rango específico.\n",
    "\n",
    "6. Escribe una función que reciba un número entero positivo como parámetro y devuelva una lista que contenga los 5 primeros múltiplos de dicho número. Por ejemplo, si la función recibe el número 3, devolverá la lista [3, 6, 9, 12, 15]. Si la función recibe un parámetro incorrecto (por ejemplo, un múmero menor o igual a cero), mostrará un mensaje de error por pantalla y devolverá una lista vacía.\n",
    "\n",
    "7. Escribe una función que reciba una lista como parámetro y compruebe si la lista tiene duplicados. La función devolverá *True* si la lista tiene duplicados y *False* si no los tiene.\n",
    "\n",
    "8. Escribe una función *lambda* que, al igual que la función desarrollada en el ejercicio anterior, reciba una lista como parámetro y compruebe si la lista tiene duplicados. La función devolverá *True* si la lista tiene duplicados y *False* si no los tiene.\n",
    "\n",
    "9. Escribe una función que compruebe si un string dado es un palíndromo. Un palíndromo es una secuencia de caracteres que se lee igual de izquierda a derecha que de derecha a izquierda. Por ejemplo, la función devolverá *True* si recibe el string \"reconocer\" y *False* si recibe el string \"python\"."
   ]
  },
  {
   "cell_type": "markdown",
   "id": "integral-allocation",
   "metadata": {},
   "source": [
    "## Soluciones"
   ]
  },
  {
   "cell_type": "code",
   "execution_count": 3,
   "id": "cellular-cattle",
   "metadata": {
    "ExecuteTime": {
     "start_time": "2023-05-11T11:31:07.393377Z",
     "end_time": "2023-05-11T11:31:07.409002Z"
    }
   },
   "outputs": [
    {
     "name": "stdout",
     "output_type": "stream",
     "text": [
      "[1, 4, 9, 16, 25]\n"
     ]
    }
   ],
   "source": [
    "# Ejercicio 1\n",
    "\n",
    "def obtener_cuadrados(numeros):\n",
    "    resultado = []\n",
    "    for numero in numeros:\n",
    "        resultado.append(numero ** 2)\n",
    "    return resultado\n",
    "\n",
    "print(obtener_cuadrados([1,2,3,4,5]))"
   ]
  },
  {
   "cell_type": "code",
   "execution_count": null,
   "id": "civilian-advertiser",
   "metadata": {},
   "outputs": [],
   "source": [
    "# Ejercicio 2\n",
    "\n",
    "def sumar(*numeros):\n",
    "    suma = 0\n",
    "    for numero in numeros:\n",
    "         suma += numero\n",
    "    return suma\n",
    "\n",
    "print(sumar(1,2,3,4,5))"
   ]
  },
  {
   "cell_type": "code",
   "execution_count": null,
   "id": "blocked-arlington",
   "metadata": {},
   "outputs": [],
   "source": [
    "# Ejercicio 3\n",
    "\n",
    "def invertir(s):\n",
    "    s_invertida = \"\"\n",
    "    for caracter in s:\n",
    "        s_invertida = caracter + s_invertida\n",
    "    return s_invertida\n",
    "\n",
    "print(invertir(\"hola\"))"
   ]
  },
  {
   "cell_type": "code",
   "execution_count": null,
   "id": "hollow-horizon",
   "metadata": {},
   "outputs": [],
   "source": [
    "# Ejercicio 4\n",
    "\n",
    "invertir = lambda s : s[::-1]\n",
    "\n",
    "print(invertir(\"hola\"))"
   ]
  },
  {
   "cell_type": "code",
   "execution_count": null,
   "id": "blocked-southwest",
   "metadata": {},
   "outputs": [],
   "source": [
    "# Ejercicio 5\n",
    "\n",
    "def contenido_en_rango(numero, rango):\n",
    "    return numero in range(rango[0], rango[1])\n",
    "\n",
    "rango = (1,5)\n",
    "print(contenido_en_rango(2, rango))\n",
    "print(contenido_en_rango(6, rango))"
   ]
  },
  {
   "cell_type": "code",
   "execution_count": null,
   "id": "available-facial",
   "metadata": {},
   "outputs": [],
   "source": [
    "# Ejercicio 6\n",
    "\n",
    "def primeros_5_multiplos(numero):\n",
    "    if numero <= 0:\n",
    "        print(\"Número incorrecto: debe ser mayor que cero.\")\n",
    "        return []\n",
    "    \n",
    "    multiplos = []\n",
    "    for i in range(1, 6):\n",
    "        multiplos.append(numero*i)\n",
    "    return multiplos\n",
    "\n",
    "print(primeros_5_multiplos(3))\n",
    "print(primeros_5_multiplos(0))"
   ]
  },
  {
   "cell_type": "code",
   "execution_count": 4,
   "id": "established-regular",
   "metadata": {
    "ExecuteTime": {
     "start_time": "2023-05-11T11:33:00.057410Z",
     "end_time": "2023-05-11T11:33:00.104433Z"
    }
   },
   "outputs": [
    {
     "name": "stdout",
     "output_type": "stream",
     "text": [
      "False\n",
      "True\n"
     ]
    }
   ],
   "source": [
    "# Ejercicio 7\n",
    "\n",
    "def contiene_duplicados(lista):\n",
    "    objetos_ya_vistos = set()\n",
    "    for objeto in lista:\n",
    "        if objeto in objetos_ya_vistos:\n",
    "            return True\n",
    "        objetos_ya_vistos.add(objeto)\n",
    "    return False\n",
    "\n",
    "print(contiene_duplicados([1,2,3,4,5]))\n",
    "print(contiene_duplicados([1,2,3,4,5,5,5]))"
   ]
  },
  {
   "cell_type": "code",
   "execution_count": null,
   "id": "alternative-designer",
   "metadata": {
    "tags": []
   },
   "outputs": [],
   "source": [
    "# Ejercicio 8\n",
    "\n",
    "contiene_duplicados = lambda lista : len(lista) != len(set(lista))\n",
    "\n",
    "print(contiene_duplicados([1,2,3,4,5]))\n",
    "print(contiene_duplicados([1,2,3,4,5,5,5]))"
   ]
  },
  {
   "cell_type": "code",
   "execution_count": 5,
   "id": "tribal-universe",
   "metadata": {
    "ExecuteTime": {
     "start_time": "2023-05-11T11:35:16.486924Z",
     "end_time": "2023-05-11T11:35:16.565454Z"
    }
   },
   "outputs": [
    {
     "name": "stdout",
     "output_type": "stream",
     "text": [
      "True\n",
      "False\n"
     ]
    }
   ],
   "source": [
    "# Ejercicio 9\n",
    "\n",
    "def es_palindromo(s):\n",
    "    for i in range(len(s)//2):\n",
    "        if s[i] != s[len(s)-i-1]:\n",
    "            return False\n",
    "    return True\n",
    "\n",
    "print(es_palindromo(\"reconocer\"))\n",
    "print(es_palindromo(\"python\"))"
   ]
  },
  {
   "cell_type": "code",
   "execution_count": null,
   "outputs": [],
   "source": [],
   "metadata": {
    "collapsed": false
   }
  }
 ],
 "metadata": {
  "kernelspec": {
   "display_name": "Python 3",
   "language": "python",
   "name": "python3"
  },
  "language_info": {
   "codemirror_mode": {
    "name": "ipython",
    "version": 3
   },
   "file_extension": ".py",
   "mimetype": "text/x-python",
   "name": "python",
   "nbconvert_exporter": "python",
   "pygments_lexer": "ipython3",
   "version": "3.9.2"
  }
 },
 "nbformat": 4,
 "nbformat_minor": 5
}
