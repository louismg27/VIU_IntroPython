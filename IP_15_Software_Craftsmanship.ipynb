{
 "cells": [
  {
   "cell_type": "markdown",
   "id": "sharing-healthcare",
   "metadata": {},
   "source": [
    "<img src=\"img/viu_logo.png\" width=\"200\"><img src=\"img/python_logo.png\" width=\"250\"> *Mario Cervera*"
   ]
  },
  {
   "cell_type": "markdown",
   "id": "conceptual-dutch",
   "metadata": {},
   "source": [
    "# Software Craftsmanship"
   ]
  },
  {
   "cell_type": "markdown",
   "id": "informational-stephen",
   "metadata": {},
   "source": [
    "* Movimiento que enfatiza la **excelencia técnica** como clave del éxito en la construcción de productos software.\n",
    "* Nace como respuesta a:\n",
    "   * Ingenieros de software que se centran más en el aprendizaje de nuevos frameworks y herramientas en lugar de buenas prácticas de ingeniería.\n",
    "   * La percepción de que en la industria del software se valora más el trabajo de gestión que el trabajo técnico.\n",
    "      * Se intenta ser productivo sin prestar atención a la excelencia técnica.\n",
    "\n",
    "> **No se puede ser productivo si el código sobre el que trabajamos es de baja calidad.**"
   ]
  },
  {
   "cell_type": "markdown",
   "id": "designing-logistics",
   "metadata": {},
   "source": [
    "<img src=\"img/craftsmanship.jpg\" width=\"700\">"
   ]
  },
  {
   "cell_type": "markdown",
   "id": "abandoned-fishing",
   "metadata": {},
   "source": [
    "## Libros relevantes"
   ]
  },
  {
   "cell_type": "markdown",
   "id": "concerned-caution",
   "metadata": {},
   "source": [
    "1.  Mancuso, S: *The Software Craftsman: Professionalism, Pragmatism, Pride*. Robert C. Martin Series. Prentice Hall (2014)\n",
    "\n",
    "2. McConnell, S: *Code Complete*. Pearson Education (2004)\n",
    "\n",
    "3. Martin, R. C: *Clean Code: A Handbook of Agile Software Craftsmanship*. Prentice Hall (2008)"
   ]
  },
  {
   "cell_type": "markdown",
   "id": "super-calvin",
   "metadata": {},
   "source": [
    "## Buenas prácticas de ingeniería software"
   ]
  },
  {
   "cell_type": "markdown",
   "id": "periodic-slide",
   "metadata": {},
   "source": [
    "#### Nombrado de variables"
   ]
  },
  {
   "cell_type": "markdown",
   "id": "psychological-wilderness",
   "metadata": {},
   "source": [
    "* Se puede incrementar mucho la legibilidad del código a través de variables con nombres descriptivos.\n",
    "* Es desaconsejable el uso de \"números mágicos\": números que aparecen en el código sin explicación de su significado.\n",
    "\n",
    "Compara:"
   ]
  },
  {
   "cell_type": "code",
   "execution_count": null,
   "id": "computational-moore",
   "metadata": {},
   "outputs": [],
   "source": [
    "class Employee:\n",
    "    def pay(self, amount):\n",
    "        pass\n",
    "    \n",
    "employee = Employee()\n",
    "\n",
    "employee.pay(15 * 8)"
   ]
  },
  {
   "cell_type": "code",
   "execution_count": null,
   "id": "massive-enzyme",
   "metadata": {},
   "outputs": [],
   "source": [
    "hourly_rate = 15\n",
    "\n",
    "employee.pay(hourly_rate * 8)"
   ]
  },
  {
   "cell_type": "code",
   "execution_count": null,
   "id": "driven-prescription",
   "metadata": {},
   "outputs": [],
   "source": [
    "hours_per_day = 8\n",
    "\n",
    "employee.pay(hourly_rate * hours_per_day)"
   ]
  },
  {
   "cell_type": "code",
   "execution_count": null,
   "id": "optional-relaxation",
   "metadata": {},
   "outputs": [],
   "source": [
    "total_amount = hourly_rate * hours_per_day\n",
    "\n",
    "employee.pay(total_amount)"
   ]
  },
  {
   "cell_type": "markdown",
   "id": "indoor-grade",
   "metadata": {},
   "source": [
    "#### Comentarios"
   ]
  },
  {
   "cell_type": "markdown",
   "id": "infectious-adult",
   "metadata": {
    "tags": []
   },
   "source": [
    "* Los comentarios son positivos para facilitar la comprensión del código, pero pueden perjudicar si se hace mal uso de ellos.\n",
    "* Un comentario no debería usarse para explicar código ilegible. La solución es reescribir el código para que sea más legible.\n",
    "* Los comentarios tienen el peligro de que pueden quedarse obsoletos y mentir acerca del código.\n",
    "\n",
    "> **La única verdad acerca de un sistema software reside en el código fuente**.\n",
    "\n",
    "Tipos de comentarios a evitar:"
   ]
  },
  {
   "cell_type": "markdown",
   "id": "cardiovascular-hometown",
   "metadata": {},
   "source": [
    "**Comentarios con información inapropiada**\n",
    "\n",
    "* Es conveniente evitar comentarios que contengan información que se puede proporcionar fácilmente a través de otro medio.\n",
    "* Este tipo de comentarios es difícil de mantener."
   ]
  },
  {
   "cell_type": "code",
   "execution_count": null,
   "id": "recreational-adrian",
   "metadata": {},
   "outputs": [],
   "source": [
    "# Employee class.\n",
    "# History of changes.\n",
    "# 2021-02-23 - Pablo Pérez - implementation of pay method\n",
    "# 2021-02-27 - Eva López - refactoring: split pay method in two.\n",
    "# ....\n",
    "\n",
    "class Employee:\n",
    "    pass"
   ]
  },
  {
   "cell_type": "markdown",
   "id": "present-savage",
   "metadata": {},
   "source": [
    "**Comentario obsoleto**\n",
    "\n",
    "* Cuando un comentario se queda obsoleto, miente y confunde en lugar de ayudar.\n",
    "* Siempre que veamos un comentario obsoleto, lo mejor es eliminarlo, o al menos tratar de actualizarlo."
   ]
  },
  {
   "cell_type": "code",
   "execution_count": null,
   "id": "empty-expansion",
   "metadata": {},
   "outputs": [],
   "source": [
    "# Esta variable almacena el número total de empleados en la empresa\n",
    "empleados_con_contrato_parcial = 32"
   ]
  },
  {
   "cell_type": "markdown",
   "id": "eleven-hands",
   "metadata": {},
   "source": [
    "**Comentario redundante**\n",
    "\n",
    "* Los comentarios no deben repetir lo que ya diga el código de manera clara.\n",
    "* Suelen aparecer cuando los comentarios son requeridos por algún tipo de convención o guía de estilo."
   ]
  },
  {
   "cell_type": "code",
   "execution_count": null,
   "id": "intermediate-column",
   "metadata": {},
   "outputs": [],
   "source": [
    "i = 0\n",
    "i += 1  # Incrementa i \n",
    "\n",
    "# Esta función devuelve el número de empleados\n",
    "def obtener_numero_empleados():\n",
    "    pass"
   ]
  },
  {
   "cell_type": "markdown",
   "id": "unlike-diploma",
   "metadata": {
    "tags": []
   },
   "source": [
    "**Comentario mal escrito**\n",
    "\n",
    "* Los comentarios ocupan espacio en el código. Cuando escribamos uno, debemos esforzarnos en que sea el mejor comentario que podamos escribir: bien redactado y sin faltas de ortografía."
   ]
  },
  {
   "cell_type": "markdown",
   "id": "controlled-calculation",
   "metadata": {},
   "source": [
    "**Código comentado**\n",
    "\n",
    "* Debemos evitar dejar código comentado.\n",
    "* El sistema de control de versiones recuerda todos los estados en los cuales nuestro código ha estado en el pasado.\n",
    "* El código comentado se hace más y más irrelevante conforme pasa el tiempo."
   ]
  },
  {
   "cell_type": "markdown",
   "id": "threatened-flooring",
   "metadata": {},
   "source": [
    "#### Separación vertical"
   ]
  },
  {
   "cell_type": "markdown",
   "id": "minimal-investigator",
   "metadata": {},
   "source": [
    "* Es importante que las variables se declaren cerca de su primer uso y no tengan una vida de cientos de líneas.\n",
    "* Evitar declarar todas las variables al inicio de una función.\n",
    "    * Da la sensación de que todas las variables se usan durante toda la función, lo cual no tiene porque ser cierto.\n",
    "* Cuando los usos de una variable están separados, modificaciones en el medio pueden introducir errores."
   ]
  },
  {
   "cell_type": "markdown",
   "id": "careful-marijuana",
   "metadata": {},
   "source": [
    "#### Funciones"
   ]
  },
  {
   "cell_type": "markdown",
   "id": "enhanced-mumbai",
   "metadata": {},
   "source": [
    "* Es conveniente escribir funciones *cohesivas*:\n",
    "   * Cortas.\n",
    "   * Enfocadas a realizar solo una labor, no muchas.\n",
    "   * Nombres descriptivos.\n",
    "   * Pocos parámetros."
   ]
  },
  {
   "cell_type": "markdown",
   "id": "hispanic-massage",
   "metadata": {},
   "source": [
    "**Responsabilidad única**\n",
    "\n",
    "Compara:"
   ]
  },
  {
   "cell_type": "code",
   "execution_count": null,
   "id": "nasty-chase",
   "metadata": {},
   "outputs": [],
   "source": [
    "def print_expenses():\n",
    "    for expense in expenses:\n",
    "        expensesStr = \"\"\n",
    "        if((expense.type == \"Breakfast\" and expense.amount >= 15) or (expense.type == \"Dinner\" and expense.amount >= 30)):\n",
    "            expenseStr += \"X | \"\n",
    "        expenseStr += (expense.type + \" | \" + expense.description + \" | \" + expense.amount)\n",
    "        print(expenseStr)"
   ]
  },
  {
   "cell_type": "code",
   "execution_count": null,
   "id": "static-export",
   "metadata": {},
   "outputs": [],
   "source": [
    "def is_overage(expense):\n",
    "    return (expense.type == \"Breakfast\" and expense.amount >= 15) or (expense.type == \"Dinner\" and expense.amount >= 30)\n",
    "\n",
    "overage_symbol = \"X\"\n",
    "\n",
    "def print_expense(expense):\n",
    "    print(expense.type + \" | \" + expense.description + \" | \" + expense.amount)\n",
    "    \n",
    "def print_expenses():\n",
    "    for expense in expenses:\n",
    "        if(is_overage(expense)):\n",
    "            print(overage_symbol + \" | \")\n",
    "        print_expense(expense)"
   ]
  },
  {
   "cell_type": "markdown",
   "id": "elegant-ethernet",
   "metadata": {},
   "source": [
    "**Número de parámetros**\n",
    "\n",
    "Cuando una función tiene muchos parámetros:\n",
    "\n",
    "* Alto coste de mantenimiento:\n",
    "   * Cualquier modificación de la lista de parámetros impacta a todos los que llaman a la función.\n",
    "* Difícil lectura:\n",
    "   * Entender tanto la firma de la función como cualquier llamada a la función requiere mucho esfuerzo mental.\n",
    "   \n",
    "¿Cual es estas dos invocaciones a función es más fácil de entender?"
   ]
  },
  {
   "cell_type": "code",
   "execution_count": null,
   "id": "dirty-pursuit",
   "metadata": {},
   "outputs": [],
   "source": [
    "payment_service.deliver_pay_to(employee)\n",
    "\n",
    "payment_service.deliver_pay_to(employee, \"H_Emp\", \"SW Dept\", 2150, True, False)"
   ]
  },
  {
   "cell_type": "markdown",
   "id": "thermal-playlist",
   "metadata": {},
   "source": [
    "**Parámetros booleanos**\n",
    "\n",
    "* Es conveniente evitar (en la medida de lo posible) los parámetros booleanos.\n",
    "* Las funciones que reciben parámetros booleanos suelen hacer dos cosas: una para el caso 'True' y otra para el caso 'False'\n",
    "* Suele ser mejor dividir la función en dos que hagan sólo una cosa cada una.\n",
    "\n",
    "Compara:"
   ]
  },
  {
   "cell_type": "code",
   "execution_count": null,
   "id": "married-banana",
   "metadata": {},
   "outputs": [],
   "source": [
    "def print_invoice(include_conditions):\n",
    "    # ... Code to print invoice ...\n",
    "    if(include_conditions):\n",
    "        print_conditions()\n",
    "\n",
    "# Invocaciones a la función        \n",
    "\n",
    "print_invoice(True)\n",
    "print_invoice(False)"
   ]
  },
  {
   "cell_type": "code",
   "execution_count": null,
   "id": "passive-hometown",
   "metadata": {},
   "outputs": [],
   "source": [
    "def print_invoice():\n",
    "    # ... Code to print invoice ...\n",
    "    \n",
    "def print_invoice_with_conditions():\n",
    "    print_invoice()\n",
    "    print_conditions()\n",
    "    \n",
    "# Invocaciones a las funciones\n",
    "    \n",
    "print_invoice_with_conditions()\n",
    "print_invoice()"
   ]
  },
  {
   "cell_type": "markdown",
   "id": "final-repair",
   "metadata": {},
   "source": [
    "#### Encapsulación de condicionales"
   ]
  },
  {
   "cell_type": "markdown",
   "id": "small-resolution",
   "metadata": {},
   "source": [
    "* Cuando una condición es compleja, es conveniente encapsularla en una función para hacer el código más legible.\n",
    "\n",
    "Compara:"
   ]
  },
  {
   "cell_type": "code",
   "execution_count": null,
   "id": "detected-employer",
   "metadata": {},
   "outputs": [],
   "source": [
    "if printer != None and len(jobs_queue) > 0 and printer.get_status() != 2:\n",
    "    # Print something"
   ]
  },
  {
   "cell_type": "code",
   "execution_count": null,
   "id": "guided-manufacturer",
   "metadata": {},
   "outputs": [],
   "source": [
    "if printer_is_ready():\n",
    "    # Print something"
   ]
  },
  {
   "cell_type": "markdown",
   "id": "japanese-associate",
   "metadata": {},
   "source": [
    "* Al encapsular condiciones, trata de evitar siempre nombres negativos. Expresar la negación de una función con nombre negativo (doble negación) es poco legible.\n",
    "\n",
    "Compara:"
   ]
  },
  {
   "cell_type": "code",
   "execution_count": null,
   "id": "raising-webster",
   "metadata": {},
   "outputs": [],
   "source": [
    "if not printer_is_not_ready():\n",
    "    # Do something"
   ]
  },
  {
   "cell_type": "code",
   "execution_count": null,
   "id": "numerical-scheme",
   "metadata": {},
   "outputs": [],
   "source": [
    "if printer_is_ready():\n",
    "    # Do something"
   ]
  },
  {
   "cell_type": "markdown",
   "id": "suitable-incident",
   "metadata": {},
   "source": [
    "#### Argumentos selectores"
   ]
  },
  {
   "cell_type": "markdown",
   "id": "several-closer",
   "metadata": {},
   "source": [
    "* Evita argumentos que se utilicen para indicar desde fuera lo que una función debe hacer internamente.\n",
    "* Los argumentos selectores:\n",
    "   * Rompen la encapsulación de la función.\n",
    "   * Son indicativos de que la función lleva a cabo más de una labor.\n",
    "   * Tienden a generar nombres ambiguos.\n",
    "\n",
    "Compara:"
   ]
  },
  {
   "cell_type": "code",
   "execution_count": null,
   "id": "theoretical-worry",
   "metadata": {},
   "outputs": [],
   "source": [
    "class Car:\n",
    "    def do_action(self, action):\n",
    "        if action == \"Start\":\n",
    "            # Code to start car.\n",
    "        elif action == \"Stop\":\n",
    "            # Code to stop car.\n",
    "        else:\n",
    "            # Other action"
   ]
  },
  {
   "cell_type": "code",
   "execution_count": null,
   "id": "attached-criterion",
   "metadata": {},
   "outputs": [],
   "source": [
    "class Car:\n",
    "    def start(self):\n",
    "        # Code to start car.\n",
    "        \n",
    "    def stop(self):\n",
    "        # Code to stop car."
   ]
  },
  {
   "cell_type": "markdown",
   "id": "focused-relation",
   "metadata": {},
   "source": [
    "* Las funciones con muchas condiciones anidadas son difíciles de modificar sin introducir errores. Es más sencillo añadir nuevas funciones y dejar las que existen sin modificar."
   ]
  },
  {
   "cell_type": "markdown",
   "id": "italian-charles",
   "metadata": {},
   "source": [
    "#### Duplicación de código"
   ]
  },
  {
   "cell_type": "markdown",
   "id": "diverse-blend",
   "metadata": {},
   "source": [
    "* El código duplicado introduce dificultades de mantenimiento.\n",
    "    * Cuando queremos actualizarlo, hay que modificar todas las partes donde el código duplicado aparece, lo que es costoso y propenso a erorres.\n",
    "    \n",
    "* Es conveniente crear abstracciones (variables, funciones o clases) para eliminar el código duplicado.\n",
    "\n",
    "Compara:"
   ]
  },
  {
   "cell_type": "code",
   "execution_count": null,
   "id": "joint-blogger",
   "metadata": {},
   "outputs": [],
   "source": [
    "def print_expenses():\n",
    "    for expense in expenses:\n",
    "        if(expense.is_overage()):\n",
    "            print(\"X | \" + expense.type + \" | \" + expense.description + \" | \" + expense.amount)\n",
    "        print(expense.type + \" | \" + expense.description + \" | \" + expense.amount)"
   ]
  },
  {
   "cell_type": "code",
   "execution_count": null,
   "id": "relative-renaissance",
   "metadata": {},
   "outputs": [],
   "source": [
    "def expense_to_string(expense):\n",
    "    return expense.type + \" | \" + expense.description + \" | \" + expense.amount\n",
    "\n",
    "def print_expenses():\n",
    "    for expense in expenses:\n",
    "        if(expense.is_overage()):\n",
    "            print(\"X | \" + expense_to_string(expense))\n",
    "        print(expense_to_string(expense))"
   ]
  },
  {
   "cell_type": "markdown",
   "id": "cooked-cornwall",
   "metadata": {},
   "source": [
    "#### Consistencia"
   ]
  },
  {
   "cell_type": "markdown",
   "id": "binding-transcript",
   "metadata": {},
   "source": [
    "* Sé consistente. Cuando hagas algo de una forma, hazlo siempre de la misma forma.\n",
    "* No hacerlo introduce complejidad innecesaria.\n",
    "* Al programar, especialmente al hacerlo en equipo, es importante definir una guía de estilo y seguirla en la medida de lo posible.\n",
    "\n",
    "Compara:"
   ]
  },
  {
   "cell_type": "code",
   "execution_count": null,
   "id": "angry-omaha",
   "metadata": {},
   "outputs": [],
   "source": [
    "class EmployeeRegistry:\n",
    "    def add_employee(self, employee):\n",
    "        pass\n",
    "    \n",
    "    def emp_remove(self, id):\n",
    "        pass\n",
    "    \n",
    "    def _findEmp(self, id):\n",
    "        pass"
   ]
  },
  {
   "cell_type": "code",
   "execution_count": null,
   "id": "better-patent",
   "metadata": {},
   "outputs": [],
   "source": [
    "class EmployeeRegistry:\n",
    "    def add_employee(self, employee):\n",
    "        pass\n",
    "    \n",
    "    def remove_employee(self, id):\n",
    "        pass\n",
    "    \n",
    "    def find_employee(self, id):\n",
    "        pass"
   ]
  },
  {
   "cell_type": "markdown",
   "id": "authorized-survivor",
   "metadata": {},
   "source": [
    "#### Preferencia polimorfismo sobre sentencias condicionales"
   ]
  },
  {
   "cell_type": "markdown",
   "id": "alive-receptor",
   "metadata": {},
   "source": [
    "* Normalmente, sentencias condicionales que se utilizan para seleccionar el tipo de un objeto se pueden reemplazar por polimorfismo.\n",
    "\n",
    "Compara:"
   ]
  },
  {
   "cell_type": "code",
   "execution_count": null,
   "id": "tough-sellers",
   "metadata": {},
   "outputs": [],
   "source": [
    "def calculate_area(figures):\n",
    "    for figure in figures:\n",
    "        if figure.type == \"Circle\":\n",
    "            calculate_circle_area(figure)\n",
    "        elif figure.type == \"Rectangle\":\n",
    "            calculate_rectangle_area(figure)\n",
    "        else:\n",
    "            calculate_triangle_area(figure)"
   ]
  },
  {
   "cell_type": "code",
   "execution_count": null,
   "id": "stupid-purchase",
   "metadata": {},
   "outputs": [],
   "source": [
    "def calculate_area(figures):\n",
    "    for figure in figures:\n",
    "        figure.calculate_area()"
   ]
  },
  {
   "cell_type": "markdown",
   "id": "intelligent-monroe",
   "metadata": {},
   "source": [
    "En este ejemplo, podríamos tener una clase *Figure* y subclases para los diferentes tipos de figuras."
   ]
  }
 ],
 "metadata": {
  "kernelspec": {
   "display_name": "Python 3",
   "language": "python",
   "name": "python3"
  },
  "language_info": {
   "codemirror_mode": {
    "name": "ipython",
    "version": 3
   },
   "file_extension": ".py",
   "mimetype": "text/x-python",
   "name": "python",
   "nbconvert_exporter": "python",
   "pygments_lexer": "ipython3",
   "version": "3.9.2"
  }
 },
 "nbformat": 4,
 "nbformat_minor": 5
}
