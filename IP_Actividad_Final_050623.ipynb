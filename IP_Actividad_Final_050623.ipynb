{
 "cells": [
  {
   "cell_type": "markdown",
   "id": "final-comparison",
   "metadata": {},
   "source": [
    "<img src=\"img/viu_logo.png\" width=\"200\"><img src=\"img/python_logo.png\" width=\"250\"> *Mario Cervera*"
   ]
  },
  {
   "cell_type": "markdown",
   "id": "differential-valley",
   "metadata": {},
   "source": [
    "# Introducción a la Programación - Actividad Final"
   ]
  },
  {
   "cell_type": "markdown",
   "id": "handled-spanking",
   "metadata": {
    "tags": []
   },
   "source": [
    "El fichero *grafo.txt* define un grafo dirigido ponderado. Cada fila del fichero contiene tres items separados entre sí por un espacio. Estos tres items definen una arista y su peso. Por ejemplo, la fila \"a b 2\" define una arista *(a, b)*, cuyo peso es 2, y donde *a* y *b* son nodos del grafo. La arista tiene *a* como origen y *b* como destino."
   ]
  },
  {
   "cell_type": "markdown",
   "id": "sufficient-female",
   "metadata": {},
   "source": [
    "1.1. Crea una clase *Arista* que represente una arista del grafo, con su nodo origen, su nodo destino y su peso. La clase debe sobreescribir el operador que permite que las instancias de la clase puedan representarse apropiadamente en formato *string*. Añade documentación a la clase."
   ]
  },
  {
   "cell_type": "code",
   "execution_count": 129,
   "outputs": [
    {
     "name": "stdout",
     "output_type": "stream",
     "text": [
      "Origen: A -> Destino: B (Peso: 5)\n"
     ]
    }
   ],
   "source": [
    "class Arista:\n",
    "    #Inicializamos como parametros de entrada el origen, destino y peso\n",
    "    def __init__(self,origen,destino,peso):\n",
    "        self.origen = origen\n",
    "        self.destino = destino\n",
    "        self.peso = peso\n",
    "    #Representamos el grafo en formato string\n",
    "    def __str__(self):\n",
    "        return f\"Origen: {self.origen} -> Destino: {self.destino} (Peso: {self.peso})\"\n",
    "#Instanciamos la clase arista e imprimimos su representacion\n",
    "a = Arista(\"A\",\"B\",5)\n",
    "print(a)"
   ],
   "metadata": {
    "collapsed": false,
    "ExecuteTime": {
     "start_time": "2023-06-05T19:45:21.217556Z",
     "end_time": "2023-06-05T19:45:21.232098Z"
    }
   }
  },
  {
   "cell_type": "markdown",
   "id": "clear-infection",
   "metadata": {},
   "source": [
    "1.2. Crea una clase abstracta *Grafo* que represente un grafo, pero sin proporcionar detalles sobre su representación en memoria. Esta clase abstracta contendrá un constructor que recibirá un parámetro: la ruta a un fichero de texto, de donde la clase *Grafo* podrá extraer la definición del grafo. La clase, al ser abstracta, no puede crear el grafo, pero sí puede procesar el fichero y usar un método *anyadir_arista*. Este método es abstracto y su responsabilidad es añadir una arista al grafo. En este ejercicio, debéis añadir también a la clase *Grafo* otro método abstracto *contiene_arista* que permita comprobar la presencia de una arista en el grafo. Ambos métodos recibirán un objeto *Arista* como parámetro. Añade documentación a la clase."
   ]
  },
  {
   "cell_type": "code",
   "execution_count": 134,
   "outputs": [],
   "source": [
    "from abc import ABC, abstractmethod\n",
    "class Grafo:\n",
    "    def __init__(self,ruta_fichero):\n",
    "        self.ruta_fichero = ruta_fichero\n",
    "    #Metodo para extraer la definicion del grafo\n",
    "    def procesar_fichero(self,data):\n",
    "        with open(self.ruta_fichero) as mi_fichero:\n",
    "            for linea in mi_fichero:\n",
    "                origen,destino, peso = linea.split()\n",
    "                arista = Arista(origen,destino,peso)\n",
    "                if peso !=0:\n",
    "                    self.anyadir_arista(arista)\n",
    "    #Metodo abstracto para añadir arista\n",
    "    @abstractmethod\n",
    "    def anyadir_arista(self,arista):\n",
    "        pass\n",
    "    #Metodo abstracto para verificar si el grafo contiene la arista\n",
    "    @abstractmethod\n",
    "    def contiene_arista(self,arista):\n",
    "        pass"
   ],
   "metadata": {
    "collapsed": false,
    "ExecuteTime": {
     "start_time": "2023-06-05T20:00:48.405683Z",
     "end_time": "2023-06-05T20:00:48.410872Z"
    }
   }
  },
  {
   "cell_type": "markdown",
   "id": "native-width",
   "metadata": {
    "tags": []
   },
   "source": [
    "1.3. Crea una subclase *GrafoListasAdyacencia*. Esta clase representa un tipo específico de grafo cuya representación en memoria es a través de listas de adyacencia. La clase *GrafoListasAdyacencia* debe implementar el método *anyadir_arista* de manera que, cada vez que éste es invocado, se añada una arista a las listas de adyacencia. La invocación repetida de *anyadir_arista*, por lo tanto, irá creando las listas de adyacencia de manera incremental. La clase deberá también implementar el método *contiene_arista*. Añade documentación a la clase.\n",
    "\n",
    "Nota: observad que en las listas de adyacencia no debéis almacenar objetos de tipo *Arista*, ya que esto crearía duplicación innecesaria de información en memoria.\n",
    "\n",
    "Ejemplo de uso de la clase:\n",
    "- arista = Arista('d', 'a', 1)\n",
    "- grafo = GrafoListasAdyacencia(\"grafo.txt\")\n",
    "- grafo.contiene_arista(arista) # Devolverá True"
   ]
  },
  {
   "cell_type": "code",
   "execution_count": 141,
   "outputs": [
    {
     "name": "stdout",
     "output_type": "stream",
     "text": [
      "/------Representacion en memoria--------------------------------------------/\n",
      "*Origen N: [('destino 1',Peso 1').......('destino N',Peso N)]\n",
      "\n",
      "\n",
      "a: [('b', 1), ('c', 3)]\n",
      "b: [('e', 3)]\n",
      "c: [('a', 2), ('d', 1)]\n",
      "d: [('a', 1), ('e', 2), ('f', 1)]\n",
      "e: [('c', 3), ('f', 4)]\n",
      "f: [('g', 1)]\n",
      "g: [('b', 2)]\n"
     ]
    },
    {
     "data": {
      "text/plain": "True"
     },
     "execution_count": 141,
     "metadata": {},
     "output_type": "execute_result"
    }
   ],
   "source": [
    "class GrafoListasAdyacencia(Grafo):\n",
    "    def __init__(self,ruta_fichero):\n",
    "        super().__init__(ruta_fichero)\n",
    "        self.lista_adyacencia={}\n",
    "        self.procesar_fichero(self.lista_adyacencia)\n",
    "        self.data = self.lista_adyacencia\n",
    "\n",
    "    def anyadir_arista(self,arista):\n",
    "        origen = arista.origen\n",
    "        destino = arista.destino\n",
    "        peso = int(arista.peso)\n",
    "\n",
    "        #Si el nodo origen no se encuentra en lista se agrega tupla con destino y peso\n",
    "        if origen in self.lista_adyacencia:\n",
    "            self.lista_adyacencia[origen].append((destino,peso))\n",
    "        else:\n",
    "            self.lista_adyacencia[origen] = [(destino,peso)]\n",
    "\n",
    "    def contiene_arista(self,arista):\n",
    "        origen = arista.origen\n",
    "        destino = arista.destino\n",
    "        peso = arista.peso\n",
    "        #Recorremos cada elemento (tupla) de la lista  para verificar\n",
    "        #si existe el origen y destino con el peso ingresado\n",
    "        if origen in self.lista_adyacencia:\n",
    "            adyacentes = self.lista_adyacencia[origen]\n",
    "            for adyacente in adyacentes:\n",
    "                if adyacente[0] ==destino and adyacente[1] == peso:\n",
    "                    return True\n",
    "        return False\n",
    "\n",
    "    def imprimir(self):\n",
    "        print(\"/------Representacion en memoria--------------------------------------------/\")\n",
    "        print(\"*Origen N: [('destino 1',Peso 1').......('destino N',Peso N)]\");\n",
    "        print(\"\\n\")\n",
    "        for vertice in self.data:\n",
    "             adyacentes = self.data[vertice]\n",
    "             print(f\"{vertice}: {adyacentes}\")\n",
    "\n",
    "arista = Arista('d', 'a', 1) #Instanciamos objeto Arista\n",
    "grafo = GrafoListasAdyacencia('res/grafo.txt') #Instanciamos Clase Grafo\n",
    "grafo.imprimir() #Imprime Representacion en memoria de la lista de adyacencia\n",
    "grafo.contiene_arista(arista) #Ejecutamos metodo que comprueba si el grafo contiene arista"
   ],
   "metadata": {
    "collapsed": false,
    "ExecuteTime": {
     "start_time": "2023-06-05T20:15:11.801079Z",
     "end_time": "2023-06-05T20:15:11.810005Z"
    }
   }
  },
  {
   "cell_type": "markdown",
   "id": "arabic-casino",
   "metadata": {},
   "source": [
    "1.4. Crea una subclase *GrafoMatrizAdyacencia*. Esta clase representa un tipo específico de grafo cuya representación en memoria es a través de una matriz de adyacencia. La clase *GrafoMatrizAdyacencia* implementará el método *anyadir_arista* de manera que se cree la matriz de adyacencia de manera apropiada. Una matriz de adyacencia es una matriz cuadrada que indica, para cada par de nodos, si son adyacentes o no. Más formalmente, dado un grafo con nodos *U = { u<sub>1</sub>, u<sub>2</sub>, ..., u<sub>n</sub> }*, la matriz de adyacencia es una matriz *n x n* donde un elemento *A<sub>ij</sub>* de la matriz es *X* cuando el grafo posee una arista del nodo *u<sub>i</sub>* al nodo *u<sub>j</sub>* con peso *X*, y 0 cuando no existe tal arista o tiene peso 0.\n",
    "\n",
    "Nota: para este ejercicio, podéis asumir que se sabe de antemano (es decir, antes de procesar el fichero) que el grafo tiene 7 nodos: 'a', 'b', 'c', 'd', 'e', 'f' y 'g'.\n",
    "\n",
    "Ejemplo de uso de la clase:\n",
    "- arista = Arista('d', 'a', 1)\n",
    "- grafo = GrafoMatrizAdyacencia(\"grafo.txt\")\n",
    "- grafo.contiene_arista(arista) # Devolverá True"
   ]
  },
  {
   "cell_type": "code",
   "execution_count": 142,
   "outputs": [
    {
     "name": "stdout",
     "output_type": "stream",
     "text": [
      "\ta\tb\tc\td\te\tf\tg\t\n",
      "a\t0\tX\tX\tX\t0\t0\t0\t\n",
      "b\tX\t0\t0\t0\tX\t0\tX\t\n",
      "c\tX\t0\t0\tX\tX\t0\t0\t\n",
      "d\tX\t0\tX\t0\tX\tX\t0\t\n",
      "e\t0\tX\tX\tX\t0\tX\t0\t\n",
      "f\t0\t0\t0\tX\tX\t0\tX\t\n",
      "g\t0\tX\t0\t0\t0\tX\t0\t\n"
     ]
    },
    {
     "data": {
      "text/plain": "True"
     },
     "execution_count": 142,
     "metadata": {},
     "output_type": "execute_result"
    }
   ],
   "source": [
    "class GrafoMatrizAdyacencia(Grafo):\n",
    "    def __init__(self,ruta_fichero):\n",
    "        super().__init__(ruta_fichero)\n",
    "        #Antes de procesar asumimos que el grafo tiene 7 nodos 'a','b','c','d','e','f','g'\n",
    "        self.nodos = ['a', 'b', 'c', 'd', 'e', 'f', 'g']\n",
    "        self.num_nodos = len(self.nodos)\n",
    "        #Definimos el tamaño de la matriz de adyacencia\n",
    "        self.matriz_adyacencia = [[0] * self.num_nodos for _ in range(self.num_nodos)]\n",
    "        #Ejecutamos el metodo de clase que procesara el fichero\n",
    "        self.procesar_fichero(self.matriz_adyacencia)\n",
    "        self.data = self.matriz_adyacencia\n",
    "\n",
    "    def anyadir_arista(self, arista):\n",
    "        origen = arista.origen\n",
    "        destino = arista.destino\n",
    "        peso = int(arista.peso)\n",
    "        if origen not in self.nodos or destino not in self.nodos:\n",
    "            print(\"Error: Nodo(s) no válido(s).\")\n",
    "            return\n",
    "\n",
    "        indice_origen = self.nodos.index(origen)\n",
    "        indice_destino = self.nodos.index(destino)\n",
    "        #Se establece con \"X\" los elementos de la matriz donde el grafo posee una arista\n",
    "        #con un determinado peso, caso contrario se deja en 0 donde no exista tal arista\n",
    "        self.matriz_adyacencia[indice_origen][indice_destino] = (\"X\",peso)\n",
    "        self.matriz_adyacencia[indice_destino][indice_origen] = (\"X\",peso)\n",
    "\n",
    "    def contiene_arista(self,arista):\n",
    "        origen = arista.origen\n",
    "        destino = arista.destino\n",
    "        peso = arista.peso\n",
    "\n",
    "        indice_origen = self.nodos.index(origen)\n",
    "        indice_destino = self.nodos.index(destino)\n",
    "\n",
    "        if self.matriz_adyacencia[indice_origen][indice_destino] == (\"X\",peso):\n",
    "            return True\n",
    "        return  False\n",
    "\n",
    "\n",
    "    def imprimir(self):\n",
    "        # Titulo de Filas y Columnas de la matriz NxN\n",
    "        titulos_filas = ['a', 'b', 'c', 'd', 'e', 'f','g']\n",
    "        titulos_columnas = ['a', 'b', 'c', 'd', 'e', 'f','g']\n",
    "\n",
    "        # Imprimir títulos de las columnas\n",
    "        print(\"\\t\", end=\"\")\n",
    "        for titulo_col in titulos_columnas:\n",
    "            print(titulo_col, end=\"\\t\")\n",
    "        print()\n",
    "\n",
    "        # Imprimir contenido de la matriz que contenga X y 0 que definen la adyacencia\n",
    "        # de los nodos del grafo\n",
    "        for i, fila in enumerate(self.data):\n",
    "            print(titulos_filas[i], end=\"\\t\")\n",
    "            for elemento in fila:\n",
    "                if isinstance(elemento, tuple) and elemento[0] == \"X\":\n",
    "                    print(elemento[0], end=\"\\t\")\n",
    "                else:\n",
    "                    print(str(elemento), end=\"\\t\")\n",
    "            print()\n",
    "\n",
    "arista = Arista('d', 'a', 1) #Instanciamos la clase Arista\n",
    "grafo = GrafoMatrizAdyacencia('res/grafo.txt') #Instanciamos la clase Grafo\n",
    "grafo.imprimir() #Imprimimos representacion general de la matriz de adyacencia\n",
    "grafo.contiene_arista(arista) #Ejecutamos metodo para comprobar si existe arista en grafo"
   ],
   "metadata": {
    "collapsed": false,
    "ExecuteTime": {
     "start_time": "2023-06-05T20:17:16.867084Z",
     "end_time": "2023-06-05T20:17:16.886472Z"
    }
   }
  },
  {
   "cell_type": "markdown",
   "id": "strange-blink",
   "metadata": {},
   "source": [
    "1.5. Crea una función que, dado un grafo y una arista, compruebe si la arista existe en el grafo y muestre un mensaje apropiado por pantalla en cualquier caso. Utiliza esta función para comprobar la existencia/ausencia de varias aristas en una instancia de un grafo basado en listas de adyacencia y también en un grafo basado en matriz de adyacencia. El resultado debería ser el mismo en ambos casos, ya que la existencia o ausencia de una arista en un grafo no depende de cómo el grafo está representado internamente."
   ]
  },
  {
   "cell_type": "code",
   "execution_count": 149,
   "outputs": [],
   "source": [
    "#Funcion para comprobar la existencia/ausencia de una arista determinada en el grafo\n",
    "def comprobar(grafo,arista):\n",
    "    origen= arista.origen\n",
    "    destino = arista.destino\n",
    "    peso = arista.peso\n",
    "    result=grafo.contiene_arista(arista)\n",
    "    if result==True:\n",
    "        print(f\"Arista: {origen}(Origen)->{destino}(Destino), Peso:{peso} : Existe en Grafo \\u2713\" )\n",
    "    else:\n",
    "        print(f\"Arista: {origen}(Origen)->{destino}(Destino), Peso:{peso} : No Existe en Grafo\" )\n",
    "\n",
    "#Instancia basado en lista de adyacencia\n",
    "grafoListaAdyacencia = GrafoListasAdyacencia('res/grafo.txt')\n",
    "\n",
    "#Instancia basado en Matriz de adyacencia\n",
    "grafoMatrizAdyacencia = GrafoMatrizAdyacencia('res/grafo.txt')\n",
    "Aristas=[ Arista('d', 'a', 1) ,\n",
    "          Arista('f', 'g', 1) ,\n",
    "          Arista('d', 'e', 2) ,\n",
    "          Arista('g', 'e', 8) ,\n",
    "          Arista('d', 'f', 1) ,\n",
    "          Arista('c', 'b', 2) ,\n",
    "          Arista('f', 'a', 8) ,\n",
    "          Arista('d', 'e', 1)]\n"
   ],
   "metadata": {
    "collapsed": false,
    "ExecuteTime": {
     "start_time": "2023-06-05T20:23:20.430870Z",
     "end_time": "2023-06-05T20:23:20.445451Z"
    }
   }
  },
  {
   "cell_type": "code",
   "execution_count": 150,
   "outputs": [
    {
     "name": "stdout",
     "output_type": "stream",
     "text": [
      "/---------Resultado - Grafo basado en lista de adyacencia--------/\n",
      "Arista: d(Origen)->a(Destino), Peso:1 : Existe en Grafo ✓\n",
      "Arista: f(Origen)->g(Destino), Peso:1 : Existe en Grafo ✓\n",
      "Arista: d(Origen)->e(Destino), Peso:2 : Existe en Grafo ✓\n",
      "Arista: g(Origen)->e(Destino), Peso:8 : No Existe en Grafo\n",
      "Arista: d(Origen)->f(Destino), Peso:1 : Existe en Grafo ✓\n",
      "Arista: c(Origen)->b(Destino), Peso:2 : No Existe en Grafo\n",
      "Arista: f(Origen)->a(Destino), Peso:8 : No Existe en Grafo\n",
      "Arista: d(Origen)->e(Destino), Peso:1 : No Existe en Grafo\n",
      "\n",
      "\n"
     ]
    }
   ],
   "source": [
    "#Comprobamos existencia de aristas en Grafo basado en Lista de adyacencia\n",
    "print(\"/---------Resultado - Grafo basado en lista de adyacencia--------/\")\n",
    "for arista in Aristas:\n",
    "    comprobar(grafoListaAdyacencia,arista)\n",
    "print(\"\\n\")\n"
   ],
   "metadata": {
    "collapsed": false,
    "ExecuteTime": {
     "start_time": "2023-06-05T20:23:21.948170Z",
     "end_time": "2023-06-05T20:23:21.959329Z"
    }
   }
  },
  {
   "cell_type": "code",
   "execution_count": 151,
   "outputs": [
    {
     "name": "stdout",
     "output_type": "stream",
     "text": [
      "/---------Resultado - Grafo basado en matriz de adyacencia--------/\n",
      "Arista: d(Origen)->a(Destino), Peso:1 : Existe en Grafo ✓\n",
      "Arista: f(Origen)->g(Destino), Peso:1 : Existe en Grafo ✓\n",
      "Arista: d(Origen)->e(Destino), Peso:2 : Existe en Grafo ✓\n",
      "Arista: g(Origen)->e(Destino), Peso:8 : No Existe en Grafo\n",
      "Arista: d(Origen)->f(Destino), Peso:1 : Existe en Grafo ✓\n",
      "Arista: c(Origen)->b(Destino), Peso:2 : No Existe en Grafo\n",
      "Arista: f(Origen)->a(Destino), Peso:8 : No Existe en Grafo\n",
      "Arista: d(Origen)->e(Destino), Peso:1 : No Existe en Grafo\n"
     ]
    }
   ],
   "source": [
    "#Comprobamos existencia de aristas en Grafo basado en Matriz de adyacencia\n",
    "print(\"/---------Resultado - Grafo basado en matriz de adyacencia--------/\")\n",
    "for arista in Aristas:\n",
    "    comprobar(grafoMatrizAdyacencia,arista)"
   ],
   "metadata": {
    "collapsed": false,
    "ExecuteTime": {
     "start_time": "2023-06-05T20:23:23.943818Z",
     "end_time": "2023-06-05T20:23:23.974891Z"
    }
   }
  },
  {
   "cell_type": "code",
   "execution_count": null,
   "outputs": [],
   "source": [],
   "metadata": {
    "collapsed": false
   }
  }
 ],
 "metadata": {
  "kernelspec": {
   "display_name": "Python 3 (ipykernel)",
   "language": "python",
   "name": "python3"
  },
  "language_info": {
   "codemirror_mode": {
    "name": "ipython",
    "version": 3
   },
   "file_extension": ".py",
   "mimetype": "text/x-python",
   "name": "python",
   "nbconvert_exporter": "python",
   "pygments_lexer": "ipython3",
   "version": "3.11.2"
  }
 },
 "nbformat": 4,
 "nbformat_minor": 5
}
