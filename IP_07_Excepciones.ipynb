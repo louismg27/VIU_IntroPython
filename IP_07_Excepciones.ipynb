{
 "cells": [
  {
   "cell_type": "markdown",
   "id": "frozen-emergency",
   "metadata": {},
   "source": [
    "<img src=\"img/viu_logo.png\" width=\"200\"><img src=\"img/python_logo.png\" width=\"250\"> *Mario Cervera*"
   ]
  },
  {
   "cell_type": "markdown",
   "id": "according-reputation",
   "metadata": {},
   "source": [
    "# Excepciones"
   ]
  },
  {
   "cell_type": "markdown",
   "id": "covered-generic",
   "metadata": {},
   "source": [
    "* Las excepciones son eventos que representan situaciones excepcionales.\n",
    "* Alteran el flujo de ejecución convencional.\n",
    "* Python lanza excepciones automáticamente cuando se producen errores.\n",
    "* El programador puede lanzar excepciones de manera explícita y también capturar excepciones para actuar como se crea conveniente."
   ]
  },
  {
   "cell_type": "markdown",
   "id": "intermediate-appeal",
   "metadata": {},
   "source": [
    "#### Try/except\n",
    "\n",
    "* Permite capturar excepciones y actuar en consecuencia.\n",
    "\n",
    "Ejemplo: error de acceso fuera de rango."
   ]
  },
  {
   "cell_type": "code",
   "execution_count": null,
   "id": "controversial-provincial",
   "metadata": {},
   "outputs": [],
   "source": [
    "lista = [6, 1, 0, 5]\n",
    "lista[4]\n",
    "print('Código tras el error')"
   ]
  },
  {
   "cell_type": "code",
   "execution_count": null,
   "id": "forward-developer",
   "metadata": {},
   "outputs": [],
   "source": [
    "lista = [6, 1, 0, 5]\n",
    "try:\n",
    "    lista[4]\n",
    "except IndexError:\n",
    "    print('He capturado la excepción de tipo IndexError')\n",
    "    \n",
    "print('Código tras el bloque try')"
   ]
  },
  {
   "cell_type": "markdown",
   "id": "cleared-array",
   "metadata": {},
   "source": [
    "* Normalmente, al capturar excepciones, querremos ser lo más específicos posible, pero también se puedes usar una sentencia *try-except* que capture cualquier error."
   ]
  },
  {
   "cell_type": "code",
   "execution_count": null,
   "id": "banned-application",
   "metadata": {},
   "outputs": [],
   "source": [
    "try:\n",
    "    4/0\n",
    "except:\n",
    "    print('He capturado la división por cero')"
   ]
  },
  {
   "cell_type": "markdown",
   "id": "packed-authorization",
   "metadata": {},
   "source": [
    "#### Try/finally\n",
    "\n",
    "* A través de *finally* podemos especificar código que queremos que se ejecute siempre (independientemente de si se produce la excepción o no).\n",
    "* Se suele usar para liberar recursos."
   ]
  },
  {
   "cell_type": "code",
   "execution_count": null,
   "id": "complex-sheep",
   "metadata": {},
   "outputs": [],
   "source": [
    "lista = [6, 1, 0, 5]\n",
    "\n",
    "try:\n",
    "    lista[2]\n",
    "    # lista[4]\n",
    "finally:\n",
    "    print('Bloque finally')\n",
    "\n",
    "print('Código tras el bloque try')"
   ]
  },
  {
   "cell_type": "markdown",
   "id": "expected-potter",
   "metadata": {},
   "source": [
    "#### raise\n",
    "\n",
    "* La sentencia *raise* nos permite lanzar excepciones de manera explícita."
   ]
  },
  {
   "cell_type": "code",
   "execution_count": null,
   "id": "major-suite",
   "metadata": {},
   "outputs": [],
   "source": [
    "lista = [6, 1, 0, 5]\n",
    "indice = 4\n",
    "\n",
    "#try:\n",
    "\n",
    "if indice >= len(lista):\n",
    "    raise IndexError('Índice fuera de rango')\n",
    "\n",
    "#except IndexError:\n",
    "#    print('Excepción de tipo IndexError capturada')"
   ]
  },
  {
   "cell_type": "markdown",
   "id": "congressional-webmaster",
   "metadata": {},
   "source": [
    "## Ejercicios"
   ]
  },
  {
   "cell_type": "markdown",
   "id": "curious-filename",
   "metadata": {},
   "source": [
    "1. Escribir un programa que pida un valor numérico X al usuario. Para ello podéis hacer uso de la función predefinida 'input'. El programa deberá mostrar por pantalla el resultado de la división 10/X. En caso de que el usuario introduzca valores no apropiados, el programa deberá gestionar correctamente las excepciones, por ejemplo, mostrando mensajes informativos por pantalla.\n",
    "\n",
    "2. Escribir un programa que cree un *diccionario* cualquiera. Posteriormente, el programa pedirá al usuario (a través de la función predefinida 'input') que introduzca una clave del diccionario. Si la clave introducida es correcta (es decir, existe en el diccionario), el programa mostrará por pantalla el valor asociado a dicha clave. En caso de que la clave no exista, el programa gestionará de manera apropiada el error, por ejemplo, mostrando un mensaje informativo al usuario."
   ]
  },
  {
   "cell_type": "markdown",
   "id": "neutral-lodge",
   "metadata": {},
   "source": [
    "## Soluciones"
   ]
  },
  {
   "cell_type": "code",
   "execution_count": 2,
   "id": "corporate-scout",
   "metadata": {
    "ExecuteTime": {
     "start_time": "2023-05-10T23:20:13.586016Z",
     "end_time": "2023-05-10T23:20:14.584680Z"
    }
   },
   "outputs": [
    {
     "name": "stdout",
     "output_type": "stream",
     "text": [
      "El valor 'a' no es numérico\n"
     ]
    }
   ],
   "source": [
    "# Ejercicio 1\n",
    "\n",
    "try:\n",
    "    x = input()\n",
    "    numero = float(x)\n",
    "    print(f\"El resultado de 10/{x} es: {10/numero}\")\n",
    "except ValueError:\n",
    "    print(f\"El valor '{x}' no es numérico\")\n",
    "except ZeroDivisionError:\n",
    "    print(\"Error: división por cero\")"
   ]
  },
  {
   "cell_type": "code",
   "execution_count": null,
   "id": "invisible-shore",
   "metadata": {},
   "outputs": [],
   "source": [
    "# Ejercicio 2\n",
    "\n",
    "notas = {'Programación': 9.5, \"Inteligencia artificial\": 7.6, \"Redes\": 5.2, \"Sistemas operativos\": 6.4}\n",
    "\n",
    "try:\n",
    "    asignatura = input(\"Introduce una asignatura\")\n",
    "    print(f\"La nota de la asignatura '{asignatura}' es: {notas[asignatura]}\")\n",
    "except KeyError:\n",
    "    print(f\"Asignatura incorrecta: {asignatura}\")"
   ]
  }
 ],
 "metadata": {
  "kernelspec": {
   "display_name": "Python 3",
   "language": "python",
   "name": "python3"
  },
  "language_info": {
   "codemirror_mode": {
    "name": "ipython",
    "version": 3
   },
   "file_extension": ".py",
   "mimetype": "text/x-python",
   "name": "python",
   "nbconvert_exporter": "python",
   "pygments_lexer": "ipython3",
   "version": "3.9.2"
  }
 },
 "nbformat": 4,
 "nbformat_minor": 5
}
