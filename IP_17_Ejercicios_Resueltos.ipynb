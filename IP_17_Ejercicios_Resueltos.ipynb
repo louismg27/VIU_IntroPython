{
 "cells": [
  {
   "cell_type": "markdown",
   "id": "hybrid-craft",
   "metadata": {},
   "source": [
    "<img src=\"img/viu_logo.png\" width=\"200\"><img src=\"img/python_logo.png\" width=\"250\"> *Mario Cervera*"
   ]
  },
  {
   "cell_type": "markdown",
   "id": "failing-distinction",
   "metadata": {},
   "source": [
    "# Ejercicios resueltos adicionales"
   ]
  },
  {
   "cell_type": "markdown",
   "id": "pretty-climate",
   "metadata": {},
   "source": [
    "1. Escribe una función que concatene dos listas alternando los elementos. Por ejemplo: para las listas [1,2,3] y ['a', 'b', 'c'], el resultado será [1, 'a', 2, 'b', 3, 'c']. Las listas pueden ser de diferente tamaño. Si este es el caso, cuando una lista se quede sin elementos, el resto de la lista resultante contendrá el resto de los elementos de la lista más larga. De qué lista se selecciona el primer elemento no es importante. Puede ser de cualquiera de las dos listas."
   ]
  },
  {
   "cell_type": "code",
   "execution_count": null,
   "id": "patent-renewal",
   "metadata": {},
   "outputs": [],
   "source": [
    "def concatenar_alternando(lista_1, lista_2):\n",
    "    resultado = []\n",
    "    \n",
    "    lista_corta, lista_larga = establecer_lista_corta_y_larga(lista_1, lista_2)\n",
    "        \n",
    "    for i in range(len(lista_corta)):\n",
    "        resultado.append(lista_corta[i])\n",
    "        resultado.append(lista_larga[i])\n",
    "        \n",
    "    for i in range(len(lista_corta), len(lista_larga)):\n",
    "        resultado.append(lista_larga[i])\n",
    "        \n",
    "    return resultado\n",
    "\n",
    "def establecer_lista_corta_y_larga(lista_1, lista_2):\n",
    "    if len(lista_1) <= len(lista_2):\n",
    "        return lista_1, lista_2\n",
    "    return lista_2, lista_1\n",
    "        \n",
    "\n",
    "print(concatenar_alternando(['a', 'b', 'c'], []))                # ['a', 'b', 'c']\n",
    "print(concatenar_alternando([], ['a', 'b', 'c']))                # ['a', 'b', 'c']\n",
    "print(concatenar_alternando([1,2,3], ['a', 'b', 'c']))           # [1, 'a', 2, 'b', 3, 'c'] \n",
    "print(concatenar_alternando([1,2,3], ['a', 'b', 'c', 'd', 'e'])) # [1, 'a', 2, 'b', 3, 'c', 'd', 'e']\n",
    "print(concatenar_alternando(['a', 'b', 'c', 'd', 'e'], [1,2,3])) # [1, 'a', 2, 'b', 3, 'c', 'd', 'e']"
   ]
  },
  {
   "cell_type": "markdown",
   "id": "wrapped-plate",
   "metadata": {},
   "source": [
    "2. Escribe una función que devuelva una lista con los primeros *n* números de Fibonacci. El número *n* será un parámetro de la función. Recuerda que los primeros 2 números de la serie de Fibonacci son el 1 y el 1. El n-ésimo número de Fibonacci puede calcularse sumando los números n-1-ésimo y n-2-ésimo. Por lo tanto, los primeros números de Fibonacci son: 1, 1, 2, 3, 5, 8, 13 ..."
   ]
  },
  {
   "cell_type": "code",
   "execution_count": null,
   "id": "collaborative-margin",
   "metadata": {},
   "outputs": [],
   "source": [
    "def fibonacci(n):\n",
    "    if n < 1:\n",
    "        return []\n",
    "    if n == 1:\n",
    "        return [1]\n",
    "    \n",
    "    resultado = [1, 1]\n",
    "    \n",
    "    for i in range(2, n):\n",
    "        resultado.append(resultado[i-1] + resultado[i-2])\n",
    "        \n",
    "    return resultado\n",
    "\n",
    "\n",
    "print(fibonacci(0))  # []\n",
    "print(fibonacci(1))  # [1] \n",
    "print(fibonacci(2))  # [1, 1]\n",
    "print(fibonacci(3))  # [1, 1, 2]\n",
    "print(fibonacci(15)) # [1, 1, 2, 3, 5, 8, 13, 21, 34, 55, 89, 144, 233, 377, 610]"
   ]
  },
  {
   "cell_type": "markdown",
   "id": "ranging-paraguay",
   "metadata": {},
   "source": [
    "3. Escribe una función que, dado un string *s* y un patrón *p* determine cuántas veces aparece dicho patrón en el string. Por ejemplo, en el string 'ABCDCDC' aparece el patrón 'CDC' 2 veces."
   ]
  },
  {
   "cell_type": "code",
   "execution_count": null,
   "id": "heavy-caution",
   "metadata": {},
   "outputs": [],
   "source": [
    "def contar_ocurrencias(s, p):\n",
    "    contador = 0\n",
    "    \n",
    "    for i in range(len(s)-len(p)+1):\n",
    "        if s[i:i+len(p)] == p:\n",
    "            contador += 1\n",
    "    \n",
    "    return contador\n",
    "\n",
    "\n",
    "print(contar_ocurrencias('', ''))              # 1\n",
    "print(contar_ocurrencias('', 'AA'))            # 0\n",
    "print(contar_ocurrencias('A', 'AA'))           # 0\n",
    "print(contar_ocurrencias('ABCDCDC', 'CDC'))    # 2\n",
    "print(contar_ocurrencias('ABCDCDCDCA', 'CDC')) # 3\n",
    "print(contar_ocurrencias('AAA', 'A'))          # 3\n",
    "print(contar_ocurrencias('AAA', 'B'))          # 0\n",
    "print(contar_ocurrencias('AAA', 'B'))          # 0"
   ]
  },
  {
   "cell_type": "markdown",
   "id": "parental-interval",
   "metadata": {},
   "source": [
    "4. Escribe una función que reciba una lista de números y un número *n*. La función debe determinar si algún par de números de la lista suman *n* y devolver *True* en ese caso. La función devolverá *False* en caso contrario. La lista no puede contener duplicados."
   ]
  },
  {
   "cell_type": "code",
   "execution_count": null,
   "id": "given-concord",
   "metadata": {},
   "outputs": [],
   "source": [
    "# Solución 1.\n",
    "\n",
    "def contiene_suma(lista, n):\n",
    "    for i in range(len(lista)-1):\n",
    "        for j in range(i+1,len(lista)):\n",
    "            if lista[i] + lista[j] == n:\n",
    "                return True\n",
    "    return False\n",
    "\n",
    "\n",
    "print(contiene_suma([], 1))           # False\n",
    "print(contiene_suma([1], 1))          # False\n",
    "print(contiene_suma([1,2,3,4], 7))    # True\n",
    "print(contiene_suma([1,2,3,4], 8))    # False\n",
    "print(contiene_suma([1,-2,3,4], -1))  # True\n",
    "print(contiene_suma([1,-2,3,4], -2))  # False\n",
    "print(contiene_suma([1,-2,3,2], 0))   # True\n",
    "print(contiene_suma([1,-2,-3,2], -5)) # True"
   ]
  },
  {
   "cell_type": "code",
   "execution_count": null,
   "id": "meaningful-romantic",
   "metadata": {},
   "outputs": [],
   "source": [
    "# Solución 2.\n",
    "# Más eficiente, ya que no itera todos los pares de elementos.\n",
    "# Esta solución se basa en que la búsqueda en conjuntos es muy rápida y también en la observación de que si N = X + Y entonces Y = N - X.\n",
    "\n",
    "def contiene_suma(lista, n):\n",
    "    conjunto_numeros = set(lista)\n",
    "    for numero in lista:\n",
    "        numero_a_buscar = n - numero\n",
    "        if numero_a_buscar != numero and numero_a_buscar in conjunto_numeros:\n",
    "            return True\n",
    "    return False\n",
    "\n",
    "\n",
    "print(contiene_suma([], 1))           # False\n",
    "print(contiene_suma([1], 1))          # False\n",
    "print(contiene_suma([1,2,3,4], 7))    # True\n",
    "print(contiene_suma([1,2,3,4], 8))    # False\n",
    "print(contiene_suma([1,-2,3,4], -1))  # True\n",
    "print(contiene_suma([1,-2,3,4], -2))  # False\n",
    "print(contiene_suma([1,-2,3,2], 0))   # True\n",
    "print(contiene_suma([1,-2,-3,2], -5)) # True"
   ]
  },
  {
   "cell_type": "markdown",
   "id": "beneficial-kingdom",
   "metadata": {},
   "source": [
    "5. Escribe una función que reciba dos objetos de tipo *int*: un número entero positivo *n* y un dígito (es decir, un número del 0 al 9). La función debe comprobar si el dígito está contenido en el número *n*. Por ejemplo, dado el número *12345*, la función devolverá *True* para el dígito *3* y *False* para el dígito *6*. Para resolver este ejercicio, no está permitido hacer conversiones entre tipos (*castings*)."
   ]
  },
  {
   "cell_type": "code",
   "execution_count": null,
   "id": "genuine-supplement",
   "metadata": {},
   "outputs": [],
   "source": [
    "def contiene_digito(numero, digito):\n",
    "    while numero > 0:\n",
    "        if numero % 10 == digito:\n",
    "            return True\n",
    "        numero //= 10\n",
    "    return False\n",
    "\n",
    "\n",
    "print(contiene_digito(12345, 3)) # True\n",
    "print(contiene_digito(12345, 6)) # False"
   ]
  }
 ],
 "metadata": {
  "kernelspec": {
   "display_name": "Python 3",
   "language": "python",
   "name": "python3"
  },
  "language_info": {
   "codemirror_mode": {
    "name": "ipython",
    "version": 3
   },
   "file_extension": ".py",
   "mimetype": "text/x-python",
   "name": "python",
   "nbconvert_exporter": "python",
   "pygments_lexer": "ipython3",
   "version": "3.9.2"
  }
 },
 "nbformat": 4,
 "nbformat_minor": 5
}
