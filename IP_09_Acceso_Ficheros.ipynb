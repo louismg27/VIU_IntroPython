{
 "cells": [
  {
   "cell_type": "markdown",
   "id": "veterinary-graham",
   "metadata": {},
   "source": [
    "<img src=\"img/viu_logo.png\" width=\"200\"><img src=\"img/python_logo.png\" width=\"250\"> *Mario Cervera*"
   ]
  },
  {
   "cell_type": "markdown",
   "id": "enhanced-boxing",
   "metadata": {},
   "source": [
    "# Acceso a ficheros"
   ]
  },
  {
   "cell_type": "markdown",
   "id": "maritime-scope",
   "metadata": {},
   "source": [
    "## Ficheros"
   ]
  },
  {
   "cell_type": "markdown",
   "id": "european-thickness",
   "metadata": {},
   "source": [
    "* *File* es un tipo de objeto predefinido en Python (*built-in*).\n",
    "* Permite acceder a ficheros desde programas Python.\n",
    "* Los ficheros son de un tipo especial:\n",
    "    * Son *built-in*, pero no son ni *números*, ni *secuencias*, ni *mappings*. Tampoco responden a operadores en expresiones.\n",
    "* La función *open* permite crear objetos de tipo fichero."
   ]
  },
  {
   "cell_type": "markdown",
   "id": "numerous-arctic",
   "metadata": {},
   "source": [
    "## Acceso para Lectura"
   ]
  },
  {
   "cell_type": "markdown",
   "id": "regulated-arena",
   "metadata": {},
   "source": [
    "Formato general para abrir un fichero:\n",
    "\n",
    "```\n",
    "afile = open(filename, mode)\n",
    "```\n",
    "\n",
    "* *mode* es opcional. Por defecto, los ficheros se abren en modo lectura.\n",
    "* Los datos leidos de un fichero siempre se obtienen en formato *string*. Lo mismo ocurre con escritura.\n",
    "* Los ficheros se deben cerrar invocando *close* (liberación de recursos)."
   ]
  },
  {
   "cell_type": "code",
   "execution_count": null,
   "id": "identical-editor",
   "metadata": {},
   "outputs": [],
   "source": [
    "# Lectura desde fichero usando método 'read'. Devuelve todo el contenido del fichero.\n",
    "\n",
    "mi_fichero = open('res/UnaLinea.txt')\n",
    "print(mi_fichero.read())\n",
    "mi_fichero.close()"
   ]
  },
  {
   "cell_type": "code",
   "execution_count": null,
   "id": "liberal-challenge",
   "metadata": {},
   "outputs": [],
   "source": [
    "# Lectura linea a linea a través del bucle 'for'.\n",
    "mi_fichero = open('res/VariasLineas.txt')\n",
    "for linea in mi_fichero:\n",
    "    print(linea, end= '')\n",
    "mi_fichero.close()"
   ]
  },
  {
   "cell_type": "code",
   "execution_count": null,
   "id": "broadband-hunter",
   "metadata": {},
   "outputs": [],
   "source": [
    "# leer de un archivo a una lista.\n",
    "mi_fichero = open('res/VariasLineas.txt')\n",
    "lineas = mi_fichero.readlines()\n",
    "mi_fichero.close()\n",
    "\n",
    "print(lineas)"
   ]
  },
  {
   "cell_type": "markdown",
   "id": "variable-advance",
   "metadata": {},
   "source": [
    "* *close* autómatico con sentencia *with.* Esta es la forma habitual de leer de fichero en Python."
   ]
  },
  {
   "cell_type": "code",
   "execution_count": null,
   "id": "female-public",
   "metadata": {},
   "outputs": [],
   "source": [
    "with open('res/VariasLineas.txt') as mi_fichero:\n",
    "    for linea in mi_fichero:\n",
    "        print(linea, end= '')"
   ]
  },
  {
   "cell_type": "markdown",
   "id": "genuine-sitting",
   "metadata": {},
   "source": [
    "* Se puede abrir varios ficheros en un mismo *with*."
   ]
  },
  {
   "cell_type": "code",
   "execution_count": null,
   "id": "appreciated-costs",
   "metadata": {},
   "outputs": [],
   "source": [
    "#abrir varios ficheros en el mismo with\n",
    "ruta1 = 'res/UnaLinea.txt'\n",
    "ruta2 = 'res/VariasLineas.txt'\n",
    "with open(ruta1) as fichero1, open(ruta2) as fichero2:\n",
    "    print(fichero1.readlines())\n",
    "    print(fichero2.readlines())"
   ]
  },
  {
   "cell_type": "markdown",
   "id": "sudden-contest",
   "metadata": {},
   "source": [
    "## Modos de acceso"
   ]
  },
  {
   "cell_type": "markdown",
   "id": "shared-coaching",
   "metadata": {},
   "source": [
    "* Al crear un objeto de tipo *File* se puede espeficiar el modo de acceso (lectura/escritura).\n",
    "\n",
    "| Modo Acceso | Descripción |\n",
    "|:---------|:-----|\n",
    "| r | Solo Lectura |\n",
    "| w | Solo Escritura (Borra si el archivo ya existe) |\n",
    "| x | Solo Escritura (Falla si el archivo ya existe) |\n",
    "| a | Crea Fichero (Si existe lo abre y se añade al final) |\n",
    "| r+ | Lectura y Escritura |"
   ]
  },
  {
   "cell_type": "markdown",
   "id": "natural-cabin",
   "metadata": {},
   "source": [
    "## Acceso para escritura"
   ]
  },
  {
   "cell_type": "code",
   "execution_count": null,
   "id": "consolidated-insurance",
   "metadata": {},
   "outputs": [],
   "source": [
    "def crear_lista(tamanyo):\n",
    "    lista = []\n",
    "    for i in range(tamanyo):\n",
    "        lista.append(str(i) + '\\n')\n",
    "    return lista\n",
    "\n",
    "with open('res/FicheroParaEscritura.txt', 'w') as fichero:\n",
    "    fichero.write('Cabecera\\n')\n",
    "    lista = crear_lista(10)\n",
    "    fichero.writelines(lista)"
   ]
  },
  {
   "cell_type": "markdown",
   "id": "indoor-might",
   "metadata": {},
   "source": [
    "#### Buffering"
   ]
  },
  {
   "cell_type": "markdown",
   "id": "exposed-virtue",
   "metadata": {},
   "source": [
    "* Por defecto, el texto que transfieres desde tu programa a un fichero no se guarda en disco inmediatamente. Se almacena en un buffer.\n",
    "* Acciones como cerrar un fichero o invocar el método **flush** fuerzan que se transfiera el contenido del buffer a disco."
   ]
  },
  {
   "cell_type": "code",
   "execution_count": null,
   "id": "executed-basics",
   "metadata": {},
   "outputs": [],
   "source": [
    "ruta = 'res/FicheroParaEscritura.txt'\n",
    "fichero_write = open(ruta, 'w')\n",
    "fichero_write.write('foo')\n",
    "\n",
    "fichero_read = open(ruta, \"r\")\n",
    "print(fichero_read.readlines())\n",
    "\n",
    "fichero_write.flush()\n",
    "\n",
    "print(fichero_read.readlines())\n",
    "\n",
    "fichero_write.close()\n",
    "fichero_read.close()"
   ]
  },
  {
   "cell_type": "markdown",
   "id": "interstate-individual",
   "metadata": {},
   "source": [
    "## Archivos CSV"
   ]
  },
  {
   "cell_type": "markdown",
   "id": "domestic-oxygen",
   "metadata": {
    "tags": []
   },
   "source": [
    "* Python permite leer datos de ficheros CSV y también escribir ficheros en este formato.\n",
    "* Popular formato en ciencia de datos."
   ]
  },
  {
   "cell_type": "code",
   "execution_count": null,
   "id": "abroad-custom",
   "metadata": {},
   "outputs": [],
   "source": [
    "# tabla_operaciones.csv contiene valores separados por comas\n",
    "import csv\n",
    "\n",
    "with open(\"res/tabla_operaciones.csv\") as fichero:\n",
    "    data_reader = csv.reader(fichero, delimiter=',')\n",
    "    for linea in data_reader:\n",
    "        print(linea[0] + '  ----  ' + linea[1])"
   ]
  },
  {
   "cell_type": "markdown",
   "id": "dried-scratch",
   "metadata": {},
   "source": [
    "## Ejercicios"
   ]
  },
  {
   "cell_type": "markdown",
   "id": "norwegian-hybrid",
   "metadata": {},
   "source": [
    "1. Escribe una función que reciba una ruta de un fichero de texto y una cadena de caracteres a buscar y determine si la cadena aparece en el fichero.\n",
    "\n",
    "2. Escribe una función que reciba una lista, una ruta destino y un número *n*. La función debe crear un fichero en la ruta especificada. El contenido del fichero serán los primeros *n* elementos de la lista. La función debe controlar de manera apropiada los posibles valores de *n* que estén fuera de rango.\n",
    "\n",
    "3. Escribe una función que reciba una ruta de un fichero de texto devuelva un diccionario con la frecuencia de aparición de cada palabra. Ejemplo: un fichero que contenga la frase 'es mejor que venga que que no venga' devolverá el siguiente diccionario: {'es' : 1, 'mejor' : 1, 'que' : 3, 'venga' : 2, 'no' : 1}. Para dividir un string en palabras puedes hacer uso del método *split*."
   ]
  },
  {
   "cell_type": "markdown",
   "id": "enhanced-design",
   "metadata": {},
   "source": [
    "## Soluciones"
   ]
  },
  {
   "cell_type": "code",
   "execution_count": null,
   "id": "numerous-wheel",
   "metadata": {},
   "outputs": [],
   "source": [
    "# Ejercicio 1\n",
    "\n",
    "def existe_en_fichero(ruta_fichero, patron_a_buscar):\n",
    "    with open(ruta_fichero) as fichero:\n",
    "        for linea in fichero:\n",
    "            if patron_a_buscar in linea:\n",
    "                return True\n",
    "    return False\n",
    "        \n",
    "        \n",
    "print(existe_en_fichero('res/VariasLineas.txt', 'tres')) # True\n",
    "print(existe_en_fichero('res/VariasLineas.txt', 'hola')) # False"
   ]
  },
  {
   "cell_type": "code",
   "execution_count": null,
   "id": "electoral-swedish",
   "metadata": {},
   "outputs": [],
   "source": [
    "# Ejercicio 2\n",
    "\n",
    "def escribir_objetos(lista, ruta_fichero, n):\n",
    "    with open(ruta_fichero, 'w') as fichero:\n",
    "        try:\n",
    "            if(n < 0):\n",
    "                raise IndexError\n",
    "                \n",
    "            for i in range(n):\n",
    "                fichero.write(f\"{lista[i]}\\n\")\n",
    "            \n",
    "            print(f\"Fichero creado satisfactoriamente. Se escribieron {n} elementos en el fichero.\")\n",
    "        except IndexError:\n",
    "            print(f\"Acceso fuera de rango. Valor n incorrecto: {n}.\")\n",
    "            \n",
    "escribir_objetos(['a', 'b', 'c', 'd', 'e', 'f'], 'res/Ejercicio2.txt', 2)"
   ]
  },
  {
   "cell_type": "code",
   "execution_count": null,
   "id": "banned-genre",
   "metadata": {},
   "outputs": [],
   "source": [
    "# Ejercicio 3\n",
    "\n",
    "def anyadir_palabra(frecuencias, palabra):\n",
    "    if palabra in frecuencias:\n",
    "        frecuencias[palabra] += 1\n",
    "    else:\n",
    "        frecuencias[palabra] = 1\n",
    "\n",
    "def obtener_frecuencias(ruta_fichero):\n",
    "    frecuencias = {}\n",
    "    with open(ruta_fichero) as fichero:\n",
    "        for linea in fichero:\n",
    "            for palabra in linea.split():\n",
    "                anyadir_palabra(frecuencias, palabra)\n",
    "    return frecuencias\n",
    "\n",
    "obtener_frecuencias('res/Ejercicio3.txt')"
   ]
  }
 ],
 "metadata": {
  "kernelspec": {
   "display_name": "Python 3",
   "language": "python",
   "name": "python3"
  },
  "language_info": {
   "codemirror_mode": {
    "name": "ipython",
    "version": 3
   },
   "file_extension": ".py",
   "mimetype": "text/x-python",
   "name": "python",
   "nbconvert_exporter": "python",
   "pygments_lexer": "ipython3",
   "version": "3.9.2"
  }
 },
 "nbformat": 4,
 "nbformat_minor": 5
}
